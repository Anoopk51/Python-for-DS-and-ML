{
 "cells": [
  {
   "cell_type": "code",
   "execution_count": 1,
   "id": "dfff8d69-44b4-4867-808d-6b03449a6773",
   "metadata": {
    "scrolled": true
   },
   "outputs": [],
   "source": [
    "import matplotlib.pyplot as plt"
   ]
  },
  {
   "cell_type": "code",
   "execution_count": 2,
   "id": "5330b3f2-afa7-4d5f-b497-f7017699e276",
   "metadata": {},
   "outputs": [],
   "source": [
    "%matplotlib inline"
   ]
  },
  {
   "cell_type": "code",
   "execution_count": 3,
   "id": "5b67f042-0df6-425b-b99e-651eebb2f8fd",
   "metadata": {},
   "outputs": [],
   "source": [
    "import numpy as np\n",
    "x=np.linspace(0,5,11)\n",
    "y=x**2"
   ]
  },
  {
   "cell_type": "code",
   "execution_count": 4,
   "id": "dde2855e-48c4-4047-9e20-799dcf649266",
   "metadata": {},
   "outputs": [
    {
     "data": {
      "text/plain": [
       "array([0. , 0.5, 1. , 1.5, 2. , 2.5, 3. , 3.5, 4. , 4.5, 5. ])"
      ]
     },
     "execution_count": 4,
     "metadata": {},
     "output_type": "execute_result"
    }
   ],
   "source": [
    "x"
   ]
  },
  {
   "cell_type": "code",
   "execution_count": 5,
   "id": "61dcf655-cea5-49ab-827e-e218a5f0a31d",
   "metadata": {},
   "outputs": [
    {
     "data": {
      "text/plain": [
       "array([ 0.  ,  0.25,  1.  ,  2.25,  4.  ,  6.25,  9.  , 12.25, 16.  ,\n",
       "       20.25, 25.  ])"
      ]
     },
     "execution_count": 5,
     "metadata": {},
     "output_type": "execute_result"
    }
   ],
   "source": [
    "y"
   ]
  },
  {
   "cell_type": "code",
   "execution_count": 6,
   "id": "c57a28ce-c156-4792-be95-50e03e91055d",
   "metadata": {},
   "outputs": [],
   "source": [
    "#FUNCTION\n",
    "# plt.plot(x,y)\n",
    "# plt.show()"
   ]
  },
  {
   "cell_type": "code",
   "execution_count": 7,
   "id": "a73edbda-821e-4184-85c4-2bb261aeba28",
   "metadata": {},
   "outputs": [
    {
     "name": "stdout",
     "output_type": "stream",
     "text": [
      "string\n"
     ]
    }
   ],
   "source": [
    "print('string')"
   ]
  },
  {
   "cell_type": "code",
   "execution_count": 8,
   "id": "fc50ef10-cd4e-412e-92fa-d5d36a107bbd",
   "metadata": {},
   "outputs": [],
   "source": [
    "# plt.plot(x,y,'r-')\n",
    "# plt.show()"
   ]
  },
  {
   "cell_type": "code",
   "execution_count": 9,
   "id": "2b200b51-a82f-447f-963a-d33abbbd6480",
   "metadata": {},
   "outputs": [],
   "source": [
    "# plt.plot(x,y)\n",
    "# plt.xlabel('X Label')\n",
    "# plt.ylabel('Y Label')\n",
    "# plt.title('Title')\n",
    "# plt.show()"
   ]
  },
  {
   "cell_type": "code",
   "execution_count": 10,
   "id": "a2a62b44-e760-47c6-b267-c40590368809",
   "metadata": {},
   "outputs": [],
   "source": [
    "# plt.subplot(1,2,1)\n",
    "# plt.plot(x,y,'r')\n",
    "# plt.subplot(1,2,2)\n",
    "# plt.plot(y,x,'b')\n",
    "# plt.show()"
   ]
  },
  {
   "cell_type": "markdown",
   "id": "ddf73e22-613b-49df-8b31-45fbbf917357",
   "metadata": {},
   "source": [
    "# Object Oriented Methode\n"
   ]
  },
  {
   "cell_type": "code",
   "execution_count": 11,
   "id": "a355e270-b355-4e4f-8708-704335d6091b",
   "metadata": {},
   "outputs": [],
   "source": [
    "# fig=plt.figure()\n",
    "# axes=fig.add_axes([0.1,0.1,0.8,0.8])\n",
    "# axes.plot(x,y)\n",
    "# axes.set_xlabel('X Label')\n",
    "# axes.set_ylabel('Y Label')\n",
    "# plt.show()"
   ]
  },
  {
   "cell_type": "code",
   "execution_count": 12,
   "id": "3dad8406-7fb9-48b5-930c-54a2fdf9b446",
   "metadata": {},
   "outputs": [],
   "source": [
    "# fig=plt.figure()\n",
    "\n",
    "# axes1=fig.add_axes([0.1,0.1,0.8,0.8])\n",
    "# axes2=fig.add_axes([0.2,0.5,0.4,0.3])\n",
    "# plt.show()"
   ]
  },
  {
   "cell_type": "code",
   "execution_count": 13,
   "id": "155cb834-8231-4016-b1c9-21ece5edece3",
   "metadata": {},
   "outputs": [],
   "source": [
    "# fig=plt.figure()\n",
    "\n",
    "# axes1=fig.add_axes([0.1,0.1,0.8,0.8])\n",
    "# axes2=fig.add_axes([0.4,0.15,0.45,0.4])\n",
    "# plt.show()"
   ]
  },
  {
   "cell_type": "code",
   "execution_count": 14,
   "id": "f787a879-d0e6-44f4-a493-3f67b4ac5851",
   "metadata": {},
   "outputs": [],
   "source": [
    "# fig=plt.figure()\n",
    "\n",
    "# axes1=fig.add_axes([0.1,0.1,0.8,0.8])\n",
    "# axes2=fig.add_axes([0.2,0.5,0.4,0.3])\n",
    "# axes1.plot(x,y)\n",
    "# axes1.set_title('LARGER PLOT')\n",
    "# axes2.plot(y,x)\n",
    "# axes2.set_title('SMALLER PLOT')\n",
    "# plt.show()"
   ]
  },
  {
   "cell_type": "code",
   "execution_count": 15,
   "id": "4cc919d2-0f85-44ac-b7ca-c2b15e4fab26",
   "metadata": {},
   "outputs": [],
   "source": [
    "# fig=plt.figure()\n",
    "# axes1=fig.add_axes([0.1,0.1,0.8,0.8])\n",
    "# axes1.plot(x,y)\n",
    "# plt.show()"
   ]
  },
  {
   "cell_type": "markdown",
   "id": "d264d1c9-fc3c-4bf9-88f3-6cbd86578db2",
   "metadata": {},
   "source": [
    "            Matplotlib.part-2"
   ]
  },
  {
   "cell_type": "code",
   "execution_count": 16,
   "id": "8274f80b-e385-4e61-bf83-c50d72fef495",
   "metadata": {},
   "outputs": [],
   "source": [
    "# fig,axes=plt.subplots(nrows=3,ncols=3)\n",
    "# # axes.plot(x,y)\n",
    "# plt.show()"
   ]
  },
  {
   "cell_type": "code",
   "execution_count": 17,
   "id": "e153f152-713e-4af4-81fe-fb670923a090",
   "metadata": {},
   "outputs": [],
   "source": [
    "# fig,axes=plt.subplots(nrows=1,ncols=2)\n",
    "# for current_ax in axes:\n",
    "#     current_ax.plot(x,y)\n",
    "# # axes.plot(x,y)\n",
    "# plt.show()"
   ]
  },
  {
   "cell_type": "code",
   "execution_count": 18,
   "id": "29f94ee3-09bf-4c1b-b284-41fbd74fa12b",
   "metadata": {},
   "outputs": [
    {
     "ename": "NameError",
     "evalue": "name 'axes' is not defined",
     "output_type": "error",
     "traceback": [
      "\u001b[1;31m---------------------------------------------------------------------------\u001b[0m",
      "\u001b[1;31mNameError\u001b[0m                                 Traceback (most recent call last)",
      "Cell \u001b[1;32mIn[18], line 1\u001b[0m\n\u001b[1;32m----> 1\u001b[0m \u001b[43maxes\u001b[49m\n",
      "\u001b[1;31mNameError\u001b[0m: name 'axes' is not defined"
     ]
    }
   ],
   "source": [
    "axes"
   ]
  },
  {
   "cell_type": "code",
   "execution_count": null,
   "id": "426eb3a0-ded8-454b-b549-c3ae670abbbc",
   "metadata": {},
   "outputs": [],
   "source": [
    "# fig,axes=plt.subplots(nrows=1,ncols=2)\n",
    "# axes[0].plot(x,y)\n",
    "# axes[0].set_title('First Plot')\n",
    "# axes[1].plot(y,x)\n",
    "# axes[1].set_title('Second Plot')\n",
    "# plt.show()"
   ]
  },
  {
   "cell_type": "markdown",
   "id": "c8ce0a3c-a873-4793-bcce-c07b04e5df64",
   "metadata": {},
   "source": [
    "    Figure Size and DPI"
   ]
  },
  {
   "cell_type": "code",
   "execution_count": null,
   "id": "8218a90b-190b-4431-a5f9-8db2a5b6c273",
   "metadata": {},
   "outputs": [],
   "source": [
    "# fig=plt.figure(figsize=(8,2))\n",
    "# ax=fig.add_axes([0,0,1,1])\n",
    "# ax.plot(x,y)\n",
    "# plt.show()"
   ]
  },
  {
   "cell_type": "code",
   "execution_count": null,
   "id": "57419cff-4a4d-4af3-95be-b1d3655eb262",
   "metadata": {},
   "outputs": [],
   "source": [
    "# fig,axes=plt.subplots(figsize=(8,2))\n",
    "# axes.plot(x,y)\n",
    "# # ax=fig.add_axes([0,0,1,1])\n",
    "# # ax.plot(x,y)\n",
    "# plt.show()"
   ]
  },
  {
   "cell_type": "markdown",
   "id": "2b5e77a8-1c26-431a-b685-d2b77226f76f",
   "metadata": {},
   "source": [
    "    Figure Size and DPI"
   ]
  },
  {
   "cell_type": "code",
   "execution_count": 19,
   "id": "ed9e8c73-90de-4283-ade8-782b067a3d90",
   "metadata": {},
   "outputs": [],
   "source": [
    "# fig,axes=plt.subplots(nrows=2,ncols=1,figsize=(8,2))\n",
    "# axes[0].plot(x,y)\n",
    "# axes[1].plot(y,x)\n",
    "# plt.tight_layout()\n",
    "# # ax=fig.add_axes([0,0,1,1])\n",
    "# # ax.plot(x,y)\n",
    "# plt.show()"
   ]
  },
  {
   "cell_type": "code",
   "execution_count": 20,
   "id": "48a8fd3a-e554-4645-b4f9-a21e0b1efd10",
   "metadata": {},
   "outputs": [],
   "source": [
    "# fig=plt.figure()\n",
    "# ax=fig.add_axes([0,0,1,1])\n",
    "# ax.plot(x,y)\n",
    "# ax.set_title('Title')\n",
    "# ax.set_ylabel('Y')\n",
    "# ax.set_xlabel('X')\n",
    "# plt.show()"
   ]
  },
  {
   "cell_type": "code",
   "execution_count": 21,
   "id": "b015a120-72c3-4645-9684-97f0ffb717e4",
   "metadata": {},
   "outputs": [],
   "source": [
    "# fig.savfig('my_picture.png',dpi=200)"
   ]
  },
  {
   "cell_type": "code",
   "execution_count": 22,
   "id": "50322251-5f2b-4d1c-bb01-202c07e668bf",
   "metadata": {},
   "outputs": [],
   "source": [
    "# fig=plt.figure()\n",
    "# ax=fig.add_axes([0,0,1,1])\n",
    "# ax.plot(x,y)\n",
    "# ax.plot(y,x)\n",
    "# plt.show()"
   ]
  },
  {
   "cell_type": "code",
   "execution_count": 23,
   "id": "fe0678ae-4a17-48fc-8623-ddc90ff6badc",
   "metadata": {},
   "outputs": [],
   "source": [
    "# fig=plt.figure()\n",
    "# ax=fig.add_axes([0,0,1,1])\n",
    "# ax.plot(x,x**2,label='X Squared')\n",
    "# ax.plot(x,x**3,label='X Cubed')\n",
    "# # ax.plot(x,x)\n",
    "# ax.legend(loc=(0.1,0.1))\n",
    "# plt.show()"
   ]
  },
  {
   "cell_type": "markdown",
   "id": "3610b214-3adc-4347-9434-71886b8f1509",
   "metadata": {},
   "source": [
    "        Mathplotlib part-3"
   ]
  },
  {
   "cell_type": "markdown",
   "id": "18fedb21-e036-4cbf-bb25-3bf814355250",
   "metadata": {},
   "source": [
    "    Plot Appearance"
   ]
  },
  {
   "cell_type": "code",
   "execution_count": 24,
   "id": "100dddcf-242c-4ce9-9b0e-18db5027db8c",
   "metadata": {},
   "outputs": [],
   "source": [
    "# fig=plt.figure()\n",
    "# ax=fig.add_axes([0,0,1,1])\n",
    "# ax.plot(x,y,color='#FF8C00')\n",
    "# plt.show()"
   ]
  },
  {
   "cell_type": "code",
   "execution_count": null,
   "id": "072dfc14-c4f1-4341-a85e-21a680207749",
   "metadata": {},
   "outputs": [],
   "source": []
  },
  {
   "cell_type": "code",
   "execution_count": 25,
   "id": "f64aaafe-6331-4000-a4eb-e49b68736705",
   "metadata": {},
   "outputs": [],
   "source": [
    "# fig=plt.figure()\n",
    "# ax=fig.add_axes([0,0,1,1])\n",
    "# ax.plot(x,y,color='purple',linewidth=2)\n",
    "# plt.show()"
   ]
  },
  {
   "cell_type": "code",
   "execution_count": 26,
   "id": "0ffcff3a-66c1-4d1c-9d65-5b171bc6f377",
   "metadata": {},
   "outputs": [],
   "source": [
    "# fig=plt.figure()\n",
    "# ax=fig.add_axes([0,0,1,1])\n",
    "# ax.plot(x,y,color='purple',linewidth=20)\n",
    "# plt.show()"
   ]
  },
  {
   "cell_type": "code",
   "execution_count": 27,
   "id": "e9e2b457-cdf0-406e-8f46-33a07e703ae4",
   "metadata": {},
   "outputs": [],
   "source": [
    "# fig=plt.figure()\n",
    "# ax=fig.add_axes([0,0,1,1])\n",
    "# ax.plot(x,y,color='purple',linewidth=0.5)\n",
    "# plt.show()"
   ]
  },
  {
   "cell_type": "code",
   "execution_count": 28,
   "id": "de0a8a8d-00f1-4841-9953-7b8f040e5cc6",
   "metadata": {},
   "outputs": [],
   "source": [
    "# fig=plt.figure()\n",
    "# ax=fig.add_axes([0,0,1,1])\n",
    "# ax.plot(x,y,color='purple',linewidth=3,alpha=0.5)\n",
    "# plt.show()"
   ]
  },
  {
   "cell_type": "code",
   "execution_count": 29,
   "id": "c79186eb-ca26-4258-b378-a43f253f0bf7",
   "metadata": {},
   "outputs": [],
   "source": [
    "# fig=plt.figure()\n",
    "# ax=fig.add_axes([0,0,1,1])\n",
    "# ax.plot(x,y,color='purple',lw=3,linestyle='--')\n",
    "# plt.show()"
   ]
  },
  {
   "cell_type": "code",
   "execution_count": 30,
   "id": "6c072952-d7c9-42b4-a548-74825058e22d",
   "metadata": {},
   "outputs": [],
   "source": [
    "# fig=plt.figure()\n",
    "# ax=fig.add_axes([0,0,1,1])\n",
    "# ax.plot(x,y,color='purple',lw=3,linestyle='-.')\n",
    "# plt.show()"
   ]
  },
  {
   "cell_type": "code",
   "execution_count": 31,
   "id": "98186e43-3246-4441-91f0-73f519a2e01b",
   "metadata": {},
   "outputs": [],
   "source": [
    "# fig=plt.figure()\n",
    "# ax=fig.add_axes([0,0,1,1])\n",
    "# ax.plot(x,y,color='purple',lw=3,ls='--')\n",
    "# plt.show()"
   ]
  },
  {
   "cell_type": "code",
   "execution_count": 32,
   "id": "efb72b9b-6f65-429d-b885-a5bd51fcea14",
   "metadata": {},
   "outputs": [],
   "source": [
    "# fig=plt.figure()\n",
    "# ax=fig.add_axes([0,0,1,1])\n",
    "# ax.plot(x,y,color='purple',lw=3,linestyle='--',marker='o')\n",
    "# plt.show()"
   ]
  },
  {
   "cell_type": "code",
   "execution_count": 33,
   "id": "ea51591d-12c0-4026-b78f-d09e4fe19d41",
   "metadata": {},
   "outputs": [],
   "source": [
    "# fig=plt.figure()\n",
    "# ax=fig.add_axes([0,0,1,1])\n",
    "# ax.plot(x,y,color='purple',lw=0.5,ls='--',marker='1')\n",
    "# plt.show()"
   ]
  },
  {
   "cell_type": "code",
   "execution_count": 34,
   "id": "90b342ee-e329-45f8-b52c-986fb2c63a1f",
   "metadata": {},
   "outputs": [],
   "source": [
    "# fig=plt.figure()\n",
    "# ax=fig.add_axes([0,0,1,1])\n",
    "# ax.plot(x,y,color='purple',lw=0.5,ls='--',marker=1,markersize=10)\n",
    "# plt.show()"
   ]
  },
  {
   "cell_type": "code",
   "execution_count": 35,
   "id": "734b158e-13bb-4a05-a964-98daf7aa5b16",
   "metadata": {},
   "outputs": [
    {
     "data": {
      "image/png": "[encoded data removed]",
      "text/plain": [
       "<Figure size 640x480 with 1 Axes>"
      ]
     },
     "metadata": {},
     "output_type": "display_data"
    }
   ],
   "source": [
    "fig=plt.figure()\n",
    "ax=fig.add_axes([0,0,1,1])\n",
    "ax.plot(x,y,color='purple',lw=0.5,ls='--',marker='o',markersize=23,markerfacecolor='yellow',markeredgewidth=3,markeredgecolor='green')\n",
    "plt.show()"
   ]
  },
  {
   "cell_type": "code",
   "execution_count": 36,
   "id": "07cd5560-74ab-4e5b-98cf-e00d998057dd",
   "metadata": {},
   "outputs": [
    {
     "data": {
      "image/png": "[encoded data removed]",
      "text/plain": [
       "<Figure size 640x480 with 1 Axes>"
      ]
     },
     "metadata": {},
     "output_type": "display_data"
    }
   ],
   "source": [
    "fig=plt.figure()\n",
    "ax=fig.add_axes([0,0,1,1])\n",
    "ax.plot(x,y,color='purple',lw=2,ls='--')\n",
    "ax.set_xlim([0,1])\n",
    "ax.set_ylim([0,2])\n",
    "plt.show()"
   ]
  },
  {
   "cell_type": "code",
   "execution_count": null,
   "id": "7ec5901d-f0d7-4f53-9968-e07523950712",
   "metadata": {},
   "outputs": [],
   "source": []
  },
  {
   "cell_type": "code",
   "execution_count": null,
   "id": "c8c6aec0-fd6b-4694-838a-03bdcd04ffa6",
   "metadata": {},
   "outputs": [],
   "source": []
  },
  {
   "cell_type": "code",
   "execution_count": null,
   "id": "fed30ac8-196e-442c-88a9-2df06425b4ff",
   "metadata": {},
   "outputs": [],
   "source": []
  },
  {
   "cell_type": "code",
   "execution_count": null,
   "id": "1ee463bb-19c5-4051-a6d0-757b5bc565bd",
   "metadata": {},
   "outputs": [],
   "source": []
  },
  {
   "cell_type": "code",
   "execution_count": null,
   "id": "3909a7ff-a89d-4429-9a84-b6e4c447d4ae",
   "metadata": {},
   "outputs": [],
   "source": []
  },
  {
   "cell_type": "code",
   "execution_count": null,
   "id": "7ae50d66-8c0f-4aac-834d-01e2b5e924dd",
   "metadata": {},
   "outputs": [],
   "source": []
  },
  {
   "cell_type": "code",
   "execution_count": null,
   "id": "b86a544d-a2b6-4b7b-91b7-aafbabb76e8f",
   "metadata": {},
   "outputs": [],
   "source": []
  },
  {
   "cell_type": "code",
   "execution_count": null,
   "id": "0720cb86-97c3-47eb-adf3-af99c77e6b0d",
   "metadata": {},
   "outputs": [],
   "source": []
  },
  {
   "cell_type": "code",
   "execution_count": null,
   "id": "1bf02af7-6d2f-4c76-9a5d-a97ffde4a167",
   "metadata": {},
   "outputs": [],
   "source": []
  },
  {
   "cell_type": "code",
   "execution_count": null,
   "id": "a28feead-cee4-4219-87a7-abecce6f781c",
   "metadata": {},
   "outputs": [],
   "source": []
  },
  {
   "cell_type": "code",
   "execution_count": null,
   "id": "1f6c9f7e-e76f-42a3-86c5-0ec4dc768b44",
   "metadata": {},
   "outputs": [],
   "source": []
  },
  {
   "cell_type": "code",
   "execution_count": null,
   "id": "025d1ea1-5e38-490f-a34a-3c65b6e4f40b",
   "metadata": {},
   "outputs": [],
   "source": []
  },
  {
   "cell_type": "code",
   "execution_count": null,
   "id": "59db8a9f-2d00-4b05-bd6e-109d969da541",
   "metadata": {},
   "outputs": [],
   "source": []
  },
  {
   "cell_type": "code",
   "execution_count": null,
   "id": "7b05e919-b804-4bbe-ae50-49a32c46c923",
   "metadata": {},
   "outputs": [],
   "source": []
  },
  {
   "cell_type": "code",
   "execution_count": null,
   "id": "9ebb24db-d585-4dc8-8a47-21fabb5243eb",
   "metadata": {},
   "outputs": [],
   "source": []
  },
  {
   "cell_type": "code",
   "execution_count": null,
   "id": "3bab289c-1128-44c6-b13e-12877f101224",
   "metadata": {},
   "outputs": [],
   "source": []
  },
  {
   "cell_type": "code",
   "execution_count": null,
   "id": "aee16ac6-c8af-4521-ae8d-d04193dbd7ee",
   "metadata": {},
   "outputs": [],
   "source": []
  },
  {
   "cell_type": "code",
   "execution_count": null,
   "id": "89177ecc-aa61-482b-9714-bb420b507b79",
   "metadata": {},
   "outputs": [],
   "source": []
  },
  {
   "cell_type": "code",
   "execution_count": null,
   "id": "b9fcc6c2-85bd-41b1-95b5-601b078a4092",
   "metadata": {},
   "outputs": [],
   "source": []
  },
  {
   "cell_type": "code",
   "execution_count": null,
   "id": "43b50be2-1e35-4fe0-9413-2470e9a0be0d",
   "metadata": {},
   "outputs": [],
   "source": []
  },
  {
   "cell_type": "code",
   "execution_count": null,
   "id": "99261b5d-1e39-4ec8-9944-1d9220a2209a",
   "metadata": {},
   "outputs": [],
   "source": []
  },
  {
   "cell_type": "code",
   "execution_count": null,
   "id": "da1e5ab0-b073-4149-b09c-4be0e2c76622",
   "metadata": {},
   "outputs": [],
   "source": []
  },
  {
   "cell_type": "code",
   "execution_count": null,
   "id": "69f24361-387c-4792-8cf9-88983592f0c7",
   "metadata": {},
   "outputs": [],
   "source": []
  },
  {
   "cell_type": "code",
   "execution_count": null,
   "id": "95710bb7-5b24-4ce7-ab85-a657edb767a5",
   "metadata": {},
   "outputs": [],
   "source": []
  },
  {
   "cell_type": "code",
   "execution_count": null,
   "id": "eb6ab09e-a01b-4a55-89b0-9190d24bac47",
   "metadata": {},
   "outputs": [],
   "source": []
  },
  {
   "cell_type": "code",
   "execution_count": null,
   "id": "0fe3bd49-16f2-42dd-a740-aa2276a97e60",
   "metadata": {},
   "outputs": [],
   "source": [
    "\n"
   ]
  }
 ],
 "metadata": {
  "kernelspec": {
   "display_name": "Python 3 (ipykernel)",
   "language": "python",
   "name": "python3"
  },
  "language_info": {
   "codemirror_mode": {
    "name": "ipython",
    "version": 3
   },
   "file_extension": ".py",
   "mimetype": "text/x-python",
   "name": "python",
   "nbconvert_exporter": "python",
   "pygments_lexer": "ipython3",
   "version": "3.12.7"
  }
 },
 "nbformat": 4,
 "nbformat_minor": 5
}
