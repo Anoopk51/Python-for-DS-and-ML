{
 "cells": [
  {
   "cell_type": "code",
   "execution_count": 3,
   "id": "306a3ce3-5e04-4dbf-a5b9-09e18551b0af",
   "metadata": {},
   "outputs": [
    {
     "name": "stdout",
     "output_type": "stream",
     "text": [
      "hello\n"
     ]
    }
   ],
   "source": [
    "print('hello')\n"
   ]
  },
  {
   "cell_type": "code",
   "execution_count": 7,
   "id": "14eaec0b-31c2-4c8f-90b4-b98c38b88a35",
   "metadata": {},
   "outputs": [
    {
     "name": "stdout",
     "output_type": "stream",
     "text": [
      "4\n"
     ]
    }
   ],
   "source": [
    "print(1+3)\n"
   ]
  },
  {
   "cell_type": "code",
   "execution_count": 11,
   "id": "63a82055-04e5-4104-9f84-2bd40d71b0e1",
   "metadata": {},
   "outputs": [
    {
     "data": {
      "text/plain": [
       "'shift+Enter'"
      ]
     },
     "execution_count": 11,
     "metadata": {},
     "output_type": "execute_result"
    }
   ],
   "source": [
    "'shift+Enter'\n"
   ]
  },
  {
   "cell_type": "code",
   "execution_count": null,
   "id": "e0a00eee-c70c-4d13-a58f-42f3f6edc7d2",
   "metadata": {},
   "outputs": [],
   "source": []
  },
  {
   "cell_type": "code",
   "execution_count": null,
   "id": "d7f7c2f8-6694-4883-bc2f-858307a94f5e",
   "metadata": {},
   "outputs": [],
   "source": []
  }
 ],
 "metadata": {
  "kernelspec": {
   "display_name": "Python 3 (ipykernel)",
   "language": "python",
   "name": "python3"
  },
  "language_info": {
   "codemirror_mode": {
    "name": "ipython",
    "version": 3
   },
   "file_extension": ".py",
   "mimetype": "text/x-python",
   "name": "python",
   "nbconvert_exporter": "python",
   "pygments_lexer": "ipython3",
   "version": "3.12.7"
  }
 },
 "nbformat": 4,
 "nbformat_minor": 5
}
