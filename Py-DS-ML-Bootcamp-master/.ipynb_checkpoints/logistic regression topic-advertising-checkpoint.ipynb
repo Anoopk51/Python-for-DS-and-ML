{
 "cells": [
  {
   "cell_type": "code",
   "execution_count": 2,
   "id": "84137e54-5038-4c49-932b-46aae456a05a",
   "metadata": {},
   "outputs": [],
   "source": [
    "import pandas as pd\n",
    "import numpy as np\n",
    "import matplotlib.pyplot as plt\n",
    "import seaborn as sns\n",
    "%matplotlib inline"
   ]
  },
  {
   "cell_type": "code",
   "execution_count": 9,
   "id": "a9232547-23ee-43d4-ba47-f2076c9e436d",
   "metadata": {},
   "outputs": [
    {
     "ename": "SyntaxError",
     "evalue": "invalid syntax (2186886565.py, line 15)",
     "output_type": "error",
     "traceback": [
      "\u001b[1;36m  Cell \u001b[1;32mIn[9], line 15\u001b[1;36m\u001b[0m\n\u001b[1;33m    from SK learn.linear_model import Logistic Regression\u001b[0m\n\u001b[1;37m            ^\u001b[0m\n\u001b[1;31mSyntaxError\u001b[0m\u001b[1;31m:\u001b[0m invalid syntax\n"
     ]
    }
   ],
   "source": [
    "ad_data=pd.read_csv('advertising.csv')\n",
    "ad_data.head()\n",
    "ad_data.info()\n",
    "ad_data.describe()\n",
    "ad_data['Age'].plot.hist(bins=30)\n",
    "sns.jointplot(x='Age',y='Area Income',data=ad_data)\n",
    "# sns.jointplot(x='Age',y='Daily Time Spent on Site',data=ad_data)\n",
    "sns.jointplot(x='Age',y='Daily Time Spent on site',data=ad_data,kind='kde')\n",
    "sns.jointplot(x='Daily Time spent on site',y='Daily Internet usage',data=ad_data)\n",
    "sns.pairplot(ad_data,hue='clicked on Ad')\n",
    "from sklearn.cross_validation import train_test_split\n",
    "X=ad_data[['Daily Time Spent on site','Age','Area Income','Daily Internet usage','Male']]\n",
    "Y=ad_data['clicked on Ad']\n",
    "X_train,X_test,Y_train,Y_test=train_test_split(X,Y,test_size=0.3,random_state=101)\n",
    "from SK learn.linear_model import Logistic Regression\n",
    "logmodel=Logistic Regression()\n",
    "logmodel.fit(X_train,Y_train)\n",
    "prediction=logmodel.predict(x_test)\n",
    "from Sklearn.metrics import classification_report ,Confusion_Matrix\n",
    "print(Classification_report(y_test,predictions))\n",
    "print(confusion_matrix(Y_test,predictions))"
   ]
  },
  {
   "cell_type": "code",
   "execution_count": null,
   "id": "e672e2fb-6d6e-4b3d-adab-77b354a0a252",
   "metadata": {},
   "outputs": [],
   "source": []
  },
  {
   "cell_type": "code",
   "execution_count": null,
   "id": "6ad78c44-f666-4e63-b6c3-600bfbe87ac5",
   "metadata": {},
   "outputs": [],
   "source": []
  }
 ],
 "metadata": {
  "kernelspec": {
   "display_name": "Python 3 (ipykernel)",
   "language": "python",
   "name": "python3"
  },
  "language_info": {
   "codemirror_mode": {
    "name": "ipython",
    "version": 3
   },
   "file_extension": ".py",
   "mimetype": "text/x-python",
   "name": "python",
   "nbconvert_exporter": "python",
   "pygments_lexer": "ipython3",
   "version": "3.12.7"
  }
 },
 "nbformat": 4,
 "nbformat_minor": 5
}
