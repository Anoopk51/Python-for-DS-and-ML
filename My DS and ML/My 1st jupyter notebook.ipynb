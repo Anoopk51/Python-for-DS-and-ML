{
 "cells": [
  {
   "cell_type": "code",
   "execution_count": 1,
   "id": "17f5ac1b-0ccb-49c9-8669-6632017b6c8b",
   "metadata": {
    "panel-layout": {
     "height": 27.1354,
     "visible": true,
     "width": 100
    }
   },
   "outputs": [
    {
     "data": {
      "text/plain": [
       "1"
      ]
     },
     "execution_count": 1,
     "metadata": {},
     "output_type": "execute_result"
    }
   ],
   "source": [
    "1"
   ]
  },
  {
   "cell_type": "code",
   "execution_count": 2,
   "id": "9f389def-7a69-4fdf-a6c0-72da6f496d61",
   "metadata": {
    "panel-layout": {
     "height": 27.1354,
     "visible": true,
     "width": 100
    }
   },
   "outputs": [
    {
     "data": {
      "text/plain": [
       "1.0"
      ]
     },
     "execution_count": 2,
     "metadata": {},
     "output_type": "execute_result"
    }
   ],
   "source": [
    "1.0"
   ]
  },
  {
   "cell_type": "code",
   "execution_count": 3,
   "id": "d08489ee-c321-4cf9-a4f6-7aab75ea0ac0",
   "metadata": {
    "panel-layout": {
     "height": 27.1354,
     "visible": true,
     "width": 100
    }
   },
   "outputs": [
    {
     "data": {
      "text/plain": [
       "2"
      ]
     },
     "execution_count": 3,
     "metadata": {},
     "output_type": "execute_result"
    }
   ],
   "source": [
    "1+1\n"
   ]
  },
  {
   "cell_type": "code",
   "execution_count": 4,
   "id": "f0720c8a-7a23-4667-bed6-58d658e00596",
   "metadata": {
    "panel-layout": {
     "height": 27.1354,
     "visible": true,
     "width": 100
    }
   },
   "outputs": [
    {
     "data": {
      "text/plain": [
       "3"
      ]
     },
     "execution_count": 4,
     "metadata": {},
     "output_type": "execute_result"
    }
   ],
   "source": [
    "1*3"
   ]
  },
  {
   "cell_type": "code",
   "execution_count": 5,
   "id": "4628d5b0-a4af-460b-8ef0-ef22efe57335",
   "metadata": {
    "panel-layout": {
     "height": 27.1354,
     "visible": true,
     "width": 100
    }
   },
   "outputs": [
    {
     "data": {
      "text/plain": [
       "0.5"
      ]
     },
     "execution_count": 5,
     "metadata": {},
     "output_type": "execute_result"
    }
   ],
   "source": [
    "1/2"
   ]
  },
  {
   "cell_type": "code",
   "execution_count": 6,
   "id": "fa671552-e645-412d-b793-1cc95b4d94c8",
   "metadata": {
    "panel-layout": {
     "height": 27.1354,
     "visible": true,
     "width": 100
    }
   },
   "outputs": [
    {
     "data": {
      "text/plain": [
       "0.5"
      ]
     },
     "execution_count": 6,
     "metadata": {},
     "output_type": "execute_result"
    }
   ],
   "source": [
    "1/2.0"
   ]
  },
  {
   "cell_type": "code",
   "execution_count": 7,
   "id": "5e45ea3d-0e26-4356-a191-e54fd84bda78",
   "metadata": {
    "panel-layout": {
     "height": 27.1354,
     "visible": true,
     "width": 100
    }
   },
   "outputs": [
    {
     "data": {
      "text/plain": [
       "16"
      ]
     },
     "execution_count": 7,
     "metadata": {},
     "output_type": "execute_result"
    }
   ],
   "source": [
    "2**4"
   ]
  },
  {
   "cell_type": "code",
   "execution_count": 8,
   "id": "942542f1-f156-4598-9c73-3fd9ffac09d8",
   "metadata": {
    "panel-layout": {
     "height": 27.1354,
     "visible": true,
     "width": 100
    }
   },
   "outputs": [
    {
     "data": {
      "text/plain": [
       "22"
      ]
     },
     "execution_count": 8,
     "metadata": {},
     "output_type": "execute_result"
    }
   ],
   "source": [
    "2+3*5+5"
   ]
  },
  {
   "cell_type": "code",
   "execution_count": 9,
   "id": "25c9e645-62a3-4807-90ae-8d25505f252e",
   "metadata": {
    "panel-layout": {
     "height": 27.1354,
     "visible": true,
     "width": 100
    }
   },
   "outputs": [
    {
     "data": {
      "text/plain": [
       "50"
      ]
     },
     "execution_count": 9,
     "metadata": {},
     "output_type": "execute_result"
    }
   ],
   "source": [
    "(2+3)*(5+5)"
   ]
  },
  {
   "cell_type": "code",
   "execution_count": 10,
   "id": "e98e1043-cc12-467d-b028-30b45b93bbe2",
   "metadata": {
    "panel-layout": {
     "height": 27.1354,
     "visible": true,
     "width": 100
    }
   },
   "outputs": [
    {
     "data": {
      "text/plain": [
       "0"
      ]
     },
     "execution_count": 10,
     "metadata": {},
     "output_type": "execute_result"
    }
   ],
   "source": [
    "4%4"
   ]
  },
  {
   "cell_type": "code",
   "execution_count": 11,
   "id": "3fe9c7da-9474-49b5-adfa-9f9dea0f478b",
   "metadata": {
    "panel-layout": {
     "height": 27.1354,
     "visible": true,
     "width": 100
    }
   },
   "outputs": [
    {
     "data": {
      "text/plain": [
       "0"
      ]
     },
     "execution_count": 11,
     "metadata": {},
     "output_type": "execute_result"
    }
   ],
   "source": [
    "4%2"
   ]
  },
  {
   "cell_type": "code",
   "execution_count": 12,
   "id": "b0664806-8981-41cf-b0be-e9a379f85056",
   "metadata": {
    "panel-layout": {
     "height": 27.1354,
     "visible": true,
     "width": 100
    }
   },
   "outputs": [
    {
     "data": {
      "text/plain": [
       "1"
      ]
     },
     "execution_count": 12,
     "metadata": {},
     "output_type": "execute_result"
    }
   ],
   "source": [
    "5%2"
   ]
  },
  {
   "cell_type": "code",
   "execution_count": 13,
   "id": "836a4420-4c31-4a16-9c73-580e1562a133",
   "metadata": {
    "panel-layout": {
     "height": 27.1354,
     "visible": true,
     "width": 100
    }
   },
   "outputs": [
    {
     "data": {
      "text/plain": [
       "0"
      ]
     },
     "execution_count": 13,
     "metadata": {},
     "output_type": "execute_result"
    }
   ],
   "source": [
    "8%2"
   ]
  },
  {
   "cell_type": "code",
   "execution_count": 14,
   "id": "e11faee5-7a99-4eb7-abf7-bc11610c258f",
   "metadata": {
    "panel-layout": {
     "height": 27.1354,
     "visible": true,
     "width": 100
    }
   },
   "outputs": [
    {
     "data": {
      "text/plain": [
       "2"
      ]
     },
     "execution_count": 14,
     "metadata": {},
     "output_type": "execute_result"
    }
   ],
   "source": [
    "var = 2\n",
    "var"
   ]
  },
  {
   "cell_type": "code",
   "execution_count": 15,
   "id": "7f77edc9-5026-4447-8b00-d6dcdffdfc60",
   "metadata": {},
   "outputs": [],
   "source": [
    "x=2\n",
    "y=3"
   ]
  },
  {
   "cell_type": "code",
   "execution_count": 16,
   "id": "ff09a010-9fe5-4392-9868-a609417ea2f5",
   "metadata": {
    "panel-layout": {
     "height": 27.1354,
     "visible": true,
     "width": 100
    }
   },
   "outputs": [
    {
     "data": {
      "text/plain": [
       "5"
      ]
     },
     "execution_count": 16,
     "metadata": {},
     "output_type": "execute_result"
    }
   ],
   "source": [
    "x+y"
   ]
  },
  {
   "cell_type": "code",
   "execution_count": 17,
   "id": "818b84b9-0477-4ad7-b1a9-a53513d9143c",
   "metadata": {},
   "outputs": [],
   "source": [
    "x=x+x"
   ]
  },
  {
   "cell_type": "code",
   "execution_count": 18,
   "id": "52568d3d-6d9d-4a1a-856b-a5d27d2be2ef",
   "metadata": {
    "panel-layout": {
     "height": 27.1354,
     "visible": true,
     "width": 100
    }
   },
   "outputs": [
    {
     "data": {
      "text/plain": [
       "4"
      ]
     },
     "execution_count": 18,
     "metadata": {},
     "output_type": "execute_result"
    }
   ],
   "source": [
    "x"
   ]
  },
  {
   "cell_type": "code",
   "execution_count": 19,
   "id": "9a8260cd-59ca-4ff9-9e1e-883f02af3f49",
   "metadata": {},
   "outputs": [],
   "source": [
    "x=x+x"
   ]
  },
  {
   "cell_type": "code",
   "execution_count": 20,
   "id": "98d8b560-ed9e-43cd-8f72-dd6208ef7114",
   "metadata": {
    "panel-layout": {
     "height": 27.1354,
     "visible": true,
     "width": 100
    }
   },
   "outputs": [
    {
     "data": {
      "text/plain": [
       "8"
      ]
     },
     "execution_count": 20,
     "metadata": {},
     "output_type": "execute_result"
    }
   ],
   "source": [
    "x"
   ]
  },
  {
   "cell_type": "code",
   "execution_count": 25,
   "id": "17a52d0d-ebb1-4ac1-bc2e-02cf68dd8d28",
   "metadata": {},
   "outputs": [],
   "source": [
    "name_of_var=12"
   ]
  },
  {
   "cell_type": "code",
   "execution_count": 26,
   "id": "a6d2e26e-eb65-4886-960a-18b3afb13a42",
   "metadata": {},
   "outputs": [],
   "source": [
    "#strings "
   ]
  },
  {
   "cell_type": "code",
   "execution_count": 7,
   "id": "f2c55fe2-6a00-4f4d-bf74-e6c84bcef185",
   "metadata": {
    "panel-layout": {
     "height": 51.1354,
     "visible": true,
     "width": 100
    }
   },
   "outputs": [
    {
     "data": {
      "text/plain": [
       "'single qoute'"
      ]
     },
     "execution_count": 7,
     "metadata": {},
     "output_type": "execute_result"
    }
   ],
   "source": [
    "'single qoute'"
   ]
  },
  {
   "cell_type": "code",
   "execution_count": 8,
   "id": "243eaaf6-71ca-4e72-91a6-23c2f4425c36",
   "metadata": {
    "panel-layout": {
     "height": 51.1354,
     "visible": true,
     "width": 100
    }
   },
   "outputs": [
    {
     "data": {
      "text/plain": [
       "'this is a string'"
      ]
     },
     "execution_count": 8,
     "metadata": {},
     "output_type": "execute_result"
    }
   ],
   "source": [
    "\"this is a string\""
   ]
  },
  {
   "cell_type": "code",
   "execution_count": 9,
   "id": "37240342-79e9-47bf-b2ad-8651603b6570",
   "metadata": {
    "panel-layout": {
     "height": 51.1354,
     "visible": true,
     "width": 100
    }
   },
   "outputs": [
    {
     "data": {
      "text/plain": [
       "\"I can't go\""
      ]
     },
     "execution_count": 9,
     "metadata": {},
     "output_type": "execute_result"
    }
   ],
   "source": [
    "\"I can't go\""
   ]
  },
  {
   "cell_type": "code",
   "execution_count": 10,
   "id": "8c17c40d-9898-4711-92bf-5b3cc1fcd366",
   "metadata": {},
   "outputs": [],
   "source": [
    "x='hello'"
   ]
  },
  {
   "cell_type": "code",
   "execution_count": 11,
   "id": "384c4ee0-9162-4822-aca1-31241a51a3bc",
   "metadata": {
    "panel-layout": {
     "height": 51.1354,
     "visible": true,
     "width": 100
    }
   },
   "outputs": [
    {
     "data": {
      "text/plain": [
       "'hello'"
      ]
     },
     "execution_count": 11,
     "metadata": {},
     "output_type": "execute_result"
    }
   ],
   "source": [
    "x"
   ]
  },
  {
   "cell_type": "code",
   "execution_count": 12,
   "id": "032b8be4-d22c-40f6-bd59-9a4952e06cdb",
   "metadata": {
    "panel-layout": {
     "height": 0,
     "visible": true,
     "width": 100
    }
   },
   "outputs": [
    {
     "name": "stdout",
     "output_type": "stream",
     "text": [
      "hello\n"
     ]
    }
   ],
   "source": [
    "print(x)"
   ]
  },
  {
   "cell_type": "code",
   "execution_count": 13,
   "id": "67e037e8-eede-4e04-801f-7f6f30e34d9e",
   "metadata": {},
   "outputs": [],
   "source": [
    "num=12\n",
    "name='Sam'"
   ]
  },
  {
   "cell_type": "code",
   "execution_count": 14,
   "id": "1046941f-bf39-4f70-ace8-be0c5f6f29fe",
   "metadata": {
    "panel-layout": {
     "height": 51.1354,
     "visible": true,
     "width": 100
    }
   },
   "outputs": [
    {
     "data": {
      "text/plain": [
       "'My number is 12 and my name is Sam'"
      ]
     },
     "execution_count": 14,
     "metadata": {},
     "output_type": "execute_result"
    }
   ],
   "source": [
    "'My number is {} and my name is {}'.format(num,name)"
   ]
  },
  {
   "cell_type": "code",
   "execution_count": 15,
   "id": "0ff07722-fa9a-41a0-a531-91d3cda27cde",
   "metadata": {
    "panel-layout": {
     "height": 0,
     "visible": true,
     "width": 100
    }
   },
   "outputs": [
    {
     "name": "stdout",
     "output_type": "stream",
     "text": [
      "My number is 12 and my name is Sam\n"
     ]
    }
   ],
   "source": [
    "print('My number is {} and my name is {}'.format(num,name))"
   ]
  },
  {
   "cell_type": "code",
   "execution_count": 16,
   "id": "864523cf-71d8-4216-be95-95dd8796c1e4",
   "metadata": {
    "panel-layout": {
     "height": 0,
     "visible": true,
     "width": 100
    }
   },
   "outputs": [
    {
     "name": "stdout",
     "output_type": "stream",
     "text": [
      "My number is 12 and my name is Sam\n"
     ]
    }
   ],
   "source": [
    "print('My number is {one} and my name is {two}'.format(one=num,two=name))"
   ]
  },
  {
   "cell_type": "code",
   "execution_count": 17,
   "id": "f2ea1509-45ce-464b-a2f1-45a62fce9805",
   "metadata": {},
   "outputs": [],
   "source": [
    "s='hello'"
   ]
  },
  {
   "cell_type": "code",
   "execution_count": 18,
   "id": "0fc2d2eb-3819-4050-8f24-956dda1a8061",
   "metadata": {
    "panel-layout": {
     "height": 51.1354,
     "visible": true,
     "width": 100
    }
   },
   "outputs": [
    {
     "data": {
      "text/plain": [
       "'h'"
      ]
     },
     "execution_count": 18,
     "metadata": {},
     "output_type": "execute_result"
    }
   ],
   "source": [
    "s[0]"
   ]
  },
  {
   "cell_type": "code",
   "execution_count": 19,
   "id": "cfb86c99-bf84-4475-aab2-7d868d0ccb7e",
   "metadata": {
    "panel-layout": {
     "height": 51.1354,
     "visible": true,
     "width": 100
    }
   },
   "outputs": [
    {
     "data": {
      "text/plain": [
       "'o'"
      ]
     },
     "execution_count": 19,
     "metadata": {},
     "output_type": "execute_result"
    }
   ],
   "source": [
    "s[4]"
   ]
  },
  {
   "cell_type": "code",
   "execution_count": 20,
   "id": "26291249-7043-4b50-9758-41e1048dcfca",
   "metadata": {},
   "outputs": [],
   "source": [
    "s='abcdefghijk'"
   ]
  },
  {
   "cell_type": "code",
   "execution_count": 21,
   "id": "94624195-d6c5-48ca-99a2-f0549ba49ec1",
   "metadata": {
    "panel-layout": {
     "height": 51.1354,
     "visible": true,
     "width": 100
    }
   },
   "outputs": [
    {
     "data": {
      "text/plain": [
       "'a'"
      ]
     },
     "execution_count": 21,
     "metadata": {},
     "output_type": "execute_result"
    }
   ],
   "source": [
    "s[0]"
   ]
  },
  {
   "cell_type": "code",
   "execution_count": 22,
   "id": "842156a1-af02-4e88-a620-8ccb8c786f5a",
   "metadata": {
    "panel-layout": {
     "height": 51.1354,
     "visible": true,
     "width": 100
    }
   },
   "outputs": [
    {
     "data": {
      "text/plain": [
       "'abcdefghijk'"
      ]
     },
     "execution_count": 22,
     "metadata": {},
     "output_type": "execute_result"
    }
   ],
   "source": [
    "s[0:]"
   ]
  },
  {
   "cell_type": "code",
   "execution_count": 23,
   "id": "1ca2741c-fe03-42bf-b977-1422ff16200a",
   "metadata": {
    "panel-layout": {
     "height": 51.1354,
     "visible": true,
     "width": 100
    }
   },
   "outputs": [
    {
     "data": {
      "text/plain": [
       "'abc'"
      ]
     },
     "execution_count": 23,
     "metadata": {},
     "output_type": "execute_result"
    }
   ],
   "source": [
    "s[:3]"
   ]
  },
  {
   "cell_type": "code",
   "execution_count": 24,
   "id": "80cd2318-17f7-4db3-8d95-21a7c0f656d9",
   "metadata": {
    "panel-layout": {
     "height": 51.1354,
     "visible": true,
     "width": 100
    }
   },
   "outputs": [
    {
     "data": {
      "text/plain": [
       "'abc'"
      ]
     },
     "execution_count": 24,
     "metadata": {},
     "output_type": "execute_result"
    }
   ],
   "source": [
    "s[0:3]"
   ]
  },
  {
   "cell_type": "code",
   "execution_count": 25,
   "id": "8069e6fa-e8e2-465d-bab1-663216b07561",
   "metadata": {
    "panel-layout": {
     "height": 51.1354,
     "visible": true,
     "width": 100
    }
   },
   "outputs": [
    {
     "data": {
      "text/plain": [
       "'def'"
      ]
     },
     "execution_count": 25,
     "metadata": {},
     "output_type": "execute_result"
    }
   ],
   "source": [
    "s[3:6]"
   ]
  },
  {
   "cell_type": "code",
   "execution_count": 26,
   "id": "1e835958-1cc9-496f-af38-fbad178a46f4",
   "metadata": {
    "panel-layout": {
     "height": 100.604,
     "visible": true,
     "width": 100
    }
   },
   "outputs": [
    {
     "data": {
      "text/plain": [
       "['a', 'b', 'c']"
      ]
     },
     "execution_count": 26,
     "metadata": {},
     "output_type": "execute_result"
    }
   ],
   "source": [
    "['a','b','c']"
   ]
  },
  {
   "cell_type": "code",
   "execution_count": 27,
   "id": "e30da59a-b0b0-4120-8fc5-f47ba4497850",
   "metadata": {},
   "outputs": [],
   "source": [
    "my_list=['a','b','c']"
   ]
  },
  {
   "cell_type": "code",
   "execution_count": 28,
   "id": "d3395a35-e1ac-4dbd-9377-00598592a9f0",
   "metadata": {
    "panel-layout": {
     "height": 0,
     "visible": true,
     "width": 100
    }
   },
   "outputs": [],
   "source": [
    "my_list.append('d')"
   ]
  },
  {
   "cell_type": "code",
   "execution_count": 29,
   "id": "5f641c77-1826-477d-abd2-e40ea44965d1",
   "metadata": {
    "panel-layout": {
     "height": 117.74,
     "visible": true,
     "width": 100
    }
   },
   "outputs": [
    {
     "data": {
      "text/plain": [
       "['a', 'b', 'c', 'd']"
      ]
     },
     "execution_count": 29,
     "metadata": {},
     "output_type": "execute_result"
    }
   ],
   "source": [
    "my_list"
   ]
  },
  {
   "cell_type": "code",
   "execution_count": 30,
   "id": "3be85862-0afd-4272-b61c-784f1d2cf329",
   "metadata": {
    "panel-layout": {
     "height": 51.1354,
     "visible": true,
     "width": 100
    }
   },
   "outputs": [
    {
     "data": {
      "text/plain": [
       "'a'"
      ]
     },
     "execution_count": 30,
     "metadata": {},
     "output_type": "execute_result"
    }
   ],
   "source": [
    "my_list[0]"
   ]
  },
  {
   "cell_type": "code",
   "execution_count": 31,
   "id": "9d0cf1ab-3292-4f58-953e-8724f3c7a372",
   "metadata": {
    "panel-layout": {
     "height": 51.1354,
     "visible": true,
     "width": 100
    }
   },
   "outputs": [
    {
     "data": {
      "text/plain": [
       "'a'"
      ]
     },
     "execution_count": 31,
     "metadata": {},
     "output_type": "execute_result"
    }
   ],
   "source": [
    "my_list[0]"
   ]
  },
  {
   "cell_type": "code",
   "execution_count": 32,
   "id": "e763f56f-e173-4ab8-80f2-8151cdc7360d",
   "metadata": {
    "panel-layout": {
     "height": 83.4688,
     "visible": true,
     "width": 100
    }
   },
   "outputs": [
    {
     "data": {
      "text/plain": [
       "['b', 'c']"
      ]
     },
     "execution_count": 32,
     "metadata": {},
     "output_type": "execute_result"
    }
   ],
   "source": [
    "my_list[1:3]"
   ]
  },
  {
   "cell_type": "code",
   "execution_count": 33,
   "id": "d7769669-a80c-454a-8291-95747e707b2f",
   "metadata": {},
   "outputs": [],
   "source": [
    "my_list[0]='NEW'"
   ]
  },
  {
   "cell_type": "code",
   "execution_count": 34,
   "id": "3981e9e2-b306-445d-b8b1-41a8ce7f5c26",
   "metadata": {
    "panel-layout": {
     "height": 117.74,
     "visible": true,
     "width": 100
    }
   },
   "outputs": [
    {
     "data": {
      "text/plain": [
       "['NEW', 'b', 'c', 'd']"
      ]
     },
     "execution_count": 34,
     "metadata": {},
     "output_type": "execute_result"
    }
   ],
   "source": [
    "my_list"
   ]
  },
  {
   "cell_type": "code",
   "execution_count": 35,
   "id": "fd676778-a76c-4710-99ab-b09133ba862f",
   "metadata": {},
   "outputs": [],
   "source": [
    "nest=[1,2,[3,4]]"
   ]
  },
  {
   "cell_type": "code",
   "execution_count": 36,
   "id": "717e24f1-6908-496b-a58c-858f8b88e2c8",
   "metadata": {
    "panel-layout": {
     "height": 102.667,
     "visible": true,
     "width": 100
    }
   },
   "outputs": [
    {
     "data": {
      "text/plain": [
       "[1, 2, [3, 4]]"
      ]
     },
     "execution_count": 36,
     "metadata": {},
     "output_type": "execute_result"
    }
   ],
   "source": [
    "nest"
   ]
  },
  {
   "cell_type": "code",
   "execution_count": 37,
   "id": "0f27e882-6bcd-4f13-b4ca-5248875cae0a",
   "metadata": {
    "panel-layout": {
     "height": 27.1354,
     "visible": true,
     "width": 100
    }
   },
   "outputs": [
    {
     "data": {
      "text/plain": [
       "4"
      ]
     },
     "execution_count": 37,
     "metadata": {},
     "output_type": "execute_result"
    }
   ],
   "source": [
    "nest[2][1]"
   ]
  },
  {
   "cell_type": "code",
   "execution_count": 38,
   "id": "b80a517e-87f2-41d5-93bc-ca5464677d8d",
   "metadata": {},
   "outputs": [],
   "source": [
    "nest=[1,2,3,[4,5,['target']]]"
   ]
  },
  {
   "cell_type": "code",
   "execution_count": 39,
   "id": "071994e5-d7ac-4095-aa45-246ca9d90b03",
   "metadata": {
    "panel-layout": {
     "height": 0,
     "visible": true,
     "width": 100
    }
   },
   "outputs": [
    {
     "name": "stdout",
     "output_type": "stream",
     "text": [
      "target\n"
     ]
    }
   ],
   "source": [
    "print(nest[3][2][0])"
   ]
  },
  {
   "cell_type": "code",
   "execution_count": null,
   "id": "9462552e-589a-4136-8d7b-8d0b0ff9e60b",
   "metadata": {},
   "outputs": [],
   "source": []
  },
  {
   "cell_type": "code",
   "execution_count": null,
   "id": "57e0d189-0d76-4d55-b6df-23b72f961b9d",
   "metadata": {},
   "outputs": [],
   "source": []
  }
 ],
 "metadata": {
  "kernelspec": {
   "display_name": "Python 3 (ipykernel)",
   "language": "python",
   "name": "python3"
  },
  "language_info": {
   "codemirror_mode": {
    "name": "ipython",
    "version": 3
   },
   "file_extension": ".py",
   "mimetype": "text/x-python",
   "name": "python",
   "nbconvert_exporter": "python",
   "pygments_lexer": "ipython3",
   "version": "3.12.7"
  },
  "panel-cell-order": [
   "17f5ac1b-0ccb-49c9-8669-6632017b6c8b",
   "9f389def-7a69-4fdf-a6c0-72da6f496d61",
   "d08489ee-c321-4cf9-a4f6-7aab75ea0ac0",
   "f0720c8a-7a23-4667-bed6-58d658e00596",
   "4628d5b0-a4af-460b-8ef0-ef22efe57335",
   "fa671552-e645-412d-b793-1cc95b4d94c8",
   "5e45ea3d-0e26-4356-a191-e54fd84bda78",
   "942542f1-f156-4598-9c73-3fd9ffac09d8",
   "25c9e645-62a3-4807-90ae-8d25505f252e",
   "e98e1043-cc12-467d-b028-30b45b93bbe2",
   "3fe9c7da-9474-49b5-adfa-9f9dea0f478b",
   "b0664806-8981-41cf-b0be-e9a379f85056",
   "836a4420-4c31-4a16-9c73-580e1562a133",
   "e11faee5-7a99-4eb7-abf7-bc11610c258f",
   "ff09a010-9fe5-4392-9868-a609417ea2f5",
   "52568d3d-6d9d-4a1a-856b-a5d27d2be2ef",
   "98d8b560-ed9e-43cd-8f72-dd6208ef7114",
   "f2c55fe2-6a00-4f4d-bf74-e6c84bcef185",
   "243eaaf6-71ca-4e72-91a6-23c2f4425c36",
   "37240342-79e9-47bf-b2ad-8651603b6570",
   "384c4ee0-9162-4822-aca1-31241a51a3bc",
   "032b8be4-d22c-40f6-bd59-9a4952e06cdb",
   "1046941f-bf39-4f70-ace8-be0c5f6f29fe",
   "0ff07722-fa9a-41a0-a531-91d3cda27cde",
   "864523cf-71d8-4216-be95-95dd8796c1e4",
   "0fc2d2eb-3819-4050-8f24-956dda1a8061",
   "cfb86c99-bf84-4475-aab2-7d868d0ccb7e",
   "94624195-d6c5-48ca-99a2-f0549ba49ec1",
   "842156a1-af02-4e88-a620-8ccb8c786f5a",
   "1ca2741c-fe03-42bf-b977-1422ff16200a",
   "80cd2318-17f7-4db3-8d95-21a7c0f656d9",
   "8069e6fa-e8e2-465d-bab1-663216b07561",
   "1e835958-1cc9-496f-af38-fbad178a46f4",
   "d3395a35-e1ac-4dbd-9377-00598592a9f0",
   "5f641c77-1826-477d-abd2-e40ea44965d1",
   "3be85862-0afd-4272-b61c-784f1d2cf329",
   "9d0cf1ab-3292-4f58-953e-8724f3c7a372",
   "e763f56f-e173-4ab8-80f2-8151cdc7360d",
   "3981e9e2-b306-445d-b8b1-41a8ce7f5c26",
   "717e24f1-6908-496b-a58c-858f8b88e2c8",
   "0f27e882-6bcd-4f13-b4ca-5248875cae0a",
   "071994e5-d7ac-4095-aa45-246ca9d90b03"
  ]
 },
 "nbformat": 4,
 "nbformat_minor": 5
}
