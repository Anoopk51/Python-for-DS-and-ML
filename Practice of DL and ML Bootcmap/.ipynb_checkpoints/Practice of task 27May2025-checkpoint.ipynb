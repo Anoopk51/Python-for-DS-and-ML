{
 "cells": [
  {
   "cell_type": "markdown",
   "id": "32a9ddfc-e0c1-4282-8607-fcdbcd583a36",
   "metadata": {},
   "source": [
    "# Pandas Task"
   ]
  },
  {
   "cell_type": "code",
   "execution_count": 1,
   "id": "23341859-fb0f-41a0-b969-82da2bbb0b2e",
   "metadata": {},
   "outputs": [],
   "source": [
    "import pandas as pd"
   ]
  },
  {
   "cell_type": "code",
   "execution_count": 2,
   "id": "890d580a-6106-46c5-9cc4-d92c51d944ef",
   "metadata": {},
   "outputs": [],
   "source": [
    "dir=pd.read_json('drivers.json',lines=True)"
   ]
  },
  {
   "cell_type": "code",
   "execution_count": 3,
   "id": "ec246705-811e-4cbe-bdbb-e73249e2ea72",
   "metadata": {},
   "outputs": [
    {
     "data": {
      "text/html": [
       "<div>\n",
       "<style scoped>\n",
       "    .dataframe tbody tr th:only-of-type {\n",
       "        vertical-align: middle;\n",
       "    }\n",
       "\n",
       "    .dataframe tbody tr th {\n",
       "        vertical-align: top;\n",
       "    }\n",
       "\n",
       "    .dataframe thead th {\n",
       "        text-align: right;\n",
       "    }\n",
       "</style>\n",
       "<table border=\"1\" class=\"dataframe\">\n",
       "  <thead>\n",
       "    <tr style=\"text-align: right;\">\n",
       "      <th></th>\n",
       "      <th>driverId</th>\n",
       "      <th>driverRef</th>\n",
       "      <th>number</th>\n",
       "      <th>code</th>\n",
       "      <th>name</th>\n",
       "      <th>dob</th>\n",
       "      <th>nationality</th>\n",
       "      <th>url</th>\n",
       "    </tr>\n",
       "  </thead>\n",
       "  <tbody>\n",
       "    <tr>\n",
       "      <th>0</th>\n",
       "      <td>1</td>\n",
       "      <td>hamilton</td>\n",
       "      <td>44</td>\n",
       "      <td>HAM</td>\n",
       "      <td>{'forename': 'Lewis', 'surname': 'Hamilton'}</td>\n",
       "      <td>1985-01-07</td>\n",
       "      <td>British</td>\n",
       "      <td>http://en.wikipedia.org/wiki/Lewis_Hamilton</td>\n",
       "    </tr>\n",
       "    <tr>\n",
       "      <th>1</th>\n",
       "      <td>2</td>\n",
       "      <td>heidfeld</td>\n",
       "      <td>\\N</td>\n",
       "      <td>HEI</td>\n",
       "      <td>{'forename': 'Nick', 'surname': 'Heidfeld'}</td>\n",
       "      <td>1977-05-10</td>\n",
       "      <td>German</td>\n",
       "      <td>http://en.wikipedia.org/wiki/Nick_Heidfeld</td>\n",
       "    </tr>\n",
       "  </tbody>\n",
       "</table>\n",
       "</div>"
      ],
      "text/plain": [
       "   driverId driverRef number code  \\\n",
       "0         1  hamilton     44  HAM   \n",
       "1         2  heidfeld     \\N  HEI   \n",
       "\n",
       "                                           name         dob nationality  \\\n",
       "0  {'forename': 'Lewis', 'surname': 'Hamilton'}  1985-01-07     British   \n",
       "1   {'forename': 'Nick', 'surname': 'Heidfeld'}  1977-05-10      German   \n",
       "\n",
       "                                           url  \n",
       "0  http://en.wikipedia.org/wiki/Lewis_Hamilton  \n",
       "1   http://en.wikipedia.org/wiki/Nick_Heidfeld  "
      ]
     },
     "execution_count": 3,
     "metadata": {},
     "output_type": "execute_result"
    }
   ],
   "source": [
    "dir.head(2)"
   ]
  },
  {
   "cell_type": "code",
   "execution_count": 4,
   "id": "23e1d318-463c-4239-a107-2f42a1850fa6",
   "metadata": {},
   "outputs": [],
   "source": [
    "dir.drop('url',axis=1,inplace=True)"
   ]
  },
  {
   "cell_type": "code",
   "execution_count": 5,
   "id": "99de295a-e93d-492b-bd69-ea7d3c551b14",
   "metadata": {},
   "outputs": [],
   "source": [
    "dir.rename(columns={'driverId':'driver_Id','driverRef':'driver_Ref'},inplace=True)"
   ]
  },
  {
   "cell_type": "code",
   "execution_count": 6,
   "id": "845d8b0e-22c5-4b02-9881-84986389aeda",
   "metadata": {},
   "outputs": [],
   "source": [
    "import datetime"
   ]
  },
  {
   "cell_type": "code",
   "execution_count": 7,
   "id": "76fde0d5-0723-40ec-9ef6-5e7befa77b0b",
   "metadata": {},
   "outputs": [],
   "source": [
    "dir['time_stamp']=datetime.datetime.now()"
   ]
  },
  {
   "cell_type": "code",
   "execution_count": 8,
   "id": "1cc7afbc-9461-4ca0-bc2f-06ffc6d72b7e",
   "metadata": {},
   "outputs": [
    {
     "data": {
      "text/html": [
       "<div>\n",
       "<style scoped>\n",
       "    .dataframe tbody tr th:only-of-type {\n",
       "        vertical-align: middle;\n",
       "    }\n",
       "\n",
       "    .dataframe tbody tr th {\n",
       "        vertical-align: top;\n",
       "    }\n",
       "\n",
       "    .dataframe thead th {\n",
       "        text-align: right;\n",
       "    }\n",
       "</style>\n",
       "<table border=\"1\" class=\"dataframe\">\n",
       "  <thead>\n",
       "    <tr style=\"text-align: right;\">\n",
       "      <th></th>\n",
       "      <th>driver_Id</th>\n",
       "      <th>driver_Ref</th>\n",
       "      <th>number</th>\n",
       "      <th>code</th>\n",
       "      <th>name</th>\n",
       "      <th>dob</th>\n",
       "      <th>nationality</th>\n",
       "      <th>time_stamp</th>\n",
       "    </tr>\n",
       "  </thead>\n",
       "  <tbody>\n",
       "    <tr>\n",
       "      <th>0</th>\n",
       "      <td>1</td>\n",
       "      <td>hamilton</td>\n",
       "      <td>44</td>\n",
       "      <td>HAM</td>\n",
       "      <td>{'forename': 'Lewis', 'surname': 'Hamilton'}</td>\n",
       "      <td>1985-01-07</td>\n",
       "      <td>British</td>\n",
       "      <td>2025-03-27 13:36:55.672304</td>\n",
       "    </tr>\n",
       "    <tr>\n",
       "      <th>1</th>\n",
       "      <td>2</td>\n",
       "      <td>heidfeld</td>\n",
       "      <td>\\N</td>\n",
       "      <td>HEI</td>\n",
       "      <td>{'forename': 'Nick', 'surname': 'Heidfeld'}</td>\n",
       "      <td>1977-05-10</td>\n",
       "      <td>German</td>\n",
       "      <td>2025-03-27 13:36:55.672304</td>\n",
       "    </tr>\n",
       "  </tbody>\n",
       "</table>\n",
       "</div>"
      ],
      "text/plain": [
       "   driver_Id driver_Ref number code  \\\n",
       "0          1   hamilton     44  HAM   \n",
       "1          2   heidfeld     \\N  HEI   \n",
       "\n",
       "                                           name         dob nationality  \\\n",
       "0  {'forename': 'Lewis', 'surname': 'Hamilton'}  1985-01-07     British   \n",
       "1   {'forename': 'Nick', 'surname': 'Heidfeld'}  1977-05-10      German   \n",
       "\n",
       "                  time_stamp  \n",
       "0 2025-03-27 13:36:55.672304  \n",
       "1 2025-03-27 13:36:55.672304  "
      ]
     },
     "execution_count": 8,
     "metadata": {},
     "output_type": "execute_result"
    }
   ],
   "source": [
    "dir.head(2)"
   ]
  },
  {
   "cell_type": "code",
   "execution_count": 9,
   "id": "c6e62b5e-90ca-4018-87d3-d814b40e750a",
   "metadata": {},
   "outputs": [],
   "source": [
    "d=dir['name'].values"
   ]
  },
  {
   "cell_type": "code",
   "execution_count": 10,
   "id": "5f3fa55e-51c2-486a-9544-a76391d51ed8",
   "metadata": {},
   "outputs": [],
   "source": [
    "diver_name=[]\n",
    "for i in range(len(d)):\n",
    "    # n=d[i]['forename'] +' '+ d[i]['surname']\n",
    "    # diver_name.append(n)    \n",
    "    diver_name.append(d[i]['forename'] +' '+ d[i]['surname'])"
   ]
  },
  {
   "cell_type": "code",
   "execution_count": 11,
   "id": "cfa81057-704e-49e0-9cd6-61988804b90e",
   "metadata": {},
   "outputs": [],
   "source": [
    "dir['name']=diver_name"
   ]
  },
  {
   "cell_type": "code",
   "execution_count": 12,
   "id": "e71dc1e5-3847-477d-a127-5b84c94eb60a",
   "metadata": {},
   "outputs": [
    {
     "data": {
      "text/html": [
       "<div>\n",
       "<style scoped>\n",
       "    .dataframe tbody tr th:only-of-type {\n",
       "        vertical-align: middle;\n",
       "    }\n",
       "\n",
       "    .dataframe tbody tr th {\n",
       "        vertical-align: top;\n",
       "    }\n",
       "\n",
       "    .dataframe thead th {\n",
       "        text-align: right;\n",
       "    }\n",
       "</style>\n",
       "<table border=\"1\" class=\"dataframe\">\n",
       "  <thead>\n",
       "    <tr style=\"text-align: right;\">\n",
       "      <th></th>\n",
       "      <th>driver_Id</th>\n",
       "      <th>driver_Ref</th>\n",
       "      <th>number</th>\n",
       "      <th>code</th>\n",
       "      <th>name</th>\n",
       "      <th>dob</th>\n",
       "      <th>nationality</th>\n",
       "      <th>time_stamp</th>\n",
       "    </tr>\n",
       "  </thead>\n",
       "  <tbody>\n",
       "    <tr>\n",
       "      <th>0</th>\n",
       "      <td>1</td>\n",
       "      <td>hamilton</td>\n",
       "      <td>44</td>\n",
       "      <td>HAM</td>\n",
       "      <td>Lewis Hamilton</td>\n",
       "      <td>1985-01-07</td>\n",
       "      <td>British</td>\n",
       "      <td>2025-03-27 13:36:55.672304</td>\n",
       "    </tr>\n",
       "    <tr>\n",
       "      <th>1</th>\n",
       "      <td>2</td>\n",
       "      <td>heidfeld</td>\n",
       "      <td>\\N</td>\n",
       "      <td>HEI</td>\n",
       "      <td>Nick Heidfeld</td>\n",
       "      <td>1977-05-10</td>\n",
       "      <td>German</td>\n",
       "      <td>2025-03-27 13:36:55.672304</td>\n",
       "    </tr>\n",
       "  </tbody>\n",
       "</table>\n",
       "</div>"
      ],
      "text/plain": [
       "   driver_Id driver_Ref number code            name         dob nationality  \\\n",
       "0          1   hamilton     44  HAM  Lewis Hamilton  1985-01-07     British   \n",
       "1          2   heidfeld     \\N  HEI   Nick Heidfeld  1977-05-10      German   \n",
       "\n",
       "                  time_stamp  \n",
       "0 2025-03-27 13:36:55.672304  \n",
       "1 2025-03-27 13:36:55.672304  "
      ]
     },
     "execution_count": 12,
     "metadata": {},
     "output_type": "execute_result"
    }
   ],
   "source": [
    "dir.head(2)"
   ]
  },
  {
   "cell_type": "code",
   "execution_count": 13,
   "id": "0c0c6e31-7c07-412d-a968-dee744e77094",
   "metadata": {},
   "outputs": [
    {
     "data": {
      "text/plain": [
       "0         Lewis Hamilton\n",
       "1          Nick Heidfeld\n",
       "2           Nico Rosberg\n",
       "3        Fernando Alonso\n",
       "4      Heikki Kovalainen\n",
       "             ...        \n",
       "848    Pietro Fittipaldi\n",
       "849          Jack Aitken\n",
       "850         Yuki Tsunoda\n",
       "851       Nikita Mazepin\n",
       "852      Mick Schumacher\n",
       "Name: name, Length: 853, dtype: object"
      ]
     },
     "execution_count": 13,
     "metadata": {},
     "output_type": "execute_result"
    }
   ],
   "source": [
    "dir['name']"
   ]
  },
  {
   "cell_type": "code",
   "execution_count": 39,
   "id": "ba9c460f-b7ce-4c41-8213-173975c62df6",
   "metadata": {},
   "outputs": [],
   "source": [
    "dirv=pd.read_json('drivers.json',lines=True)"
   ]
  },
  {
   "cell_type": "code",
   "execution_count": 40,
   "id": "63d90234-ac5b-4bbb-adb1-4d9e78771871",
   "metadata": {},
   "outputs": [
    {
     "data": {
      "text/html": [
       "<div>\n",
       "<style scoped>\n",
       "    .dataframe tbody tr th:only-of-type {\n",
       "        vertical-align: middle;\n",
       "    }\n",
       "\n",
       "    .dataframe tbody tr th {\n",
       "        vertical-align: top;\n",
       "    }\n",
       "\n",
       "    .dataframe thead th {\n",
       "        text-align: right;\n",
       "    }\n",
       "</style>\n",
       "<table border=\"1\" class=\"dataframe\">\n",
       "  <thead>\n",
       "    <tr style=\"text-align: right;\">\n",
       "      <th></th>\n",
       "      <th>driverId</th>\n",
       "      <th>driverRef</th>\n",
       "      <th>number</th>\n",
       "      <th>code</th>\n",
       "      <th>name</th>\n",
       "      <th>dob</th>\n",
       "      <th>nationality</th>\n",
       "      <th>url</th>\n",
       "    </tr>\n",
       "  </thead>\n",
       "  <tbody>\n",
       "    <tr>\n",
       "      <th>0</th>\n",
       "      <td>1</td>\n",
       "      <td>hamilton</td>\n",
       "      <td>44</td>\n",
       "      <td>HAM</td>\n",
       "      <td>{'forename': 'Lewis', 'surname': 'Hamilton'}</td>\n",
       "      <td>1985-01-07</td>\n",
       "      <td>British</td>\n",
       "      <td>http://en.wikipedia.org/wiki/Lewis_Hamilton</td>\n",
       "    </tr>\n",
       "  </tbody>\n",
       "</table>\n",
       "</div>"
      ],
      "text/plain": [
       "   driverId driverRef number code  \\\n",
       "0         1  hamilton     44  HAM   \n",
       "\n",
       "                                           name         dob nationality  \\\n",
       "0  {'forename': 'Lewis', 'surname': 'Hamilton'}  1985-01-07     British   \n",
       "\n",
       "                                           url  \n",
       "0  http://en.wikipedia.org/wiki/Lewis_Hamilton  "
      ]
     },
     "execution_count": 40,
     "metadata": {},
     "output_type": "execute_result"
    }
   ],
   "source": [
    "dirv.head(1)"
   ]
  },
  {
   "cell_type": "code",
   "execution_count": 41,
   "id": "689538cb-dcfd-41b3-80ed-7f3c1824e6fb",
   "metadata": {},
   "outputs": [],
   "source": [
    "name=dirv['name']"
   ]
  },
  {
   "cell_type": "code",
   "execution_count": 42,
   "id": "8c5127c3-acda-43a1-965b-023c9492fe5a",
   "metadata": {},
   "outputs": [
    {
     "data": {
      "text/plain": [
       "0       {'forename': 'Lewis', 'surname': 'Hamilton'}\n",
       "1        {'forename': 'Nick', 'surname': 'Heidfeld'}\n",
       "2         {'forename': 'Nico', 'surname': 'Rosberg'}\n",
       "3      {'forename': 'Fernando', 'surname': 'Alonso'}\n",
       "4    {'forename': 'Heikki', 'surname': 'Kovalainen'}\n",
       "Name: name, dtype: object"
      ]
     },
     "execution_count": 42,
     "metadata": {},
     "output_type": "execute_result"
    }
   ],
   "source": [
    "name.head()"
   ]
  },
  {
   "cell_type": "code",
   "execution_count": 43,
   "id": "e2c8c80c-a3e4-4036-aca6-09a26a16d838",
   "metadata": {},
   "outputs": [
    {
     "data": {
      "text/plain": [
       "pandas.core.series.Series"
      ]
     },
     "execution_count": 43,
     "metadata": {},
     "output_type": "execute_result"
    }
   ],
   "source": [
    "type(name)"
   ]
  },
  {
   "cell_type": "code",
   "execution_count": 55,
   "id": "4b50d275-f54b-4b93-a060-cd109211c0e7",
   "metadata": {},
   "outputs": [
    {
     "name": "stdout",
     "output_type": "stream",
     "text": [
      "0         {'forename': 'Lewis', 'surname': 'Hamilton'}\n",
      "1          {'forename': 'Nick', 'surname': 'Heidfeld'}\n",
      "2           {'forename': 'Nico', 'surname': 'Rosberg'}\n",
      "3        {'forename': 'Fernando', 'surname': 'Alonso'}\n",
      "4      {'forename': 'Heikki', 'surname': 'Kovalainen'}\n",
      "                            ...                       \n",
      "848    {'forename': 'Pietro', 'surname': 'Fittipaldi'}\n",
      "849          {'forename': 'Jack', 'surname': 'Aitken'}\n",
      "850         {'forename': 'Yuki', 'surname': 'Tsunoda'}\n",
      "851       {'forename': 'Nikita', 'surname': 'Mazepin'}\n",
      "852      {'forename': 'Mick', 'surname': 'Schumacher'}\n",
      "Name: name, Length: 853, dtype: object\n"
     ]
    }
   ],
   "source": [
    "# for i in  range(len(name)):\n",
    "#     print(i.value())\n",
    "#     # dir_name=(name[i].values())\n",
    "#     # pass\n",
    "#     # dir_name.join()\n",
    "#     print(type(dir_name))\n",
    "    \n",
    "    \n",
    "# print(name[i].items())\n",
    "\n",
    "for key , value in name.items():\n",
    "    print(key,value,\"====\")"
   ]
  },
  {
   "cell_type": "code",
   "execution_count": 27,
   "id": "49435337-407e-4211-9b7c-2a66969deb91",
   "metadata": {},
   "outputs": [
    {
     "data": {
      "text/plain": [
       "numpy.ndarray"
      ]
     },
     "execution_count": 27,
     "metadata": {},
     "output_type": "execute_result"
    }
   ],
   "source": [
    "type(name.values)\n",
    "\n"
   ]
  },
  {
   "cell_type": "code",
   "execution_count": null,
   "id": "1a914954-3a47-4eb8-bd00-361a394ab434",
   "metadata": {},
   "outputs": [],
   "source": []
  }
 ],
 "metadata": {
  "kernelspec": {
   "display_name": "Python 3 (ipykernel)",
   "language": "python",
   "name": "python3"
  },
  "language_info": {
   "codemirror_mode": {
    "name": "ipython",
    "version": 3
   },
   "file_extension": ".py",
   "mimetype": "text/x-python",
   "name": "python",
   "nbconvert_exporter": "python",
   "pygments_lexer": "ipython3",
   "version": "3.8.0"
  }
 },
 "nbformat": 4,
 "nbformat_minor": 5
}
