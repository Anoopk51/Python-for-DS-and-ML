{
 "cells": [
  {
   "cell_type": "markdown",
   "id": "32a9ddfc-e0c1-4282-8607-fcdbcd583a36",
   "metadata": {},
   "source": [
    "# Pandas Task"
   ]
  },
  {
   "cell_type": "code",
   "execution_count": 1,
   "id": "23341859-fb0f-41a0-b969-82da2bbb0b2e",
   "metadata": {},
   "outputs": [],
   "source": [
    "import pandas as pd"
   ]
  },
  {
   "cell_type": "code",
   "execution_count": 2,
   "id": "890d580a-6106-46c5-9cc4-d92c51d944ef",
   "metadata": {},
   "outputs": [],
   "source": [
    "dir=pd.read_json('drivers.json',lines=True)"
   ]
  },
  {
   "cell_type": "code",
   "execution_count": 3,
   "id": "ec246705-811e-4cbe-bdbb-e73249e2ea72",
   "metadata": {},
   "outputs": [
    {
     "data": {
      "text/html": [
       "<div>\n",
       "<style scoped>\n",
       "    .dataframe tbody tr th:only-of-type {\n",
       "        vertical-align: middle;\n",
       "    }\n",
       "\n",
       "    .dataframe tbody tr th {\n",
       "        vertical-align: top;\n",
       "    }\n",
       "\n",
       "    .dataframe thead th {\n",
       "        text-align: right;\n",
       "    }\n",
       "</style>\n",
       "<table border=\"1\" class=\"dataframe\">\n",
       "  <thead>\n",
       "    <tr style=\"text-align: right;\">\n",
       "      <th></th>\n",
       "      <th>driverId</th>\n",
       "      <th>driverRef</th>\n",
       "      <th>number</th>\n",
       "      <th>code</th>\n",
       "      <th>name</th>\n",
       "      <th>dob</th>\n",
       "      <th>nationality</th>\n",
       "      <th>url</th>\n",
       "    </tr>\n",
       "  </thead>\n",
       "  <tbody>\n",
       "    <tr>\n",
       "      <th>0</th>\n",
       "      <td>1</td>\n",
       "      <td>hamilton</td>\n",
       "      <td>44</td>\n",
       "      <td>HAM</td>\n",
       "      <td>{'forename': 'Lewis', 'surname': 'Hamilton'}</td>\n",
       "      <td>1985-01-07</td>\n",
       "      <td>British</td>\n",
       "      <td>http://en.wikipedia.org/wiki/Lewis_Hamilton</td>\n",
       "    </tr>\n",
       "    <tr>\n",
       "      <th>1</th>\n",
       "      <td>2</td>\n",
       "      <td>heidfeld</td>\n",
       "      <td>\\N</td>\n",
       "      <td>HEI</td>\n",
       "      <td>{'forename': 'Nick', 'surname': 'Heidfeld'}</td>\n",
       "      <td>1977-05-10</td>\n",
       "      <td>German</td>\n",
       "      <td>http://en.wikipedia.org/wiki/Nick_Heidfeld</td>\n",
       "    </tr>\n",
       "  </tbody>\n",
       "</table>\n",
       "</div>"
      ],
      "text/plain": [
       "   driverId driverRef number code  \\\n",
       "0         1  hamilton     44  HAM   \n",
       "1         2  heidfeld     \\N  HEI   \n",
       "\n",
       "                                           name         dob nationality  \\\n",
       "0  {'forename': 'Lewis', 'surname': 'Hamilton'}  1985-01-07     British   \n",
       "1   {'forename': 'Nick', 'surname': 'Heidfeld'}  1977-05-10      German   \n",
       "\n",
       "                                           url  \n",
       "0  http://en.wikipedia.org/wiki/Lewis_Hamilton  \n",
       "1   http://en.wikipedia.org/wiki/Nick_Heidfeld  "
      ]
     },
     "execution_count": 3,
     "metadata": {},
     "output_type": "execute_result"
    }
   ],
   "source": [
    "dir.head(2)"
   ]
  },
  {
   "cell_type": "code",
   "execution_count": 4,
   "id": "23e1d318-463c-4239-a107-2f42a1850fa6",
   "metadata": {},
   "outputs": [],
   "source": [
    "dir.drop('url',axis=1,inplace=True)"
   ]
  },
  {
   "cell_type": "code",
   "execution_count": 5,
   "id": "99de295a-e93d-492b-bd69-ea7d3c551b14",
   "metadata": {},
   "outputs": [],
   "source": [
    "dir.rename(columns={'driverId':'driver_Id','driverRef':'driver_Ref'},inplace=True)"
   ]
  },
  {
   "cell_type": "code",
   "execution_count": 6,
   "id": "845d8b0e-22c5-4b02-9881-84986389aeda",
   "metadata": {},
   "outputs": [],
   "source": [
    "import datetime"
   ]
  },
  {
   "cell_type": "code",
   "execution_count": 7,
   "id": "76fde0d5-0723-40ec-9ef6-5e7befa77b0b",
   "metadata": {},
   "outputs": [],
   "source": [
    "dir['time_stamp']=datetime.datetime.now()"
   ]
  },
  {
   "cell_type": "code",
   "execution_count": 8,
   "id": "1cc7afbc-9461-4ca0-bc2f-06ffc6d72b7e",
   "metadata": {},
   "outputs": [
    {
     "data": {
      "text/html": [
       "<div>\n",
       "<style scoped>\n",
       "    .dataframe tbody tr th:only-of-type {\n",
       "        vertical-align: middle;\n",
       "    }\n",
       "\n",
       "    .dataframe tbody tr th {\n",
       "        vertical-align: top;\n",
       "    }\n",
       "\n",
       "    .dataframe thead th {\n",
       "        text-align: right;\n",
       "    }\n",
       "</style>\n",
       "<table border=\"1\" class=\"dataframe\">\n",
       "  <thead>\n",
       "    <tr style=\"text-align: right;\">\n",
       "      <th></th>\n",
       "      <th>driver_Id</th>\n",
       "      <th>driver_Ref</th>\n",
       "      <th>number</th>\n",
       "      <th>code</th>\n",
       "      <th>name</th>\n",
       "      <th>dob</th>\n",
       "      <th>nationality</th>\n",
       "      <th>time_stamp</th>\n",
       "    </tr>\n",
       "  </thead>\n",
       "  <tbody>\n",
       "    <tr>\n",
       "      <th>0</th>\n",
       "      <td>1</td>\n",
       "      <td>hamilton</td>\n",
       "      <td>44</td>\n",
       "      <td>HAM</td>\n",
       "      <td>{'forename': 'Lewis', 'surname': 'Hamilton'}</td>\n",
       "      <td>1985-01-07</td>\n",
       "      <td>British</td>\n",
       "      <td>2025-03-27 13:36:55.672304</td>\n",
       "    </tr>\n",
       "    <tr>\n",
       "      <th>1</th>\n",
       "      <td>2</td>\n",
       "      <td>heidfeld</td>\n",
       "      <td>\\N</td>\n",
       "      <td>HEI</td>\n",
       "      <td>{'forename': 'Nick', 'surname': 'Heidfeld'}</td>\n",
       "      <td>1977-05-10</td>\n",
       "      <td>German</td>\n",
       "      <td>2025-03-27 13:36:55.672304</td>\n",
       "    </tr>\n",
       "  </tbody>\n",
       "</table>\n",
       "</div>"
      ],
      "text/plain": [
       "   driver_Id driver_Ref number code  \\\n",
       "0          1   hamilton     44  HAM   \n",
       "1          2   heidfeld     \\N  HEI   \n",
       "\n",
       "                                           name         dob nationality  \\\n",
       "0  {'forename': 'Lewis', 'surname': 'Hamilton'}  1985-01-07     British   \n",
       "1   {'forename': 'Nick', 'surname': 'Heidfeld'}  1977-05-10      German   \n",
       "\n",
       "                  time_stamp  \n",
       "0 2025-03-27 13:36:55.672304  \n",
       "1 2025-03-27 13:36:55.672304  "
      ]
     },
     "execution_count": 8,
     "metadata": {},
     "output_type": "execute_result"
    }
   ],
   "source": [
    "dir.head(2)"
   ]
  },
  {
   "cell_type": "code",
   "execution_count": 9,
   "id": "c6e62b5e-90ca-4018-87d3-d814b40e750a",
   "metadata": {},
   "outputs": [],
   "source": [
    "d=dir['name'].values"
   ]
  },
  {
   "cell_type": "code",
   "execution_count": 10,
   "id": "5f3fa55e-51c2-486a-9544-a76391d51ed8",
   "metadata": {},
   "outputs": [],
   "source": [
    "diver_name=[]\n",
    "for i in range(len(d)):\n",
    "    diver_name.append(d[i]['forename'] +' '+ d[i]['surname'])"
   ]
  },
  {
   "cell_type": "code",
   "execution_count": 11,
   "id": "cfa81057-704e-49e0-9cd6-61988804b90e",
   "metadata": {},
   "outputs": [],
   "source": [
    "dir['name']=diver_name"
   ]
  },
  {
   "cell_type": "code",
   "execution_count": 12,
   "id": "e71dc1e5-3847-477d-a127-5b84c94eb60a",
   "metadata": {},
   "outputs": [
    {
     "data": {
      "text/html": [
       "<div>\n",
       "<style scoped>\n",
       "    .dataframe tbody tr th:only-of-type {\n",
       "        vertical-align: middle;\n",
       "    }\n",
       "\n",
       "    .dataframe tbody tr th {\n",
       "        vertical-align: top;\n",
       "    }\n",
       "\n",
       "    .dataframe thead th {\n",
       "        text-align: right;\n",
       "    }\n",
       "</style>\n",
       "<table border=\"1\" class=\"dataframe\">\n",
       "  <thead>\n",
       "    <tr style=\"text-align: right;\">\n",
       "      <th></th>\n",
       "      <th>driver_Id</th>\n",
       "      <th>driver_Ref</th>\n",
       "      <th>number</th>\n",
       "      <th>code</th>\n",
       "      <th>name</th>\n",
       "      <th>dob</th>\n",
       "      <th>nationality</th>\n",
       "      <th>time_stamp</th>\n",
       "    </tr>\n",
       "  </thead>\n",
       "  <tbody>\n",
       "    <tr>\n",
       "      <th>0</th>\n",
       "      <td>1</td>\n",
       "      <td>hamilton</td>\n",
       "      <td>44</td>\n",
       "      <td>HAM</td>\n",
       "      <td>Lewis Hamilton</td>\n",
       "      <td>1985-01-07</td>\n",
       "      <td>British</td>\n",
       "      <td>2025-03-27 13:36:55.672304</td>\n",
       "    </tr>\n",
       "    <tr>\n",
       "      <th>1</th>\n",
       "      <td>2</td>\n",
       "      <td>heidfeld</td>\n",
       "      <td>\\N</td>\n",
       "      <td>HEI</td>\n",
       "      <td>Nick Heidfeld</td>\n",
       "      <td>1977-05-10</td>\n",
       "      <td>German</td>\n",
       "      <td>2025-03-27 13:36:55.672304</td>\n",
       "    </tr>\n",
       "  </tbody>\n",
       "</table>\n",
       "</div>"
      ],
      "text/plain": [
       "   driver_Id driver_Ref number code            name         dob nationality  \\\n",
       "0          1   hamilton     44  HAM  Lewis Hamilton  1985-01-07     British   \n",
       "1          2   heidfeld     \\N  HEI   Nick Heidfeld  1977-05-10      German   \n",
       "\n",
       "                  time_stamp  \n",
       "0 2025-03-27 13:36:55.672304  \n",
       "1 2025-03-27 13:36:55.672304  "
      ]
     },
     "execution_count": 12,
     "metadata": {},
     "output_type": "execute_result"
    }
   ],
   "source": [
    "dir.head(2)"
   ]
  },
  {
   "cell_type": "markdown",
   "id": "2f1c8666-9fa4-4ac7-b7b8-762b461e2901",
   "metadata": {},
   "source": [
    "# Methode-2"
   ]
  },
  {
   "cell_type": "code",
   "execution_count": 100,
   "id": "9ba05fe9-ad1c-421b-a0cb-6307a6b55396",
   "metadata": {},
   "outputs": [],
   "source": [
    "dri=pd.read_json('drivers.json',lines=True)"
   ]
  },
  {
   "cell_type": "code",
   "execution_count": 101,
   "id": "c6f01a75-fa7c-4b37-94a3-20d59202c541",
   "metadata": {},
   "outputs": [
    {
     "data": {
      "text/html": [
       "<div>\n",
       "<style scoped>\n",
       "    .dataframe tbody tr th:only-of-type {\n",
       "        vertical-align: middle;\n",
       "    }\n",
       "\n",
       "    .dataframe tbody tr th {\n",
       "        vertical-align: top;\n",
       "    }\n",
       "\n",
       "    .dataframe thead th {\n",
       "        text-align: right;\n",
       "    }\n",
       "</style>\n",
       "<table border=\"1\" class=\"dataframe\">\n",
       "  <thead>\n",
       "    <tr style=\"text-align: right;\">\n",
       "      <th></th>\n",
       "      <th>driverId</th>\n",
       "      <th>driverRef</th>\n",
       "      <th>number</th>\n",
       "      <th>code</th>\n",
       "      <th>name</th>\n",
       "      <th>dob</th>\n",
       "      <th>nationality</th>\n",
       "      <th>url</th>\n",
       "    </tr>\n",
       "  </thead>\n",
       "  <tbody>\n",
       "    <tr>\n",
       "      <th>0</th>\n",
       "      <td>1</td>\n",
       "      <td>hamilton</td>\n",
       "      <td>44</td>\n",
       "      <td>HAM</td>\n",
       "      <td>{'forename': 'Lewis', 'surname': 'Hamilton'}</td>\n",
       "      <td>1985-01-07</td>\n",
       "      <td>British</td>\n",
       "      <td>http://en.wikipedia.org/wiki/Lewis_Hamilton</td>\n",
       "    </tr>\n",
       "    <tr>\n",
       "      <th>1</th>\n",
       "      <td>2</td>\n",
       "      <td>heidfeld</td>\n",
       "      <td>\\N</td>\n",
       "      <td>HEI</td>\n",
       "      <td>{'forename': 'Nick', 'surname': 'Heidfeld'}</td>\n",
       "      <td>1977-05-10</td>\n",
       "      <td>German</td>\n",
       "      <td>http://en.wikipedia.org/wiki/Nick_Heidfeld</td>\n",
       "    </tr>\n",
       "  </tbody>\n",
       "</table>\n",
       "</div>"
      ],
      "text/plain": [
       "   driverId driverRef number code  \\\n",
       "0         1  hamilton     44  HAM   \n",
       "1         2  heidfeld     \\N  HEI   \n",
       "\n",
       "                                           name         dob nationality  \\\n",
       "0  {'forename': 'Lewis', 'surname': 'Hamilton'}  1985-01-07     British   \n",
       "1   {'forename': 'Nick', 'surname': 'Heidfeld'}  1977-05-10      German   \n",
       "\n",
       "                                           url  \n",
       "0  http://en.wikipedia.org/wiki/Lewis_Hamilton  \n",
       "1   http://en.wikipedia.org/wiki/Nick_Heidfeld  "
      ]
     },
     "execution_count": 101,
     "metadata": {},
     "output_type": "execute_result"
    }
   ],
   "source": [
    "dri.head(2)"
   ]
  },
  {
   "cell_type": "code",
   "execution_count": 102,
   "id": "4e7f289b-db30-477b-8711-33190c845f32",
   "metadata": {},
   "outputs": [],
   "source": [
    "dri.drop('url',inplace=True,axis=1)"
   ]
  },
  {
   "cell_type": "code",
   "execution_count": 103,
   "id": "44cd12b8-cb55-4ff1-877c-e837b60b1f68",
   "metadata": {},
   "outputs": [],
   "source": [
    "dri.rename(columns={'driverId':'driver_Id','driverRef':'driver_Ref'},inplace=True)"
   ]
  },
  {
   "cell_type": "code",
   "execution_count": 104,
   "id": "b1e972fc-7549-4b57-b481-0547f7c2bb41",
   "metadata": {},
   "outputs": [],
   "source": [
    "dri['time_stamp'] = datetime.datetime.now()"
   ]
  },
  {
   "cell_type": "code",
   "execution_count": 105,
   "id": "9e919695-ca93-4667-8160-b151d9005924",
   "metadata": {},
   "outputs": [
    {
     "data": {
      "text/html": [
       "<div>\n",
       "<style scoped>\n",
       "    .dataframe tbody tr th:only-of-type {\n",
       "        vertical-align: middle;\n",
       "    }\n",
       "\n",
       "    .dataframe tbody tr th {\n",
       "        vertical-align: top;\n",
       "    }\n",
       "\n",
       "    .dataframe thead th {\n",
       "        text-align: right;\n",
       "    }\n",
       "</style>\n",
       "<table border=\"1\" class=\"dataframe\">\n",
       "  <thead>\n",
       "    <tr style=\"text-align: right;\">\n",
       "      <th></th>\n",
       "      <th>driver_Id</th>\n",
       "      <th>driver_Ref</th>\n",
       "      <th>number</th>\n",
       "      <th>code</th>\n",
       "      <th>name</th>\n",
       "      <th>dob</th>\n",
       "      <th>nationality</th>\n",
       "      <th>time_stamp</th>\n",
       "    </tr>\n",
       "  </thead>\n",
       "  <tbody>\n",
       "    <tr>\n",
       "      <th>0</th>\n",
       "      <td>1</td>\n",
       "      <td>hamilton</td>\n",
       "      <td>44</td>\n",
       "      <td>HAM</td>\n",
       "      <td>{'forename': 'Lewis', 'surname': 'Hamilton'}</td>\n",
       "      <td>1985-01-07</td>\n",
       "      <td>British</td>\n",
       "      <td>2025-03-27 14:29:50.514505</td>\n",
       "    </tr>\n",
       "    <tr>\n",
       "      <th>1</th>\n",
       "      <td>2</td>\n",
       "      <td>heidfeld</td>\n",
       "      <td>\\N</td>\n",
       "      <td>HEI</td>\n",
       "      <td>{'forename': 'Nick', 'surname': 'Heidfeld'}</td>\n",
       "      <td>1977-05-10</td>\n",
       "      <td>German</td>\n",
       "      <td>2025-03-27 14:29:50.514505</td>\n",
       "    </tr>\n",
       "  </tbody>\n",
       "</table>\n",
       "</div>"
      ],
      "text/plain": [
       "   driver_Id driver_Ref number code  \\\n",
       "0          1   hamilton     44  HAM   \n",
       "1          2   heidfeld     \\N  HEI   \n",
       "\n",
       "                                           name         dob nationality  \\\n",
       "0  {'forename': 'Lewis', 'surname': 'Hamilton'}  1985-01-07     British   \n",
       "1   {'forename': 'Nick', 'surname': 'Heidfeld'}  1977-05-10      German   \n",
       "\n",
       "                  time_stamp  \n",
       "0 2025-03-27 14:29:50.514505  \n",
       "1 2025-03-27 14:29:50.514505  "
      ]
     },
     "execution_count": 105,
     "metadata": {},
     "output_type": "execute_result"
    }
   ],
   "source": [
    "dri.head(2)"
   ]
  },
  {
   "cell_type": "code",
   "execution_count": 106,
   "id": "f087f2f2-6254-4479-99c1-f028e8928480",
   "metadata": {},
   "outputs": [],
   "source": [
    "driver_name=dri['name']\n"
   ]
  },
  {
   "cell_type": "code",
   "execution_count": 107,
   "id": "0784a6df-ba8d-4a46-8b7c-bb282c8104c3",
   "metadata": {},
   "outputs": [
    {
     "data": {
      "text/plain": [
       "0    {'forename': 'Lewis', 'surname': 'Hamilton'}\n",
       "1     {'forename': 'Nick', 'surname': 'Heidfeld'}\n",
       "Name: name, dtype: object"
      ]
     },
     "execution_count": 107,
     "metadata": {},
     "output_type": "execute_result"
    }
   ],
   "source": [
    "driver_name.head(2)"
   ]
  },
  {
   "cell_type": "code",
   "execution_count": null,
   "id": "5e529fba-398d-4b42-b6cb-b50e397d81fc",
   "metadata": {},
   "outputs": [],
   "source": []
  },
  {
   "cell_type": "code",
   "execution_count": 142,
   "id": "166542fd-c58c-4c0c-80e2-8241dbf0739c",
   "metadata": {},
   "outputs": [],
   "source": [
    "name=[]\n",
    "for keys,values in driver_name.items():\n",
    "    # print(values['forename']+' '+values['surname'])\n",
    "    name.append(values['forename']+' '+values['surname'])"
   ]
  },
  {
   "cell_type": "code",
   "execution_count": 143,
   "id": "24c750fc-44fa-4b11-b026-dccb3c843d88",
   "metadata": {},
   "outputs": [],
   "source": [
    "dir['name']=name"
   ]
  },
  {
   "cell_type": "code",
   "execution_count": 144,
   "id": "2f0184b6-d69f-4e66-984e-588022163e47",
   "metadata": {},
   "outputs": [
    {
     "data": {
      "text/html": [
       "<div>\n",
       "<style scoped>\n",
       "    .dataframe tbody tr th:only-of-type {\n",
       "        vertical-align: middle;\n",
       "    }\n",
       "\n",
       "    .dataframe tbody tr th {\n",
       "        vertical-align: top;\n",
       "    }\n",
       "\n",
       "    .dataframe thead th {\n",
       "        text-align: right;\n",
       "    }\n",
       "</style>\n",
       "<table border=\"1\" class=\"dataframe\">\n",
       "  <thead>\n",
       "    <tr style=\"text-align: right;\">\n",
       "      <th></th>\n",
       "      <th>driver_Id</th>\n",
       "      <th>driver_Ref</th>\n",
       "      <th>number</th>\n",
       "      <th>code</th>\n",
       "      <th>name</th>\n",
       "      <th>dob</th>\n",
       "      <th>nationality</th>\n",
       "      <th>time_stamp</th>\n",
       "    </tr>\n",
       "  </thead>\n",
       "  <tbody>\n",
       "    <tr>\n",
       "      <th>0</th>\n",
       "      <td>1</td>\n",
       "      <td>hamilton</td>\n",
       "      <td>44</td>\n",
       "      <td>HAM</td>\n",
       "      <td>Lewis Hamilton</td>\n",
       "      <td>1985-01-07</td>\n",
       "      <td>British</td>\n",
       "      <td>2025-03-27 13:36:55.672304</td>\n",
       "    </tr>\n",
       "    <tr>\n",
       "      <th>1</th>\n",
       "      <td>2</td>\n",
       "      <td>heidfeld</td>\n",
       "      <td>\\N</td>\n",
       "      <td>HEI</td>\n",
       "      <td>Nick Heidfeld</td>\n",
       "      <td>1977-05-10</td>\n",
       "      <td>German</td>\n",
       "      <td>2025-03-27 13:36:55.672304</td>\n",
       "    </tr>\n",
       "  </tbody>\n",
       "</table>\n",
       "</div>"
      ],
      "text/plain": [
       "   driver_Id driver_Ref number code            name         dob nationality  \\\n",
       "0          1   hamilton     44  HAM  Lewis Hamilton  1985-01-07     British   \n",
       "1          2   heidfeld     \\N  HEI   Nick Heidfeld  1977-05-10      German   \n",
       "\n",
       "                  time_stamp  \n",
       "0 2025-03-27 13:36:55.672304  \n",
       "1 2025-03-27 13:36:55.672304  "
      ]
     },
     "execution_count": 144,
     "metadata": {},
     "output_type": "execute_result"
    }
   ],
   "source": [
    "dir.head(2)"
   ]
  },
  {
   "cell_type": "code",
   "execution_count": null,
   "id": "4d7388e9-445f-432c-a6c4-08c8cc32973e",
   "metadata": {},
   "outputs": [],
   "source": []
  }
 ],
 "metadata": {
  "kernelspec": {
   "display_name": "Python 3 (ipykernel)",
   "language": "python",
   "name": "python3"
  },
  "language_info": {
   "codemirror_mode": {
    "name": "ipython",
    "version": 3
   },
   "file_extension": ".py",
   "mimetype": "text/x-python",
   "name": "python",
   "nbconvert_exporter": "python",
   "pygments_lexer": "ipython3",
   "version": "3.8.0"
  }
 },
 "nbformat": 4,
 "nbformat_minor": 5
}
