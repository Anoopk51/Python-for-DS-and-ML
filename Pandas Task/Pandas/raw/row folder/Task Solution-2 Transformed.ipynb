{
 "cells": [
  {
   "cell_type": "code",
   "execution_count": 1,
   "id": "914187de-53fd-46ae-b6f1-810f47a08bef",
   "metadata": {},
   "outputs": [],
   "source": [
    "import pandas as pd"
   ]
  },
  {
   "cell_type": "markdown",
   "id": "4691afc8-83d5-4657-b864-91f5ee9d1d37",
   "metadata": {},
   "source": [
    "# 1"
   ]
  },
  {
   "cell_type": "code",
   "execution_count": 2,
   "id": "112d46e2-38b8-46e1-b21f-cdaf0242b08f",
   "metadata": {},
   "outputs": [],
   "source": [
    "circuits=pd.read_csv('row_circuit.csv')"
   ]
  },
  {
   "cell_type": "code",
   "execution_count": 3,
   "id": "e7c508bc-a9c9-48d3-b9c1-b69b83eb1422",
   "metadata": {},
   "outputs": [
    {
     "data": {
      "text/html": [
       "<div>\n",
       "<style scoped>\n",
       "    .dataframe tbody tr th:only-of-type {\n",
       "        vertical-align: middle;\n",
       "    }\n",
       "\n",
       "    .dataframe tbody tr th {\n",
       "        vertical-align: top;\n",
       "    }\n",
       "\n",
       "    .dataframe thead th {\n",
       "        text-align: right;\n",
       "    }\n",
       "</style>\n",
       "<table border=\"1\" class=\"dataframe\">\n",
       "  <thead>\n",
       "    <tr style=\"text-align: right;\">\n",
       "      <th></th>\n",
       "      <th>circuit_Id</th>\n",
       "      <th>circuit_Ref</th>\n",
       "      <th>name</th>\n",
       "      <th>location</th>\n",
       "      <th>country</th>\n",
       "      <th>lat</th>\n",
       "      <th>lng</th>\n",
       "      <th>alt</th>\n",
       "      <th>time_stamp</th>\n",
       "    </tr>\n",
       "  </thead>\n",
       "  <tbody>\n",
       "    <tr>\n",
       "      <th>0</th>\n",
       "      <td>1</td>\n",
       "      <td>albert_park</td>\n",
       "      <td>Albert Park Grand Prix Circuit</td>\n",
       "      <td>Melbourne</td>\n",
       "      <td>Australia</td>\n",
       "      <td>-37.8497</td>\n",
       "      <td>144.968</td>\n",
       "      <td>10</td>\n",
       "      <td>2025-03-27 15:32:07.600990</td>\n",
       "    </tr>\n",
       "  </tbody>\n",
       "</table>\n",
       "</div>"
      ],
      "text/plain": [
       "   circuit_Id  circuit_Ref                            name   location  \\\n",
       "0           1  albert_park  Albert Park Grand Prix Circuit  Melbourne   \n",
       "\n",
       "     country      lat      lng  alt                  time_stamp  \n",
       "0  Australia -37.8497  144.968   10  2025-03-27 15:32:07.600990  "
      ]
     },
     "execution_count": 3,
     "metadata": {},
     "output_type": "execute_result"
    }
   ],
   "source": [
    "circuits.head(1)"
   ]
  },
  {
   "cell_type": "markdown",
   "id": "5b839f92-46ec-49ea-a210-76c9b15ee494",
   "metadata": {},
   "source": [
    "# 2."
   ]
  },
  {
   "cell_type": "code",
   "execution_count": 4,
   "id": "294e90ae-64c8-446c-afdc-22b33fa26b5c",
   "metadata": {},
   "outputs": [],
   "source": [
    "races=pd.read_csv('row races.csv')"
   ]
  },
  {
   "cell_type": "code",
   "execution_count": 5,
   "id": "1458db8a-f617-4021-9de9-b981e7d93764",
   "metadata": {},
   "outputs": [
    {
     "data": {
      "text/html": [
       "<div>\n",
       "<style scoped>\n",
       "    .dataframe tbody tr th:only-of-type {\n",
       "        vertical-align: middle;\n",
       "    }\n",
       "\n",
       "    .dataframe tbody tr th {\n",
       "        vertical-align: top;\n",
       "    }\n",
       "\n",
       "    .dataframe thead th {\n",
       "        text-align: right;\n",
       "    }\n",
       "</style>\n",
       "<table border=\"1\" class=\"dataframe\">\n",
       "  <thead>\n",
       "    <tr style=\"text-align: right;\">\n",
       "      <th></th>\n",
       "      <th>race_Id</th>\n",
       "      <th>year</th>\n",
       "      <th>round</th>\n",
       "      <th>circuit_Id</th>\n",
       "      <th>race_name</th>\n",
       "      <th>date</th>\n",
       "      <th>time</th>\n",
       "      <th>time_stamp</th>\n",
       "    </tr>\n",
       "  </thead>\n",
       "  <tbody>\n",
       "    <tr>\n",
       "      <th>0</th>\n",
       "      <td>1</td>\n",
       "      <td>2009</td>\n",
       "      <td>1</td>\n",
       "      <td>1</td>\n",
       "      <td>Australian Grand Prix</td>\n",
       "      <td>2009-03-29</td>\n",
       "      <td>06:00:00</td>\n",
       "      <td>2025-03-27 18:52:03.311426</td>\n",
       "    </tr>\n",
       "  </tbody>\n",
       "</table>\n",
       "</div>"
      ],
      "text/plain": [
       "   race_Id  year  round  circuit_Id              race_name        date  \\\n",
       "0        1  2009      1           1  Australian Grand Prix  2009-03-29   \n",
       "\n",
       "       time                  time_stamp  \n",
       "0  06:00:00  2025-03-27 18:52:03.311426  "
      ]
     },
     "execution_count": 5,
     "metadata": {},
     "output_type": "execute_result"
    }
   ],
   "source": [
    "races.head(1)"
   ]
  },
  {
   "cell_type": "markdown",
   "id": "6f234ab2-c669-406a-83c3-9b15b6d36767",
   "metadata": {},
   "source": [
    "# 3."
   ]
  },
  {
   "cell_type": "code",
   "execution_count": 53,
   "id": "61c1e56f-d143-4a26-b188-ff4cea5093d2",
   "metadata": {},
   "outputs": [],
   "source": [
    "drivers=pd.read_csv('row_drivers.csv')"
   ]
  },
  {
   "cell_type": "code",
   "execution_count": 55,
   "id": "b025d2a6-ace7-45e9-84b6-e32407220e4d",
   "metadata": {},
   "outputs": [],
   "source": [
    "drivers.rename(columns={'number':'driver_number'},inplace=True)"
   ]
  },
  {
   "cell_type": "code",
   "execution_count": 56,
   "id": "85e932fc-0dd3-4027-b43f-b2fc39393d65",
   "metadata": {},
   "outputs": [
    {
     "data": {
      "text/html": [
       "<div>\n",
       "<style scoped>\n",
       "    .dataframe tbody tr th:only-of-type {\n",
       "        vertical-align: middle;\n",
       "    }\n",
       "\n",
       "    .dataframe tbody tr th {\n",
       "        vertical-align: top;\n",
       "    }\n",
       "\n",
       "    .dataframe thead th {\n",
       "        text-align: right;\n",
       "    }\n",
       "</style>\n",
       "<table border=\"1\" class=\"dataframe\">\n",
       "  <thead>\n",
       "    <tr style=\"text-align: right;\">\n",
       "      <th></th>\n",
       "      <th>driver_Id</th>\n",
       "      <th>driver_Ref</th>\n",
       "      <th>driver_number</th>\n",
       "      <th>code</th>\n",
       "      <th>name</th>\n",
       "      <th>dob</th>\n",
       "      <th>nationality</th>\n",
       "      <th>time_stamp</th>\n",
       "    </tr>\n",
       "  </thead>\n",
       "  <tbody>\n",
       "    <tr>\n",
       "      <th>0</th>\n",
       "      <td>1</td>\n",
       "      <td>hamilton</td>\n",
       "      <td>44</td>\n",
       "      <td>HAM</td>\n",
       "      <td>Lewis Hamilton</td>\n",
       "      <td>1985-01-07</td>\n",
       "      <td>British</td>\n",
       "      <td>2025-03-27 15:48:35.704977</td>\n",
       "    </tr>\n",
       "  </tbody>\n",
       "</table>\n",
       "</div>"
      ],
      "text/plain": [
       "   driver_Id driver_Ref driver_number code            name         dob  \\\n",
       "0          1   hamilton            44  HAM  Lewis Hamilton  1985-01-07   \n",
       "\n",
       "  nationality                  time_stamp  \n",
       "0     British  2025-03-27 15:48:35.704977  "
      ]
     },
     "execution_count": 56,
     "metadata": {},
     "output_type": "execute_result"
    }
   ],
   "source": [
    "drivers.head(1)"
   ]
  },
  {
   "cell_type": "markdown",
   "id": "ffad6ce7-f4df-4f14-a372-ffbc6608563d",
   "metadata": {},
   "source": [
    "# 4."
   ]
  },
  {
   "cell_type": "code",
   "execution_count": 8,
   "id": "7dae1c2f-eef3-4745-bb5c-52f5509b561c",
   "metadata": {},
   "outputs": [],
   "source": [
    "results=pd.read_csv('row_result.csv')"
   ]
  },
  {
   "cell_type": "code",
   "execution_count": 9,
   "id": "60a2037d-2e72-4bec-8ab4-7be0ffff0262",
   "metadata": {},
   "outputs": [
    {
     "data": {
      "text/html": [
       "<div>\n",
       "<style scoped>\n",
       "    .dataframe tbody tr th:only-of-type {\n",
       "        vertical-align: middle;\n",
       "    }\n",
       "\n",
       "    .dataframe tbody tr th {\n",
       "        vertical-align: top;\n",
       "    }\n",
       "\n",
       "    .dataframe thead th {\n",
       "        text-align: right;\n",
       "    }\n",
       "</style>\n",
       "<table border=\"1\" class=\"dataframe\">\n",
       "  <thead>\n",
       "    <tr style=\"text-align: right;\">\n",
       "      <th></th>\n",
       "      <th>result_Id</th>\n",
       "      <th>race_Id</th>\n",
       "      <th>driver_Id</th>\n",
       "      <th>constructor_Id</th>\n",
       "      <th>number</th>\n",
       "      <th>grid</th>\n",
       "      <th>position</th>\n",
       "      <th>position_Text</th>\n",
       "      <th>position_Order</th>\n",
       "      <th>points</th>\n",
       "      <th>laps</th>\n",
       "      <th>time</th>\n",
       "      <th>milli_seconds</th>\n",
       "      <th>fastest_Lap</th>\n",
       "      <th>rank</th>\n",
       "      <th>fastest_Lap_Time</th>\n",
       "      <th>fastest_Lap_Speed</th>\n",
       "      <th>status_Id</th>\n",
       "      <th>time_stamp</th>\n",
       "    </tr>\n",
       "  </thead>\n",
       "  <tbody>\n",
       "    <tr>\n",
       "      <th>0</th>\n",
       "      <td>1</td>\n",
       "      <td>18</td>\n",
       "      <td>1</td>\n",
       "      <td>1</td>\n",
       "      <td>22</td>\n",
       "      <td>1</td>\n",
       "      <td>1</td>\n",
       "      <td>1</td>\n",
       "      <td>1</td>\n",
       "      <td>10.0</td>\n",
       "      <td>58</td>\n",
       "      <td>1:34:50.616</td>\n",
       "      <td>5690616</td>\n",
       "      <td>39</td>\n",
       "      <td>2</td>\n",
       "      <td>1:27.452</td>\n",
       "      <td>218.3</td>\n",
       "      <td>1</td>\n",
       "      <td>2025-03-27 16:12:40.941284</td>\n",
       "    </tr>\n",
       "  </tbody>\n",
       "</table>\n",
       "</div>"
      ],
      "text/plain": [
       "   result_Id  race_Id  driver_Id  constructor_Id number  grid position  \\\n",
       "0          1       18          1               1     22     1        1   \n",
       "\n",
       "  position_Text  position_Order  points  laps         time milli_seconds  \\\n",
       "0             1               1    10.0    58  1:34:50.616       5690616   \n",
       "\n",
       "  fastest_Lap rank fastest_Lap_Time fastest_Lap_Speed  status_Id  \\\n",
       "0          39    2         1:27.452             218.3          1   \n",
       "\n",
       "                   time_stamp  \n",
       "0  2025-03-27 16:12:40.941284  "
      ]
     },
     "execution_count": 9,
     "metadata": {},
     "output_type": "execute_result"
    }
   ],
   "source": [
    "results.head(1)"
   ]
  },
  {
   "cell_type": "markdown",
   "id": "6a4812bb-013d-4472-864d-1d26ada86ece",
   "metadata": {},
   "source": [
    "# 5."
   ]
  },
  {
   "cell_type": "code",
   "execution_count": 10,
   "id": "84835a62-462a-46a6-ae40-94e0a15b4e9e",
   "metadata": {},
   "outputs": [],
   "source": [
    "constructors=pd.read_csv('row_constructors.csv')"
   ]
  },
  {
   "cell_type": "code",
   "execution_count": 11,
   "id": "e6b4b0aa-85df-45a2-ac88-9e3a808363f2",
   "metadata": {},
   "outputs": [
    {
     "data": {
      "text/html": [
       "<div>\n",
       "<style scoped>\n",
       "    .dataframe tbody tr th:only-of-type {\n",
       "        vertical-align: middle;\n",
       "    }\n",
       "\n",
       "    .dataframe tbody tr th {\n",
       "        vertical-align: top;\n",
       "    }\n",
       "\n",
       "    .dataframe thead th {\n",
       "        text-align: right;\n",
       "    }\n",
       "</style>\n",
       "<table border=\"1\" class=\"dataframe\">\n",
       "  <thead>\n",
       "    <tr style=\"text-align: right;\">\n",
       "      <th></th>\n",
       "      <th>constructor_Id</th>\n",
       "      <th>constructor_Ref</th>\n",
       "      <th>name</th>\n",
       "      <th>nationality</th>\n",
       "      <th>time_stamp</th>\n",
       "    </tr>\n",
       "  </thead>\n",
       "  <tbody>\n",
       "    <tr>\n",
       "      <th>0</th>\n",
       "      <td>1</td>\n",
       "      <td>mclaren</td>\n",
       "      <td>McLaren</td>\n",
       "      <td>British</td>\n",
       "      <td>2025-03-27 15:38:24.620840</td>\n",
       "    </tr>\n",
       "  </tbody>\n",
       "</table>\n",
       "</div>"
      ],
      "text/plain": [
       "   constructor_Id constructor_Ref     name nationality  \\\n",
       "0               1         mclaren  McLaren     British   \n",
       "\n",
       "                   time_stamp  \n",
       "0  2025-03-27 15:38:24.620840  "
      ]
     },
     "execution_count": 11,
     "metadata": {},
     "output_type": "execute_result"
    }
   ],
   "source": [
    "constructors.head(1)"
   ]
  },
  {
   "cell_type": "markdown",
   "id": "98735267-d7a2-425d-bb40-4df3339e73b4",
   "metadata": {},
   "source": [
    "# step-2"
   ]
  },
  {
   "cell_type": "code",
   "execution_count": 13,
   "id": "28af9fe7-1dc3-4e03-9a56-3fc73c175b99",
   "metadata": {},
   "outputs": [],
   "source": [
    "race_name=races['race_name']"
   ]
  },
  {
   "cell_type": "code",
   "execution_count": 106,
   "id": "3a739cc0-e640-4fbd-9bd5-ae28725d7be4",
   "metadata": {},
   "outputs": [],
   "source": [
    "ra_name=pd.DataFrame(race_name).head(77)"
   ]
  },
  {
   "cell_type": "code",
   "execution_count": 107,
   "id": "08cc0ced-014f-45ef-b31a-3cd16e0df380",
   "metadata": {},
   "outputs": [
    {
     "data": {
      "text/plain": [
       "77"
      ]
     },
     "execution_count": 107,
     "metadata": {},
     "output_type": "execute_result"
    }
   ],
   "source": [
    "len(ra_name)"
   ]
  },
  {
   "cell_type": "code",
   "execution_count": 108,
   "id": "74f4d6ff-8eda-4254-a199-b9849f63a51e",
   "metadata": {},
   "outputs": [],
   "source": [
    "race_year=races['year']"
   ]
  },
  {
   "cell_type": "code",
   "execution_count": 109,
   "id": "108a2c2b-2371-4730-ae29-ceea6e8a2f99",
   "metadata": {},
   "outputs": [],
   "source": [
    "ra_year=pd.DataFrame(race_year).head(77)"
   ]
  },
  {
   "cell_type": "code",
   "execution_count": 110,
   "id": "5169f828-2b6f-4572-b642-a42b09d65bbf",
   "metadata": {},
   "outputs": [
    {
     "data": {
      "text/plain": [
       "77"
      ]
     },
     "execution_count": 110,
     "metadata": {},
     "output_type": "execute_result"
    }
   ],
   "source": [
    "len(ra_year)"
   ]
  },
  {
   "cell_type": "code",
   "execution_count": 111,
   "id": "dc8056a7-913d-4807-ba17-e5398e1770ba",
   "metadata": {},
   "outputs": [],
   "source": [
    "circuits_location=circuits['location']"
   ]
  },
  {
   "cell_type": "code",
   "execution_count": 112,
   "id": "4bf819ad-7db2-4426-aa47-c15595130952",
   "metadata": {},
   "outputs": [],
   "source": [
    "ca_location=pd.DataFrame(circuits_location)#.head(10)"
   ]
  },
  {
   "cell_type": "code",
   "execution_count": 113,
   "id": "c76062e8-f770-4bfc-8e33-118d8c9694d1",
   "metadata": {},
   "outputs": [
    {
     "data": {
      "text/plain": [
       "77"
      ]
     },
     "execution_count": 113,
     "metadata": {},
     "output_type": "execute_result"
    }
   ],
   "source": [
    "len(ca_location)"
   ]
  },
  {
   "cell_type": "code",
   "execution_count": null,
   "id": "ebbd3bec-cfa5-489b-a8b6-e5dffb79d186",
   "metadata": {},
   "outputs": [],
   "source": []
  },
  {
   "cell_type": "code",
   "execution_count": 22,
   "id": "e3332ba9-b5cb-4253-91bb-e03cd43d1e7b",
   "metadata": {},
   "outputs": [],
   "source": [
    "race_date=races['date']"
   ]
  },
  {
   "cell_type": "code",
   "execution_count": 114,
   "id": "b5840938-88ea-48ca-bdaa-a9fcc1878f91",
   "metadata": {},
   "outputs": [],
   "source": [
    "ra_date=pd.DataFrame(race_date).head(77)"
   ]
  },
  {
   "cell_type": "code",
   "execution_count": 115,
   "id": "20377bef-2497-4507-9228-cb0cba3e43cd",
   "metadata": {},
   "outputs": [
    {
     "data": {
      "text/plain": [
       "77"
      ]
     },
     "execution_count": 115,
     "metadata": {},
     "output_type": "execute_result"
    }
   ],
   "source": [
    "len(ra_date)"
   ]
  },
  {
   "cell_type": "code",
   "execution_count": 116,
   "id": "26aaf8c1-fe42-477d-a2d0-856a1f2a2620",
   "metadata": {},
   "outputs": [],
   "source": [
    "driver_name=drivers['name'].head(77)"
   ]
  },
  {
   "cell_type": "code",
   "execution_count": 117,
   "id": "4bfc503f-d354-46b5-93f0-790f4878f084",
   "metadata": {},
   "outputs": [
    {
     "data": {
      "text/plain": [
       "77"
      ]
     },
     "execution_count": 117,
     "metadata": {},
     "output_type": "execute_result"
    }
   ],
   "source": [
    "len(driver_name)"
   ]
  },
  {
   "cell_type": "code",
   "execution_count": 118,
   "id": "ec953ac2-bbb5-41c0-81ed-4169fe809cd8",
   "metadata": {},
   "outputs": [],
   "source": [
    "dr_name=pd.DataFrame(driver_name).head(77)"
   ]
  },
  {
   "cell_type": "code",
   "execution_count": 119,
   "id": "6ada20dd-3fa4-438a-9f27-314e70506e88",
   "metadata": {},
   "outputs": [
    {
     "data": {
      "text/plain": [
       "77"
      ]
     },
     "execution_count": 119,
     "metadata": {},
     "output_type": "execute_result"
    }
   ],
   "source": [
    "len(dr_name)"
   ]
  },
  {
   "cell_type": "code",
   "execution_count": 120,
   "id": "4e874833-6077-49ea-9080-a294d62f0e7a",
   "metadata": {},
   "outputs": [],
   "source": [
    "# team=[]\n",
    "driver_number=drivers['driver_number']"
   ]
  },
  {
   "cell_type": "code",
   "execution_count": 122,
   "id": "72f26462-4749-432d-b675-1bc2dfdbee03",
   "metadata": {},
   "outputs": [],
   "source": [
    "dr_number=pd.DataFrame(driver_number).head(77)"
   ]
  },
  {
   "cell_type": "code",
   "execution_count": 123,
   "id": "128a046d-4a42-4f79-89e0-7c505ec55694",
   "metadata": {},
   "outputs": [
    {
     "data": {
      "text/plain": [
       "77"
      ]
     },
     "execution_count": 123,
     "metadata": {},
     "output_type": "execute_result"
    }
   ],
   "source": [
    "len(dr_number)"
   ]
  },
  {
   "cell_type": "code",
   "execution_count": 124,
   "id": "543fe57f-fd76-460e-a2d2-312171f0f4fb",
   "metadata": {},
   "outputs": [],
   "source": [
    "drivers_nationality=drivers['nationality']"
   ]
  },
  {
   "cell_type": "code",
   "execution_count": 125,
   "id": "a8718838-5b12-49f9-bbe3-b2b0285c78d9",
   "metadata": {},
   "outputs": [],
   "source": [
    "dri_nationality=pd.DataFrame(drivers_nationality).head(77)"
   ]
  },
  {
   "cell_type": "code",
   "execution_count": 126,
   "id": "c9d17653-196e-44c4-8d92-46c0a0f74281",
   "metadata": {},
   "outputs": [
    {
     "data": {
      "text/plain": [
       "77"
      ]
     },
     "execution_count": 126,
     "metadata": {},
     "output_type": "execute_result"
    }
   ],
   "source": [
    "len(dri_nationality)"
   ]
  },
  {
   "cell_type": "code",
   "execution_count": 127,
   "id": "2b8efd81-b0f7-434c-9e5b-89f05e11f0c1",
   "metadata": {},
   "outputs": [],
   "source": [
    "drivers_position = results['position']"
   ]
  },
  {
   "cell_type": "code",
   "execution_count": 128,
   "id": "f64938d5-e7bf-4667-aacf-3ead7b86456c",
   "metadata": {},
   "outputs": [],
   "source": [
    "dr_position=pd.DataFrame(drivers_position).head(77)"
   ]
  },
  {
   "cell_type": "code",
   "execution_count": 129,
   "id": "0cc0197a-55fd-491d-9222-05c650cf63a3",
   "metadata": {},
   "outputs": [
    {
     "data": {
      "text/plain": [
       "77"
      ]
     },
     "execution_count": 129,
     "metadata": {},
     "output_type": "execute_result"
    }
   ],
   "source": [
    "len(dr_position)"
   ]
  },
  {
   "cell_type": "code",
   "execution_count": 130,
   "id": "0330fda9-5123-4e50-b2db-8e9d34ce8755",
   "metadata": {},
   "outputs": [],
   "source": [
    "fastest_lap=results['fastest_Lap']"
   ]
  },
  {
   "cell_type": "code",
   "execution_count": 133,
   "id": "b9760703-c30c-4a19-875b-a2ad5216f69d",
   "metadata": {},
   "outputs": [],
   "source": [
    "fa_lap=pd.DataFrame(fastest_lap).head(77)"
   ]
  },
  {
   "cell_type": "code",
   "execution_count": 134,
   "id": "edfb58ba-ef00-4f48-a090-04078b021ae8",
   "metadata": {},
   "outputs": [
    {
     "data": {
      "text/plain": [
       "77"
      ]
     },
     "execution_count": 134,
     "metadata": {},
     "output_type": "execute_result"
    }
   ],
   "source": [
    "len(fa_lap)"
   ]
  },
  {
   "cell_type": "code",
   "execution_count": 100,
   "id": "9a187a31-7f91-416e-bceb-09918f754df3",
   "metadata": {},
   "outputs": [],
   "source": [
    "race_time=races['time']"
   ]
  },
  {
   "cell_type": "code",
   "execution_count": 136,
   "id": "7b0017f5-1762-40ef-bcfb-ac3d258be8a8",
   "metadata": {},
   "outputs": [],
   "source": [
    "ra_time=pd.DataFrame(race_time).head(77)"
   ]
  },
  {
   "cell_type": "code",
   "execution_count": 137,
   "id": "7180826e-74a6-44a6-84b3-f27d5180da16",
   "metadata": {},
   "outputs": [
    {
     "data": {
      "text/plain": [
       "77"
      ]
     },
     "execution_count": 137,
     "metadata": {},
     "output_type": "execute_result"
    }
   ],
   "source": [
    "len(ra_time)"
   ]
  },
  {
   "cell_type": "code",
   "execution_count": 138,
   "id": "d87e3ff2-99df-4a8b-ac74-f68b17f133c9",
   "metadata": {},
   "outputs": [],
   "source": [
    "points=results['points']"
   ]
  },
  {
   "cell_type": "code",
   "execution_count": 139,
   "id": "62194c46-67d5-45fe-a226-c82d29903bee",
   "metadata": {},
   "outputs": [],
   "source": [
    "point=pd.DataFrame(points)#.head(10)"
   ]
  },
  {
   "cell_type": "code",
   "execution_count": 140,
   "id": "7aaaa699-c3b2-425f-8b07-15f8b80d6eea",
   "metadata": {},
   "outputs": [
    {
     "data": {
      "text/plain": [
       "24960"
      ]
     },
     "execution_count": 140,
     "metadata": {},
     "output_type": "execute_result"
    }
   ],
   "source": [
    "len(point)"
   ]
  },
  {
   "cell_type": "code",
   "execution_count": 141,
   "id": "21b766a6-dc18-4771-8d75-21f0786899c8",
   "metadata": {},
   "outputs": [],
   "source": [
    "team=ra_name.join(ra_year).join(ca_location).join(ra_date).join(dr_name).join(dr_number).join(dri_nationality).join(dr_position).join(fa_lap).join(ra_time).join(point)\n",
    "# (ra_name).join(ra_year)"
   ]
  },
  {
   "cell_type": "code",
   "execution_count": 142,
   "id": "f7142dcf-9caf-4567-adf4-29ef0ef1049f",
   "metadata": {},
   "outputs": [
    {
     "data": {
      "text/html": [
       "<div>\n",
       "<style scoped>\n",
       "    .dataframe tbody tr th:only-of-type {\n",
       "        vertical-align: middle;\n",
       "    }\n",
       "\n",
       "    .dataframe tbody tr th {\n",
       "        vertical-align: top;\n",
       "    }\n",
       "\n",
       "    .dataframe thead th {\n",
       "        text-align: right;\n",
       "    }\n",
       "</style>\n",
       "<table border=\"1\" class=\"dataframe\">\n",
       "  <thead>\n",
       "    <tr style=\"text-align: right;\">\n",
       "      <th></th>\n",
       "      <th>race_name</th>\n",
       "      <th>year</th>\n",
       "      <th>location</th>\n",
       "      <th>date</th>\n",
       "      <th>name</th>\n",
       "      <th>driver_number</th>\n",
       "      <th>nationality</th>\n",
       "      <th>position</th>\n",
       "      <th>fastest_Lap</th>\n",
       "      <th>time</th>\n",
       "      <th>points</th>\n",
       "    </tr>\n",
       "  </thead>\n",
       "  <tbody>\n",
       "    <tr>\n",
       "      <th>0</th>\n",
       "      <td>Australian Grand Prix</td>\n",
       "      <td>2009</td>\n",
       "      <td>Melbourne</td>\n",
       "      <td>2009-03-29</td>\n",
       "      <td>Lewis Hamilton</td>\n",
       "      <td>44</td>\n",
       "      <td>British</td>\n",
       "      <td>1</td>\n",
       "      <td>39</td>\n",
       "      <td>06:00:00</td>\n",
       "      <td>10.0</td>\n",
       "    </tr>\n",
       "    <tr>\n",
       "      <th>1</th>\n",
       "      <td>Malaysian Grand Prix</td>\n",
       "      <td>2009</td>\n",
       "      <td>Kuala Lumpur</td>\n",
       "      <td>2009-04-05</td>\n",
       "      <td>Nick Heidfeld</td>\n",
       "      <td>\\N</td>\n",
       "      <td>German</td>\n",
       "      <td>2</td>\n",
       "      <td>41</td>\n",
       "      <td>09:00:00</td>\n",
       "      <td>8.0</td>\n",
       "    </tr>\n",
       "    <tr>\n",
       "      <th>2</th>\n",
       "      <td>Chinese Grand Prix</td>\n",
       "      <td>2009</td>\n",
       "      <td>Sakhir</td>\n",
       "      <td>2009-04-19</td>\n",
       "      <td>Nico Rosberg</td>\n",
       "      <td>6</td>\n",
       "      <td>German</td>\n",
       "      <td>3</td>\n",
       "      <td>41</td>\n",
       "      <td>07:00:00</td>\n",
       "      <td>6.0</td>\n",
       "    </tr>\n",
       "    <tr>\n",
       "      <th>3</th>\n",
       "      <td>Bahrain Grand Prix</td>\n",
       "      <td>2009</td>\n",
       "      <td>Montmeló</td>\n",
       "      <td>2009-04-26</td>\n",
       "      <td>Fernando Alonso</td>\n",
       "      <td>14</td>\n",
       "      <td>Spanish</td>\n",
       "      <td>4</td>\n",
       "      <td>58</td>\n",
       "      <td>12:00:00</td>\n",
       "      <td>5.0</td>\n",
       "    </tr>\n",
       "    <tr>\n",
       "      <th>4</th>\n",
       "      <td>Spanish Grand Prix</td>\n",
       "      <td>2009</td>\n",
       "      <td>Istanbul</td>\n",
       "      <td>2009-05-10</td>\n",
       "      <td>Heikki Kovalainen</td>\n",
       "      <td>\\N</td>\n",
       "      <td>Finnish</td>\n",
       "      <td>5</td>\n",
       "      <td>43</td>\n",
       "      <td>12:00:00</td>\n",
       "      <td>4.0</td>\n",
       "    </tr>\n",
       "    <tr>\n",
       "      <th>...</th>\n",
       "      <td>...</td>\n",
       "      <td>...</td>\n",
       "      <td>...</td>\n",
       "      <td>...</td>\n",
       "      <td>...</td>\n",
       "      <td>...</td>\n",
       "      <td>...</td>\n",
       "      <td>...</td>\n",
       "      <td>...</td>\n",
       "      <td>...</td>\n",
       "      <td>...</td>\n",
       "    </tr>\n",
       "    <tr>\n",
       "      <th>72</th>\n",
       "      <td>Bahrain Grand Prix</td>\n",
       "      <td>2005</td>\n",
       "      <td>Baku</td>\n",
       "      <td>2005-04-03</td>\n",
       "      <td>Ricardo Rosset</td>\n",
       "      <td>\\N</td>\n",
       "      <td>Brazilian</td>\n",
       "      <td>7</td>\n",
       "      <td>48</td>\n",
       "      <td>14:30:00</td>\n",
       "      <td>2.0</td>\n",
       "    </tr>\n",
       "    <tr>\n",
       "      <th>73</th>\n",
       "      <td>San Marino Grand Prix</td>\n",
       "      <td>2005</td>\n",
       "      <td>Hanoi</td>\n",
       "      <td>2005-04-24</td>\n",
       "      <td>Esteban Tuero</td>\n",
       "      <td>\\N</td>\n",
       "      <td>Argentine</td>\n",
       "      <td>8</td>\n",
       "      <td>45</td>\n",
       "      <td>14:00:00</td>\n",
       "      <td>1.0</td>\n",
       "    </tr>\n",
       "    <tr>\n",
       "      <th>74</th>\n",
       "      <td>Spanish Grand Prix</td>\n",
       "      <td>2005</td>\n",
       "      <td>Portimão</td>\n",
       "      <td>2005-05-08</td>\n",
       "      <td>Shinji Nakano</td>\n",
       "      <td>\\N</td>\n",
       "      <td>Japanese</td>\n",
       "      <td>9</td>\n",
       "      <td>21</td>\n",
       "      <td>14:00:00</td>\n",
       "      <td>0.0</td>\n",
       "    </tr>\n",
       "    <tr>\n",
       "      <th>75</th>\n",
       "      <td>Monaco Grand Prix</td>\n",
       "      <td>2005</td>\n",
       "      <td>Mugello</td>\n",
       "      <td>2005-05-22</td>\n",
       "      <td>Jan Magnussen</td>\n",
       "      <td>\\N</td>\n",
       "      <td>Danish</td>\n",
       "      <td>10</td>\n",
       "      <td>40</td>\n",
       "      <td>14:00:00</td>\n",
       "      <td>0.0</td>\n",
       "    </tr>\n",
       "    <tr>\n",
       "      <th>76</th>\n",
       "      <td>European Grand Prix</td>\n",
       "      <td>2005</td>\n",
       "      <td>Jeddah</td>\n",
       "      <td>2005-05-29</td>\n",
       "      <td>Gerhard Berger</td>\n",
       "      <td>\\N</td>\n",
       "      <td>Austrian</td>\n",
       "      <td>11</td>\n",
       "      <td>57</td>\n",
       "      <td>14:00:00</td>\n",
       "      <td>0.0</td>\n",
       "    </tr>\n",
       "  </tbody>\n",
       "</table>\n",
       "<p>77 rows × 11 columns</p>\n",
       "</div>"
      ],
      "text/plain": [
       "                race_name  year      location        date               name  \\\n",
       "0   Australian Grand Prix  2009     Melbourne  2009-03-29     Lewis Hamilton   \n",
       "1    Malaysian Grand Prix  2009  Kuala Lumpur  2009-04-05      Nick Heidfeld   \n",
       "2      Chinese Grand Prix  2009        Sakhir  2009-04-19       Nico Rosberg   \n",
       "3      Bahrain Grand Prix  2009      Montmeló  2009-04-26    Fernando Alonso   \n",
       "4      Spanish Grand Prix  2009      Istanbul  2009-05-10  Heikki Kovalainen   \n",
       "..                    ...   ...           ...         ...                ...   \n",
       "72     Bahrain Grand Prix  2005          Baku  2005-04-03     Ricardo Rosset   \n",
       "73  San Marino Grand Prix  2005         Hanoi  2005-04-24      Esteban Tuero   \n",
       "74     Spanish Grand Prix  2005      Portimão  2005-05-08      Shinji Nakano   \n",
       "75      Monaco Grand Prix  2005       Mugello  2005-05-22      Jan Magnussen   \n",
       "76    European Grand Prix  2005        Jeddah  2005-05-29     Gerhard Berger   \n",
       "\n",
       "   driver_number nationality position fastest_Lap      time  points  \n",
       "0             44     British        1          39  06:00:00    10.0  \n",
       "1             \\N      German        2          41  09:00:00     8.0  \n",
       "2              6      German        3          41  07:00:00     6.0  \n",
       "3             14     Spanish        4          58  12:00:00     5.0  \n",
       "4             \\N     Finnish        5          43  12:00:00     4.0  \n",
       "..           ...         ...      ...         ...       ...     ...  \n",
       "72            \\N   Brazilian        7          48  14:30:00     2.0  \n",
       "73            \\N   Argentine        8          45  14:00:00     1.0  \n",
       "74            \\N    Japanese        9          21  14:00:00     0.0  \n",
       "75            \\N      Danish       10          40  14:00:00     0.0  \n",
       "76            \\N    Austrian       11          57  14:00:00     0.0  \n",
       "\n",
       "[77 rows x 11 columns]"
      ]
     },
     "execution_count": 142,
     "metadata": {},
     "output_type": "execute_result"
    }
   ],
   "source": [
    "team"
   ]
  },
  {
   "cell_type": "code",
   "execution_count": null,
   "id": "cdf3f6b5-d621-4a90-ad55-2b296023b6e0",
   "metadata": {},
   "outputs": [],
   "source": [
    "# team.join(dr_location)"
   ]
  },
  {
   "cell_type": "code",
   "execution_count": null,
   "id": "00e9347a-807e-4c83-bb31-dca037ac0679",
   "metadata": {},
   "outputs": [],
   "source": [
    "# (ra_name,ra_year,ca_location,ra_date,dr_name).apply(join)"
   ]
  },
  {
   "cell_type": "code",
   "execution_count": 143,
   "id": "cc0556f2-0a14-495a-94ac-0673783a03bd",
   "metadata": {},
   "outputs": [],
   "source": [
    "team.to_csv('race_results.csv',index=False)"
   ]
  },
  {
   "cell_type": "code",
   "execution_count": null,
   "id": "01b985cf-4870-4155-b3e5-73449466825f",
   "metadata": {},
   "outputs": [],
   "source": []
  }
 ],
 "metadata": {
  "kernelspec": {
   "display_name": "Python 3 (ipykernel)",
   "language": "python",
   "name": "python3"
  },
  "language_info": {
   "codemirror_mode": {
    "name": "ipython",
    "version": 3
   },
   "file_extension": ".py",
   "mimetype": "text/x-python",
   "name": "python",
   "nbconvert_exporter": "python",
   "pygments_lexer": "ipython3",
   "version": "3.8.0"
  }
 },
 "nbformat": 4,
 "nbformat_minor": 5
}
