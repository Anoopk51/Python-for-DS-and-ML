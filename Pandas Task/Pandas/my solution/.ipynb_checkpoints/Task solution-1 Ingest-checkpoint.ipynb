{
 "cells": [
  {
   "cell_type": "code",
   "execution_count": 1,
   "id": "aa45aaac-2c75-45b9-b125-2fdb88329126",
   "metadata": {},
   "outputs": [],
   "source": [
    "import pandas as pd\n",
    "import datetime"
   ]
  },
  {
   "cell_type": "markdown",
   "id": "fcc0c86c-8f0f-459a-bf63-cffc85eaf951",
   "metadata": {},
   "source": [
    "# 1."
   ]
  },
  {
   "cell_type": "code",
   "execution_count": 2,
   "id": "32862080-a3c1-401b-abcb-982dc13617b3",
   "metadata": {},
   "outputs": [],
   "source": [
    "cir=pd.read_csv('circuits.csv')"
   ]
  },
  {
   "cell_type": "code",
   "execution_count": 3,
   "id": "edcfe68c-68f8-4f76-bd75-0b94b5f6b15f",
   "metadata": {},
   "outputs": [
    {
     "data": {
      "text/html": [
       "<div>\n",
       "<style scoped>\n",
       "    .dataframe tbody tr th:only-of-type {\n",
       "        vertical-align: middle;\n",
       "    }\n",
       "\n",
       "    .dataframe tbody tr th {\n",
       "        vertical-align: top;\n",
       "    }\n",
       "\n",
       "    .dataframe thead th {\n",
       "        text-align: right;\n",
       "    }\n",
       "</style>\n",
       "<table border=\"1\" class=\"dataframe\">\n",
       "  <thead>\n",
       "    <tr style=\"text-align: right;\">\n",
       "      <th></th>\n",
       "      <th>circuitId</th>\n",
       "      <th>circuitRef</th>\n",
       "      <th>name</th>\n",
       "      <th>location</th>\n",
       "      <th>country</th>\n",
       "      <th>lat</th>\n",
       "      <th>lng</th>\n",
       "      <th>alt</th>\n",
       "      <th>url</th>\n",
       "    </tr>\n",
       "  </thead>\n",
       "  <tbody>\n",
       "    <tr>\n",
       "      <th>0</th>\n",
       "      <td>1</td>\n",
       "      <td>albert_park</td>\n",
       "      <td>Albert Park Grand Prix Circuit</td>\n",
       "      <td>Melbourne</td>\n",
       "      <td>Australia</td>\n",
       "      <td>-37.8497</td>\n",
       "      <td>144.968</td>\n",
       "      <td>10</td>\n",
       "      <td>http://en.wikipedia.org/wiki/Melbourne_Grand_P...</td>\n",
       "    </tr>\n",
       "  </tbody>\n",
       "</table>\n",
       "</div>"
      ],
      "text/plain": [
       "   circuitId   circuitRef                            name   location  \\\n",
       "0          1  albert_park  Albert Park Grand Prix Circuit  Melbourne   \n",
       "\n",
       "     country      lat      lng  alt  \\\n",
       "0  Australia -37.8497  144.968   10   \n",
       "\n",
       "                                                 url  \n",
       "0  http://en.wikipedia.org/wiki/Melbourne_Grand_P...  "
      ]
     },
     "execution_count": 3,
     "metadata": {},
     "output_type": "execute_result"
    }
   ],
   "source": [
    "cir.head(1)"
   ]
  },
  {
   "cell_type": "code",
   "execution_count": 4,
   "id": "67a801cf-e713-493e-9c21-c79da101646b",
   "metadata": {},
   "outputs": [],
   "source": [
    "cir.drop('url',axis=1,inplace=True)"
   ]
  },
  {
   "cell_type": "code",
   "execution_count": 5,
   "id": "16ec5d2b-1d44-48d4-9575-5bfbcdc340de",
   "metadata": {},
   "outputs": [],
   "source": [
    "cir.rename(columns={'circuitId':'circuit_Id','circuitRef':'circuit_Ref'},inplace=True)"
   ]
  },
  {
   "cell_type": "code",
   "execution_count": 6,
   "id": "4ba50daa-2f0a-4d1b-981b-0e46ee14199c",
   "metadata": {},
   "outputs": [],
   "source": [
    "cir['time_stamp']=datetime.datetime.now()"
   ]
  },
  {
   "cell_type": "code",
   "execution_count": 7,
   "id": "1bb73104-eb22-4df8-8a38-c13052cc4aa7",
   "metadata": {},
   "outputs": [
    {
     "data": {
      "text/html": [
       "<div>\n",
       "<style scoped>\n",
       "    .dataframe tbody tr th:only-of-type {\n",
       "        vertical-align: middle;\n",
       "    }\n",
       "\n",
       "    .dataframe tbody tr th {\n",
       "        vertical-align: top;\n",
       "    }\n",
       "\n",
       "    .dataframe thead th {\n",
       "        text-align: right;\n",
       "    }\n",
       "</style>\n",
       "<table border=\"1\" class=\"dataframe\">\n",
       "  <thead>\n",
       "    <tr style=\"text-align: right;\">\n",
       "      <th></th>\n",
       "      <th>circuit_Id</th>\n",
       "      <th>circuit_Ref</th>\n",
       "      <th>name</th>\n",
       "      <th>location</th>\n",
       "      <th>country</th>\n",
       "      <th>lat</th>\n",
       "      <th>lng</th>\n",
       "      <th>alt</th>\n",
       "      <th>time_stamp</th>\n",
       "    </tr>\n",
       "  </thead>\n",
       "  <tbody>\n",
       "    <tr>\n",
       "      <th>0</th>\n",
       "      <td>1</td>\n",
       "      <td>albert_park</td>\n",
       "      <td>Albert Park Grand Prix Circuit</td>\n",
       "      <td>Melbourne</td>\n",
       "      <td>Australia</td>\n",
       "      <td>-37.8497</td>\n",
       "      <td>144.968</td>\n",
       "      <td>10</td>\n",
       "      <td>2025-03-27 18:52:02.595864</td>\n",
       "    </tr>\n",
       "  </tbody>\n",
       "</table>\n",
       "</div>"
      ],
      "text/plain": [
       "   circuit_Id  circuit_Ref                            name   location  \\\n",
       "0           1  albert_park  Albert Park Grand Prix Circuit  Melbourne   \n",
       "\n",
       "     country      lat      lng  alt                 time_stamp  \n",
       "0  Australia -37.8497  144.968   10 2025-03-27 18:52:02.595864  "
      ]
     },
     "execution_count": 7,
     "metadata": {},
     "output_type": "execute_result"
    }
   ],
   "source": [
    "cir.head(1)"
   ]
  },
  {
   "cell_type": "code",
   "execution_count": 8,
   "id": "cf92f567-09b0-40ab-a5db-c0919b1dcc8a",
   "metadata": {},
   "outputs": [],
   "source": [
    "cir.to_csv('row_circuit.csv',index=False)"
   ]
  },
  {
   "cell_type": "markdown",
   "id": "5b1c2938-cad6-4908-be92-56ed7ec419ce",
   "metadata": {},
   "source": [
    "# 2."
   ]
  },
  {
   "cell_type": "code",
   "execution_count": 9,
   "id": "e407c465-8160-423c-8ea4-e29fbd784770",
   "metadata": {},
   "outputs": [],
   "source": [
    "cons=pd.read_json('constructors.json',lines=True)\n"
   ]
  },
  {
   "cell_type": "code",
   "execution_count": 10,
   "id": "e66f362a-aeac-4ab2-973b-19f955bdc6a0",
   "metadata": {},
   "outputs": [
    {
     "data": {
      "text/html": [
       "<div>\n",
       "<style scoped>\n",
       "    .dataframe tbody tr th:only-of-type {\n",
       "        vertical-align: middle;\n",
       "    }\n",
       "\n",
       "    .dataframe tbody tr th {\n",
       "        vertical-align: top;\n",
       "    }\n",
       "\n",
       "    .dataframe thead th {\n",
       "        text-align: right;\n",
       "    }\n",
       "</style>\n",
       "<table border=\"1\" class=\"dataframe\">\n",
       "  <thead>\n",
       "    <tr style=\"text-align: right;\">\n",
       "      <th></th>\n",
       "      <th>constructorId</th>\n",
       "      <th>constructorRef</th>\n",
       "      <th>name</th>\n",
       "      <th>nationality</th>\n",
       "      <th>url</th>\n",
       "    </tr>\n",
       "  </thead>\n",
       "  <tbody>\n",
       "    <tr>\n",
       "      <th>0</th>\n",
       "      <td>1</td>\n",
       "      <td>mclaren</td>\n",
       "      <td>McLaren</td>\n",
       "      <td>British</td>\n",
       "      <td>http://en.wikipedia.org/wiki/McLaren</td>\n",
       "    </tr>\n",
       "  </tbody>\n",
       "</table>\n",
       "</div>"
      ],
      "text/plain": [
       "   constructorId constructorRef     name nationality  \\\n",
       "0              1        mclaren  McLaren     British   \n",
       "\n",
       "                                    url  \n",
       "0  http://en.wikipedia.org/wiki/McLaren  "
      ]
     },
     "execution_count": 10,
     "metadata": {},
     "output_type": "execute_result"
    }
   ],
   "source": [
    "cons.head(1)"
   ]
  },
  {
   "cell_type": "code",
   "execution_count": 11,
   "id": "37c2dfa1-dbfe-44dc-bcaf-2a4391b65947",
   "metadata": {},
   "outputs": [],
   "source": [
    "cons.drop('url',inplace=True,axis=1)"
   ]
  },
  {
   "cell_type": "code",
   "execution_count": 12,
   "id": "f465478f-2a65-418f-a29c-cb8d75b0c6f2",
   "metadata": {},
   "outputs": [],
   "source": [
    "cons.rename(columns={'constructorId':'constructor_Id','constructorRef':'constructor_Ref'},inplace=True)"
   ]
  },
  {
   "cell_type": "code",
   "execution_count": 13,
   "id": "be210bce-fa04-43f2-b3d1-726d55a5a728",
   "metadata": {},
   "outputs": [],
   "source": [
    "cons['time_stamp']=datetime.datetime.now()"
   ]
  },
  {
   "cell_type": "code",
   "execution_count": 14,
   "id": "bbde2cc7-bd08-466a-aafc-4921c27744ca",
   "metadata": {},
   "outputs": [
    {
     "data": {
      "text/html": [
       "<div>\n",
       "<style scoped>\n",
       "    .dataframe tbody tr th:only-of-type {\n",
       "        vertical-align: middle;\n",
       "    }\n",
       "\n",
       "    .dataframe tbody tr th {\n",
       "        vertical-align: top;\n",
       "    }\n",
       "\n",
       "    .dataframe thead th {\n",
       "        text-align: right;\n",
       "    }\n",
       "</style>\n",
       "<table border=\"1\" class=\"dataframe\">\n",
       "  <thead>\n",
       "    <tr style=\"text-align: right;\">\n",
       "      <th></th>\n",
       "      <th>constructor_Id</th>\n",
       "      <th>constructor_Ref</th>\n",
       "      <th>name</th>\n",
       "      <th>nationality</th>\n",
       "      <th>time_stamp</th>\n",
       "    </tr>\n",
       "  </thead>\n",
       "  <tbody>\n",
       "    <tr>\n",
       "      <th>0</th>\n",
       "      <td>1</td>\n",
       "      <td>mclaren</td>\n",
       "      <td>McLaren</td>\n",
       "      <td>British</td>\n",
       "      <td>2025-03-27 18:52:02.734391</td>\n",
       "    </tr>\n",
       "  </tbody>\n",
       "</table>\n",
       "</div>"
      ],
      "text/plain": [
       "   constructor_Id constructor_Ref     name nationality  \\\n",
       "0               1         mclaren  McLaren     British   \n",
       "\n",
       "                  time_stamp  \n",
       "0 2025-03-27 18:52:02.734391  "
      ]
     },
     "execution_count": 14,
     "metadata": {},
     "output_type": "execute_result"
    }
   ],
   "source": [
    "cons.head(1)"
   ]
  },
  {
   "cell_type": "code",
   "execution_count": 15,
   "id": "d7855a8f-4b8f-4adc-9e09-4672b91548d7",
   "metadata": {},
   "outputs": [],
   "source": [
    "cons.to_csv('row_constructors.csv',index=False)"
   ]
  },
  {
   "cell_type": "markdown",
   "id": "291fd019-c36a-445b-916d-bc17794dfe3b",
   "metadata": {},
   "source": [
    "# 3"
   ]
  },
  {
   "cell_type": "code",
   "execution_count": 16,
   "id": "1008ebb3-da13-406f-a6e2-d5eae16f894a",
   "metadata": {},
   "outputs": [],
   "source": [
    "dri=pd.read_json(\"drivers.json\",lines=True)"
   ]
  },
  {
   "cell_type": "code",
   "execution_count": 17,
   "id": "04056130-0ce1-4353-b49c-1e938120c7d6",
   "metadata": {},
   "outputs": [
    {
     "data": {
      "text/html": [
       "<div>\n",
       "<style scoped>\n",
       "    .dataframe tbody tr th:only-of-type {\n",
       "        vertical-align: middle;\n",
       "    }\n",
       "\n",
       "    .dataframe tbody tr th {\n",
       "        vertical-align: top;\n",
       "    }\n",
       "\n",
       "    .dataframe thead th {\n",
       "        text-align: right;\n",
       "    }\n",
       "</style>\n",
       "<table border=\"1\" class=\"dataframe\">\n",
       "  <thead>\n",
       "    <tr style=\"text-align: right;\">\n",
       "      <th></th>\n",
       "      <th>driverId</th>\n",
       "      <th>driverRef</th>\n",
       "      <th>number</th>\n",
       "      <th>code</th>\n",
       "      <th>name</th>\n",
       "      <th>dob</th>\n",
       "      <th>nationality</th>\n",
       "      <th>url</th>\n",
       "    </tr>\n",
       "  </thead>\n",
       "  <tbody>\n",
       "    <tr>\n",
       "      <th>0</th>\n",
       "      <td>1</td>\n",
       "      <td>hamilton</td>\n",
       "      <td>44</td>\n",
       "      <td>HAM</td>\n",
       "      <td>{'forename': 'Lewis', 'surname': 'Hamilton'}</td>\n",
       "      <td>1985-01-07</td>\n",
       "      <td>British</td>\n",
       "      <td>http://en.wikipedia.org/wiki/Lewis_Hamilton</td>\n",
       "    </tr>\n",
       "  </tbody>\n",
       "</table>\n",
       "</div>"
      ],
      "text/plain": [
       "   driverId driverRef number code  \\\n",
       "0         1  hamilton     44  HAM   \n",
       "\n",
       "                                           name         dob nationality  \\\n",
       "0  {'forename': 'Lewis', 'surname': 'Hamilton'}  1985-01-07     British   \n",
       "\n",
       "                                           url  \n",
       "0  http://en.wikipedia.org/wiki/Lewis_Hamilton  "
      ]
     },
     "execution_count": 17,
     "metadata": {},
     "output_type": "execute_result"
    }
   ],
   "source": [
    "dri.head(1)"
   ]
  },
  {
   "cell_type": "code",
   "execution_count": 18,
   "id": "e466d330-33d6-4824-bee4-c70c4182d980",
   "metadata": {},
   "outputs": [],
   "source": [
    "d=dri['name']"
   ]
  },
  {
   "cell_type": "code",
   "execution_count": 19,
   "id": "1e718e9c-26c3-4505-bb94-fa97b56b6a1d",
   "metadata": {},
   "outputs": [
    {
     "data": {
      "text/plain": [
       "0    {'forename': 'Lewis', 'surname': 'Hamilton'}\n",
       "Name: name, dtype: object"
      ]
     },
     "execution_count": 19,
     "metadata": {},
     "output_type": "execute_result"
    }
   ],
   "source": [
    "d.head(1)"
   ]
  },
  {
   "cell_type": "code",
   "execution_count": 20,
   "id": "d593b9a4-54b4-4a27-8a81-4892645d7f25",
   "metadata": {},
   "outputs": [],
   "source": [
    "# d.items"
   ]
  },
  {
   "cell_type": "code",
   "execution_count": 21,
   "id": "8d99b710-4de2-4c13-a5fe-8d308d4fcc40",
   "metadata": {},
   "outputs": [],
   "source": [
    "dri_name=[]\n",
    "for key,value in d.items():\n",
    "    dri_name.append(value['forename']+' '+value['surname'])\n",
    "    "
   ]
  },
  {
   "cell_type": "code",
   "execution_count": 22,
   "id": "598bf9c2-7672-4418-8e05-2052368048c8",
   "metadata": {},
   "outputs": [],
   "source": [
    "dri['name']=dri_name"
   ]
  },
  {
   "cell_type": "code",
   "execution_count": 23,
   "id": "58ffd60a-6281-466b-8658-932a65dd67df",
   "metadata": {},
   "outputs": [
    {
     "data": {
      "text/html": [
       "<div>\n",
       "<style scoped>\n",
       "    .dataframe tbody tr th:only-of-type {\n",
       "        vertical-align: middle;\n",
       "    }\n",
       "\n",
       "    .dataframe tbody tr th {\n",
       "        vertical-align: top;\n",
       "    }\n",
       "\n",
       "    .dataframe thead th {\n",
       "        text-align: right;\n",
       "    }\n",
       "</style>\n",
       "<table border=\"1\" class=\"dataframe\">\n",
       "  <thead>\n",
       "    <tr style=\"text-align: right;\">\n",
       "      <th></th>\n",
       "      <th>driverId</th>\n",
       "      <th>driverRef</th>\n",
       "      <th>number</th>\n",
       "      <th>code</th>\n",
       "      <th>name</th>\n",
       "      <th>dob</th>\n",
       "      <th>nationality</th>\n",
       "      <th>url</th>\n",
       "    </tr>\n",
       "  </thead>\n",
       "  <tbody>\n",
       "    <tr>\n",
       "      <th>0</th>\n",
       "      <td>1</td>\n",
       "      <td>hamilton</td>\n",
       "      <td>44</td>\n",
       "      <td>HAM</td>\n",
       "      <td>Lewis Hamilton</td>\n",
       "      <td>1985-01-07</td>\n",
       "      <td>British</td>\n",
       "      <td>http://en.wikipedia.org/wiki/Lewis_Hamilton</td>\n",
       "    </tr>\n",
       "    <tr>\n",
       "      <th>1</th>\n",
       "      <td>2</td>\n",
       "      <td>heidfeld</td>\n",
       "      <td>\\N</td>\n",
       "      <td>HEI</td>\n",
       "      <td>Nick Heidfeld</td>\n",
       "      <td>1977-05-10</td>\n",
       "      <td>German</td>\n",
       "      <td>http://en.wikipedia.org/wiki/Nick_Heidfeld</td>\n",
       "    </tr>\n",
       "  </tbody>\n",
       "</table>\n",
       "</div>"
      ],
      "text/plain": [
       "   driverId driverRef number code            name         dob nationality  \\\n",
       "0         1  hamilton     44  HAM  Lewis Hamilton  1985-01-07     British   \n",
       "1         2  heidfeld     \\N  HEI   Nick Heidfeld  1977-05-10      German   \n",
       "\n",
       "                                           url  \n",
       "0  http://en.wikipedia.org/wiki/Lewis_Hamilton  \n",
       "1   http://en.wikipedia.org/wiki/Nick_Heidfeld  "
      ]
     },
     "execution_count": 23,
     "metadata": {},
     "output_type": "execute_result"
    }
   ],
   "source": [
    "dri.head(2)"
   ]
  },
  {
   "cell_type": "code",
   "execution_count": 24,
   "id": "0bbfd104-f6a4-45c9-b909-cd3ebbf3f5a4",
   "metadata": {},
   "outputs": [],
   "source": [
    "dri.drop('url',axis=1,inplace=True)"
   ]
  },
  {
   "cell_type": "code",
   "execution_count": 25,
   "id": "c84c3f44-7a1d-4de6-88b0-efebd0007041",
   "metadata": {},
   "outputs": [],
   "source": [
    "dri.rename(columns={'driverId':'driver_Id','driverRef':'driver_Ref'},inplace=True)"
   ]
  },
  {
   "cell_type": "code",
   "execution_count": 26,
   "id": "44bbf1a5-b602-4b4a-a3a8-00e06d6ded76",
   "metadata": {},
   "outputs": [],
   "source": [
    "dri['time_stamp']=datetime.datetime.now()"
   ]
  },
  {
   "cell_type": "code",
   "execution_count": 48,
   "id": "f0048737-c78f-4066-873f-004409b21024",
   "metadata": {},
   "outputs": [
    {
     "data": {
      "text/html": [
       "<div>\n",
       "<style scoped>\n",
       "    .dataframe tbody tr th:only-of-type {\n",
       "        vertical-align: middle;\n",
       "    }\n",
       "\n",
       "    .dataframe tbody tr th {\n",
       "        vertical-align: top;\n",
       "    }\n",
       "\n",
       "    .dataframe thead th {\n",
       "        text-align: right;\n",
       "    }\n",
       "</style>\n",
       "<table border=\"1\" class=\"dataframe\">\n",
       "  <thead>\n",
       "    <tr style=\"text-align: right;\">\n",
       "      <th></th>\n",
       "      <th>driver_Id</th>\n",
       "      <th>driver_Ref</th>\n",
       "      <th>number</th>\n",
       "      <th>code</th>\n",
       "      <th>name</th>\n",
       "      <th>dob</th>\n",
       "      <th>nationality</th>\n",
       "      <th>time_stamp</th>\n",
       "    </tr>\n",
       "  </thead>\n",
       "  <tbody>\n",
       "    <tr>\n",
       "      <th>0</th>\n",
       "      <td>1</td>\n",
       "      <td>hamilton</td>\n",
       "      <td>44</td>\n",
       "      <td>HAM</td>\n",
       "      <td>Lewis Hamilton</td>\n",
       "      <td>1985-01-07</td>\n",
       "      <td>British</td>\n",
       "      <td>2025-03-27 18:52:02.993223</td>\n",
       "    </tr>\n",
       "    <tr>\n",
       "      <th>1</th>\n",
       "      <td>2</td>\n",
       "      <td>heidfeld</td>\n",
       "      <td>\\N</td>\n",
       "      <td>HEI</td>\n",
       "      <td>Nick Heidfeld</td>\n",
       "      <td>1977-05-10</td>\n",
       "      <td>German</td>\n",
       "      <td>2025-03-27 18:52:02.993223</td>\n",
       "    </tr>\n",
       "    <tr>\n",
       "      <th>2</th>\n",
       "      <td>3</td>\n",
       "      <td>rosberg</td>\n",
       "      <td>6</td>\n",
       "      <td>ROS</td>\n",
       "      <td>Nico Rosberg</td>\n",
       "      <td>1985-06-27</td>\n",
       "      <td>German</td>\n",
       "      <td>2025-03-27 18:52:02.993223</td>\n",
       "    </tr>\n",
       "    <tr>\n",
       "      <th>3</th>\n",
       "      <td>4</td>\n",
       "      <td>alonso</td>\n",
       "      <td>14</td>\n",
       "      <td>ALO</td>\n",
       "      <td>Fernando Alonso</td>\n",
       "      <td>1981-07-29</td>\n",
       "      <td>Spanish</td>\n",
       "      <td>2025-03-27 18:52:02.993223</td>\n",
       "    </tr>\n",
       "    <tr>\n",
       "      <th>4</th>\n",
       "      <td>5</td>\n",
       "      <td>kovalainen</td>\n",
       "      <td>\\N</td>\n",
       "      <td>KOV</td>\n",
       "      <td>Heikki Kovalainen</td>\n",
       "      <td>1981-10-19</td>\n",
       "      <td>Finnish</td>\n",
       "      <td>2025-03-27 18:52:02.993223</td>\n",
       "    </tr>\n",
       "    <tr>\n",
       "      <th>5</th>\n",
       "      <td>6</td>\n",
       "      <td>nakajima</td>\n",
       "      <td>\\N</td>\n",
       "      <td>NAK</td>\n",
       "      <td>Kazuki Nakajima</td>\n",
       "      <td>1985-01-11</td>\n",
       "      <td>Japanese</td>\n",
       "      <td>2025-03-27 18:52:02.993223</td>\n",
       "    </tr>\n",
       "    <tr>\n",
       "      <th>6</th>\n",
       "      <td>7</td>\n",
       "      <td>bourdais</td>\n",
       "      <td>\\N</td>\n",
       "      <td>BOU</td>\n",
       "      <td>Sébastien Bourdais</td>\n",
       "      <td>1979-02-28</td>\n",
       "      <td>French</td>\n",
       "      <td>2025-03-27 18:52:02.993223</td>\n",
       "    </tr>\n",
       "    <tr>\n",
       "      <th>7</th>\n",
       "      <td>8</td>\n",
       "      <td>raikkonen</td>\n",
       "      <td>7</td>\n",
       "      <td>RAI</td>\n",
       "      <td>Kimi Räikkönen</td>\n",
       "      <td>1979-10-17</td>\n",
       "      <td>Finnish</td>\n",
       "      <td>2025-03-27 18:52:02.993223</td>\n",
       "    </tr>\n",
       "    <tr>\n",
       "      <th>8</th>\n",
       "      <td>9</td>\n",
       "      <td>kubica</td>\n",
       "      <td>88</td>\n",
       "      <td>KUB</td>\n",
       "      <td>Robert Kubica</td>\n",
       "      <td>1984-12-07</td>\n",
       "      <td>Polish</td>\n",
       "      <td>2025-03-27 18:52:02.993223</td>\n",
       "    </tr>\n",
       "    <tr>\n",
       "      <th>9</th>\n",
       "      <td>10</td>\n",
       "      <td>glock</td>\n",
       "      <td>\\N</td>\n",
       "      <td>GLO</td>\n",
       "      <td>Timo Glock</td>\n",
       "      <td>1982-03-18</td>\n",
       "      <td>German</td>\n",
       "      <td>2025-03-27 18:52:02.993223</td>\n",
       "    </tr>\n",
       "  </tbody>\n",
       "</table>\n",
       "</div>"
      ],
      "text/plain": [
       "   driver_Id  driver_Ref number code                name         dob  \\\n",
       "0          1    hamilton     44  HAM      Lewis Hamilton  1985-01-07   \n",
       "1          2    heidfeld     \\N  HEI       Nick Heidfeld  1977-05-10   \n",
       "2          3     rosberg      6  ROS        Nico Rosberg  1985-06-27   \n",
       "3          4      alonso     14  ALO     Fernando Alonso  1981-07-29   \n",
       "4          5  kovalainen     \\N  KOV   Heikki Kovalainen  1981-10-19   \n",
       "5          6    nakajima     \\N  NAK     Kazuki Nakajima  1985-01-11   \n",
       "6          7    bourdais     \\N  BOU  Sébastien Bourdais  1979-02-28   \n",
       "7          8   raikkonen      7  RAI      Kimi Räikkönen  1979-10-17   \n",
       "8          9      kubica     88  KUB       Robert Kubica  1984-12-07   \n",
       "9         10       glock     \\N  GLO          Timo Glock  1982-03-18   \n",
       "\n",
       "  nationality                 time_stamp  \n",
       "0     British 2025-03-27 18:52:02.993223  \n",
       "1      German 2025-03-27 18:52:02.993223  \n",
       "2      German 2025-03-27 18:52:02.993223  \n",
       "3     Spanish 2025-03-27 18:52:02.993223  \n",
       "4     Finnish 2025-03-27 18:52:02.993223  \n",
       "5    Japanese 2025-03-27 18:52:02.993223  \n",
       "6      French 2025-03-27 18:52:02.993223  \n",
       "7     Finnish 2025-03-27 18:52:02.993223  \n",
       "8      Polish 2025-03-27 18:52:02.993223  \n",
       "9      German 2025-03-27 18:52:02.993223  "
      ]
     },
     "execution_count": 48,
     "metadata": {},
     "output_type": "execute_result"
    }
   ],
   "source": [
    "dri.head(10)"
   ]
  },
  {
   "cell_type": "code",
   "execution_count": 28,
   "id": "e73a33a6-e8c2-451c-80ed-ffb37a038378",
   "metadata": {},
   "outputs": [],
   "source": [
    "dri.to_csv('row_drivers.csv',index=False)"
   ]
  },
  {
   "cell_type": "markdown",
   "id": "8b812406-0b5a-4d33-a5c1-29a4d915899f",
   "metadata": {},
   "source": [
    "# 4."
   ]
  },
  {
   "cell_type": "code",
   "execution_count": 29,
   "id": "b5a0fe0c-dbba-4997-bdb2-763f27c97024",
   "metadata": {},
   "outputs": [],
   "source": [
    "pit=pd.read_json('pit_stops.json')\n"
   ]
  },
  {
   "cell_type": "code",
   "execution_count": 30,
   "id": "b950e6dc-c899-4780-8d97-835aa3ed71c2",
   "metadata": {},
   "outputs": [
    {
     "data": {
      "text/html": [
       "<div>\n",
       "<style scoped>\n",
       "    .dataframe tbody tr th:only-of-type {\n",
       "        vertical-align: middle;\n",
       "    }\n",
       "\n",
       "    .dataframe tbody tr th {\n",
       "        vertical-align: top;\n",
       "    }\n",
       "\n",
       "    .dataframe thead th {\n",
       "        text-align: right;\n",
       "    }\n",
       "</style>\n",
       "<table border=\"1\" class=\"dataframe\">\n",
       "  <thead>\n",
       "    <tr style=\"text-align: right;\">\n",
       "      <th></th>\n",
       "      <th>raceId</th>\n",
       "      <th>driverId</th>\n",
       "      <th>stop</th>\n",
       "      <th>lap</th>\n",
       "      <th>time</th>\n",
       "      <th>duration</th>\n",
       "      <th>milliseconds</th>\n",
       "    </tr>\n",
       "  </thead>\n",
       "  <tbody>\n",
       "    <tr>\n",
       "      <th>0</th>\n",
       "      <td>841</td>\n",
       "      <td>153</td>\n",
       "      <td>1</td>\n",
       "      <td>1</td>\n",
       "      <td>17:05:23</td>\n",
       "      <td>26.898</td>\n",
       "      <td>26898</td>\n",
       "    </tr>\n",
       "    <tr>\n",
       "      <th>1</th>\n",
       "      <td>841</td>\n",
       "      <td>30</td>\n",
       "      <td>1</td>\n",
       "      <td>1</td>\n",
       "      <td>17:05:52</td>\n",
       "      <td>25.021</td>\n",
       "      <td>25021</td>\n",
       "    </tr>\n",
       "  </tbody>\n",
       "</table>\n",
       "</div>"
      ],
      "text/plain": [
       "   raceId  driverId  stop  lap      time duration  milliseconds\n",
       "0     841       153     1    1  17:05:23   26.898         26898\n",
       "1     841        30     1    1  17:05:52   25.021         25021"
      ]
     },
     "execution_count": 30,
     "metadata": {},
     "output_type": "execute_result"
    }
   ],
   "source": [
    "pit.head(2)"
   ]
  },
  {
   "cell_type": "code",
   "execution_count": 31,
   "id": "a3419b2c-e471-42c9-9122-10ebcb7929b5",
   "metadata": {},
   "outputs": [],
   "source": [
    "pit.rename(columns={'raceId':'race_Id','driverId':'driver_Id','milliseconds':'milli_seconds'},inplace=True)"
   ]
  },
  {
   "cell_type": "code",
   "execution_count": 32,
   "id": "fadf46ae-7508-4f84-b1f6-956bba9a75bf",
   "metadata": {},
   "outputs": [],
   "source": [
    "pit['time_stamp']=datetime.datetime.now()"
   ]
  },
  {
   "cell_type": "code",
   "execution_count": 33,
   "id": "efa69604-5ee8-4e99-b3de-5fc569b32105",
   "metadata": {},
   "outputs": [
    {
     "data": {
      "text/html": [
       "<div>\n",
       "<style scoped>\n",
       "    .dataframe tbody tr th:only-of-type {\n",
       "        vertical-align: middle;\n",
       "    }\n",
       "\n",
       "    .dataframe tbody tr th {\n",
       "        vertical-align: top;\n",
       "    }\n",
       "\n",
       "    .dataframe thead th {\n",
       "        text-align: right;\n",
       "    }\n",
       "</style>\n",
       "<table border=\"1\" class=\"dataframe\">\n",
       "  <thead>\n",
       "    <tr style=\"text-align: right;\">\n",
       "      <th></th>\n",
       "      <th>race_Id</th>\n",
       "      <th>driver_Id</th>\n",
       "      <th>stop</th>\n",
       "      <th>lap</th>\n",
       "      <th>time</th>\n",
       "      <th>duration</th>\n",
       "      <th>milli_seconds</th>\n",
       "      <th>time_stamp</th>\n",
       "    </tr>\n",
       "  </thead>\n",
       "  <tbody>\n",
       "    <tr>\n",
       "      <th>0</th>\n",
       "      <td>841</td>\n",
       "      <td>153</td>\n",
       "      <td>1</td>\n",
       "      <td>1</td>\n",
       "      <td>17:05:23</td>\n",
       "      <td>26.898</td>\n",
       "      <td>26898</td>\n",
       "      <td>2025-03-27 18:52:03.131841</td>\n",
       "    </tr>\n",
       "    <tr>\n",
       "      <th>1</th>\n",
       "      <td>841</td>\n",
       "      <td>30</td>\n",
       "      <td>1</td>\n",
       "      <td>1</td>\n",
       "      <td>17:05:52</td>\n",
       "      <td>25.021</td>\n",
       "      <td>25021</td>\n",
       "      <td>2025-03-27 18:52:03.131841</td>\n",
       "    </tr>\n",
       "  </tbody>\n",
       "</table>\n",
       "</div>"
      ],
      "text/plain": [
       "   race_Id  driver_Id  stop  lap      time duration  milli_seconds  \\\n",
       "0      841        153     1    1  17:05:23   26.898          26898   \n",
       "1      841         30     1    1  17:05:52   25.021          25021   \n",
       "\n",
       "                  time_stamp  \n",
       "0 2025-03-27 18:52:03.131841  \n",
       "1 2025-03-27 18:52:03.131841  "
      ]
     },
     "execution_count": 33,
     "metadata": {},
     "output_type": "execute_result"
    }
   ],
   "source": [
    "pit.head(2)"
   ]
  },
  {
   "cell_type": "code",
   "execution_count": 34,
   "id": "f5de65f1-077e-4839-9291-56f2fb3603c4",
   "metadata": {},
   "outputs": [],
   "source": [
    "pit.to_csv('row_driver.csv',index=False)"
   ]
  },
  {
   "cell_type": "markdown",
   "id": "9c154c3d-f8c3-4729-80cf-742ee34fdd39",
   "metadata": {},
   "source": [
    "# 5"
   ]
  },
  {
   "cell_type": "code",
   "execution_count": 35,
   "id": "4a016f30-eb92-4b4e-bc11-d4388cff0bf8",
   "metadata": {},
   "outputs": [],
   "source": [
    "rac= pd.read_csv('races.csv')"
   ]
  },
  {
   "cell_type": "code",
   "execution_count": 36,
   "id": "690a20dd-d2a7-4c9e-8f4d-1eabe5481ea0",
   "metadata": {},
   "outputs": [
    {
     "data": {
      "text/html": [
       "<div>\n",
       "<style scoped>\n",
       "    .dataframe tbody tr th:only-of-type {\n",
       "        vertical-align: middle;\n",
       "    }\n",
       "\n",
       "    .dataframe tbody tr th {\n",
       "        vertical-align: top;\n",
       "    }\n",
       "\n",
       "    .dataframe thead th {\n",
       "        text-align: right;\n",
       "    }\n",
       "</style>\n",
       "<table border=\"1\" class=\"dataframe\">\n",
       "  <thead>\n",
       "    <tr style=\"text-align: right;\">\n",
       "      <th></th>\n",
       "      <th>raceId</th>\n",
       "      <th>year</th>\n",
       "      <th>round</th>\n",
       "      <th>circuitId</th>\n",
       "      <th>name</th>\n",
       "      <th>date</th>\n",
       "      <th>time</th>\n",
       "      <th>url</th>\n",
       "    </tr>\n",
       "  </thead>\n",
       "  <tbody>\n",
       "    <tr>\n",
       "      <th>0</th>\n",
       "      <td>1</td>\n",
       "      <td>2009</td>\n",
       "      <td>1</td>\n",
       "      <td>1</td>\n",
       "      <td>Australian Grand Prix</td>\n",
       "      <td>2009-03-29</td>\n",
       "      <td>06:00:00</td>\n",
       "      <td>http://en.wikipedia.org/wiki/2009_Australian_G...</td>\n",
       "    </tr>\n",
       "    <tr>\n",
       "      <th>1</th>\n",
       "      <td>2</td>\n",
       "      <td>2009</td>\n",
       "      <td>2</td>\n",
       "      <td>2</td>\n",
       "      <td>Malaysian Grand Prix</td>\n",
       "      <td>2009-04-05</td>\n",
       "      <td>09:00:00</td>\n",
       "      <td>http://en.wikipedia.org/wiki/2009_Malaysian_Gr...</td>\n",
       "    </tr>\n",
       "  </tbody>\n",
       "</table>\n",
       "</div>"
      ],
      "text/plain": [
       "   raceId  year  round  circuitId                   name        date  \\\n",
       "0       1  2009      1          1  Australian Grand Prix  2009-03-29   \n",
       "1       2  2009      2          2   Malaysian Grand Prix  2009-04-05   \n",
       "\n",
       "       time                                                url  \n",
       "0  06:00:00  http://en.wikipedia.org/wiki/2009_Australian_G...  \n",
       "1  09:00:00  http://en.wikipedia.org/wiki/2009_Malaysian_Gr...  "
      ]
     },
     "execution_count": 36,
     "metadata": {},
     "output_type": "execute_result"
    }
   ],
   "source": [
    "rac.head(2)"
   ]
  },
  {
   "cell_type": "code",
   "execution_count": 37,
   "id": "e537166e-b4f7-4b49-9359-1ac2bcc3cfec",
   "metadata": {},
   "outputs": [],
   "source": [
    "rac.drop('url',inplace=True,axis=1)"
   ]
  },
  {
   "cell_type": "code",
   "execution_count": 38,
   "id": "ceedcd89-100a-4577-a9e5-f44c529f2d17",
   "metadata": {},
   "outputs": [],
   "source": [
    "rac.rename(columns={'raceId':'race_Id','circuitId':'circuit_Id','name':'race_name'},inplace=True)"
   ]
  },
  {
   "cell_type": "code",
   "execution_count": 39,
   "id": "27abf4dd-d74f-4829-8f18-c602aa2bb2a4",
   "metadata": {},
   "outputs": [],
   "source": [
    "rac['time_stamp']=datetime.datetime.now()"
   ]
  },
  {
   "cell_type": "code",
   "execution_count": 40,
   "id": "33c41a63-5d65-478d-83c0-edbffc9b0a08",
   "metadata": {},
   "outputs": [
    {
     "data": {
      "text/html": [
       "<div>\n",
       "<style scoped>\n",
       "    .dataframe tbody tr th:only-of-type {\n",
       "        vertical-align: middle;\n",
       "    }\n",
       "\n",
       "    .dataframe tbody tr th {\n",
       "        vertical-align: top;\n",
       "    }\n",
       "\n",
       "    .dataframe thead th {\n",
       "        text-align: right;\n",
       "    }\n",
       "</style>\n",
       "<table border=\"1\" class=\"dataframe\">\n",
       "  <thead>\n",
       "    <tr style=\"text-align: right;\">\n",
       "      <th></th>\n",
       "      <th>race_Id</th>\n",
       "      <th>year</th>\n",
       "      <th>round</th>\n",
       "      <th>circuit_Id</th>\n",
       "      <th>race_name</th>\n",
       "      <th>date</th>\n",
       "      <th>time</th>\n",
       "      <th>time_stamp</th>\n",
       "    </tr>\n",
       "  </thead>\n",
       "  <tbody>\n",
       "    <tr>\n",
       "      <th>0</th>\n",
       "      <td>1</td>\n",
       "      <td>2009</td>\n",
       "      <td>1</td>\n",
       "      <td>1</td>\n",
       "      <td>Australian Grand Prix</td>\n",
       "      <td>2009-03-29</td>\n",
       "      <td>06:00:00</td>\n",
       "      <td>2025-03-27 18:52:03.311426</td>\n",
       "    </tr>\n",
       "  </tbody>\n",
       "</table>\n",
       "</div>"
      ],
      "text/plain": [
       "   race_Id  year  round  circuit_Id              race_name        date  \\\n",
       "0        1  2009      1           1  Australian Grand Prix  2009-03-29   \n",
       "\n",
       "       time                 time_stamp  \n",
       "0  06:00:00 2025-03-27 18:52:03.311426  "
      ]
     },
     "execution_count": 40,
     "metadata": {},
     "output_type": "execute_result"
    }
   ],
   "source": [
    "rac.head(1)"
   ]
  },
  {
   "cell_type": "code",
   "execution_count": 41,
   "id": "4efea49b-3a06-4561-9dc8-76960092a2c9",
   "metadata": {},
   "outputs": [],
   "source": [
    "rac.to_csv('row races.csv',index=False)"
   ]
  },
  {
   "cell_type": "markdown",
   "id": "b3260d38-fedc-4474-8edb-0c563d5a7d33",
   "metadata": {},
   "source": [
    "# 6."
   ]
  },
  {
   "cell_type": "code",
   "execution_count": 42,
   "id": "0fb69608-1f8b-4561-a3f4-f5b1573fc375",
   "metadata": {},
   "outputs": [],
   "source": [
    "re=pd.read_json('results.json',lines=True)"
   ]
  },
  {
   "cell_type": "code",
   "execution_count": 43,
   "id": "50e7da8d-78df-42ec-bfcd-ba9fbc71b1db",
   "metadata": {},
   "outputs": [
    {
     "data": {
      "text/html": [
       "<div>\n",
       "<style scoped>\n",
       "    .dataframe tbody tr th:only-of-type {\n",
       "        vertical-align: middle;\n",
       "    }\n",
       "\n",
       "    .dataframe tbody tr th {\n",
       "        vertical-align: top;\n",
       "    }\n",
       "\n",
       "    .dataframe thead th {\n",
       "        text-align: right;\n",
       "    }\n",
       "</style>\n",
       "<table border=\"1\" class=\"dataframe\">\n",
       "  <thead>\n",
       "    <tr style=\"text-align: right;\">\n",
       "      <th></th>\n",
       "      <th>resultId</th>\n",
       "      <th>raceId</th>\n",
       "      <th>driverId</th>\n",
       "      <th>constructorId</th>\n",
       "      <th>number</th>\n",
       "      <th>grid</th>\n",
       "      <th>position</th>\n",
       "      <th>positionText</th>\n",
       "      <th>positionOrder</th>\n",
       "      <th>points</th>\n",
       "      <th>laps</th>\n",
       "      <th>time</th>\n",
       "      <th>milliseconds</th>\n",
       "      <th>fastestLap</th>\n",
       "      <th>rank</th>\n",
       "      <th>fastestLapTime</th>\n",
       "      <th>fastestLapSpeed</th>\n",
       "      <th>statusId</th>\n",
       "    </tr>\n",
       "  </thead>\n",
       "  <tbody>\n",
       "    <tr>\n",
       "      <th>0</th>\n",
       "      <td>1</td>\n",
       "      <td>18</td>\n",
       "      <td>1</td>\n",
       "      <td>1</td>\n",
       "      <td>22</td>\n",
       "      <td>1</td>\n",
       "      <td>1</td>\n",
       "      <td>1</td>\n",
       "      <td>1</td>\n",
       "      <td>10.0</td>\n",
       "      <td>58</td>\n",
       "      <td>1:34:50.616</td>\n",
       "      <td>5690616</td>\n",
       "      <td>39</td>\n",
       "      <td>2</td>\n",
       "      <td>1:27.452</td>\n",
       "      <td>218.3</td>\n",
       "      <td>1</td>\n",
       "    </tr>\n",
       "  </tbody>\n",
       "</table>\n",
       "</div>"
      ],
      "text/plain": [
       "   resultId  raceId  driverId  constructorId number  grid position  \\\n",
       "0         1      18         1              1     22     1        1   \n",
       "\n",
       "  positionText  positionOrder  points  laps         time milliseconds  \\\n",
       "0            1              1    10.0    58  1:34:50.616      5690616   \n",
       "\n",
       "  fastestLap rank fastestLapTime fastestLapSpeed  statusId  \n",
       "0         39    2       1:27.452           218.3         1  "
      ]
     },
     "execution_count": 43,
     "metadata": {},
     "output_type": "execute_result"
    }
   ],
   "source": [
    "re.head(1)"
   ]
  },
  {
   "cell_type": "code",
   "execution_count": 44,
   "id": "50591fee-8ff5-4773-85e2-30aca57abe2e",
   "metadata": {},
   "outputs": [],
   "source": [
    "re.rename(columns={'resultId':'result_Id','raceId':'race_Id','driverId':'driver_Id','constructorId':'constructor_Id',\n",
    "                  'positionOrder':'position_Order','milliseconds':'milli_seconds','positionText':'position_Text',\n",
    "                  'fastestLap':'fastest_Lap','fastestLapTime':'fastest_Lap_Time','fastestLapSpeed':'fastest_Lap_Speed','statusId':'status_Id'},inplace=True)"
   ]
  },
  {
   "cell_type": "code",
   "execution_count": 45,
   "id": "33870c02-29e7-43be-b946-2160636eb5e4",
   "metadata": {},
   "outputs": [],
   "source": [
    "re['time_stamp']=datetime.datetime.now()"
   ]
  },
  {
   "cell_type": "code",
   "execution_count": 46,
   "id": "35d04846-a7f8-46f4-b481-f61b32a0842b",
   "metadata": {},
   "outputs": [
    {
     "data": {
      "text/html": [
       "<div>\n",
       "<style scoped>\n",
       "    .dataframe tbody tr th:only-of-type {\n",
       "        vertical-align: middle;\n",
       "    }\n",
       "\n",
       "    .dataframe tbody tr th {\n",
       "        vertical-align: top;\n",
       "    }\n",
       "\n",
       "    .dataframe thead th {\n",
       "        text-align: right;\n",
       "    }\n",
       "</style>\n",
       "<table border=\"1\" class=\"dataframe\">\n",
       "  <thead>\n",
       "    <tr style=\"text-align: right;\">\n",
       "      <th></th>\n",
       "      <th>result_Id</th>\n",
       "      <th>race_Id</th>\n",
       "      <th>driver_Id</th>\n",
       "      <th>constructor_Id</th>\n",
       "      <th>number</th>\n",
       "      <th>grid</th>\n",
       "      <th>position</th>\n",
       "      <th>position_Text</th>\n",
       "      <th>position_Order</th>\n",
       "      <th>points</th>\n",
       "      <th>laps</th>\n",
       "      <th>time</th>\n",
       "      <th>milli_seconds</th>\n",
       "      <th>fastest_Lap</th>\n",
       "      <th>rank</th>\n",
       "      <th>fastest_Lap_Time</th>\n",
       "      <th>fastest_Lap_Speed</th>\n",
       "      <th>status_Id</th>\n",
       "      <th>time_stamp</th>\n",
       "    </tr>\n",
       "  </thead>\n",
       "  <tbody>\n",
       "    <tr>\n",
       "      <th>0</th>\n",
       "      <td>1</td>\n",
       "      <td>18</td>\n",
       "      <td>1</td>\n",
       "      <td>1</td>\n",
       "      <td>22</td>\n",
       "      <td>1</td>\n",
       "      <td>1</td>\n",
       "      <td>1</td>\n",
       "      <td>1</td>\n",
       "      <td>10.0</td>\n",
       "      <td>58</td>\n",
       "      <td>1:34:50.616</td>\n",
       "      <td>5690616</td>\n",
       "      <td>39</td>\n",
       "      <td>2</td>\n",
       "      <td>1:27.452</td>\n",
       "      <td>218.3</td>\n",
       "      <td>1</td>\n",
       "      <td>2025-03-27 18:52:03.658473</td>\n",
       "    </tr>\n",
       "    <tr>\n",
       "      <th>1</th>\n",
       "      <td>2</td>\n",
       "      <td>18</td>\n",
       "      <td>2</td>\n",
       "      <td>2</td>\n",
       "      <td>3</td>\n",
       "      <td>5</td>\n",
       "      <td>2</td>\n",
       "      <td>2</td>\n",
       "      <td>2</td>\n",
       "      <td>8.0</td>\n",
       "      <td>58</td>\n",
       "      <td>+5.478</td>\n",
       "      <td>5696094</td>\n",
       "      <td>41</td>\n",
       "      <td>3</td>\n",
       "      <td>1:27.739</td>\n",
       "      <td>217.586</td>\n",
       "      <td>1</td>\n",
       "      <td>2025-03-27 18:52:03.658473</td>\n",
       "    </tr>\n",
       "  </tbody>\n",
       "</table>\n",
       "</div>"
      ],
      "text/plain": [
       "   result_Id  race_Id  driver_Id  constructor_Id number  grid position  \\\n",
       "0          1       18          1               1     22     1        1   \n",
       "1          2       18          2               2      3     5        2   \n",
       "\n",
       "  position_Text  position_Order  points  laps         time milli_seconds  \\\n",
       "0             1               1    10.0    58  1:34:50.616       5690616   \n",
       "1             2               2     8.0    58       +5.478       5696094   \n",
       "\n",
       "  fastest_Lap rank fastest_Lap_Time fastest_Lap_Speed  status_Id  \\\n",
       "0          39    2         1:27.452             218.3          1   \n",
       "1          41    3         1:27.739           217.586          1   \n",
       "\n",
       "                  time_stamp  \n",
       "0 2025-03-27 18:52:03.658473  \n",
       "1 2025-03-27 18:52:03.658473  "
      ]
     },
     "execution_count": 46,
     "metadata": {},
     "output_type": "execute_result"
    }
   ],
   "source": [
    "re.head(2)"
   ]
  },
  {
   "cell_type": "code",
   "execution_count": 47,
   "id": "5a3e38f0-5ebf-4f4e-975f-c75aeba41b3f",
   "metadata": {},
   "outputs": [],
   "source": [
    "re.to_csv('row_result.csv',index=False)"
   ]
  },
  {
   "cell_type": "code",
   "execution_count": null,
   "id": "6c56a239-fc4d-4cec-bc20-a1acc7d6e725",
   "metadata": {},
   "outputs": [],
   "source": []
  }
 ],
 "metadata": {
  "kernelspec": {
   "display_name": "Python 3 (ipykernel)",
   "language": "python",
   "name": "python3"
  },
  "language_info": {
   "codemirror_mode": {
    "name": "ipython",
    "version": 3
   },
   "file_extension": ".py",
   "mimetype": "text/x-python",
   "name": "python",
   "nbconvert_exporter": "python",
   "pygments_lexer": "ipython3",
   "version": "3.8.0"
  }
 },
 "nbformat": 4,
 "nbformat_minor": 5
}
