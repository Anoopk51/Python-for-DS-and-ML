{
 "cells": [
  {
   "cell_type": "code",
   "execution_count": 1,
   "id": "386fbabb-311c-42c9-be72-04cda6b5deae",
   "metadata": {},
   "outputs": [],
   "source": [
    "import numpy as np"
   ]
  },
  {
   "cell_type": "code",
   "execution_count": 2,
   "id": "517c3bb0-4589-442e-84b9-15b9a215e5f2",
   "metadata": {},
   "outputs": [
    {
     "data": {
      "text/plain": [
       "[1, 2, 3, 4, 5]"
      ]
     },
     "execution_count": 2,
     "metadata": {},
     "output_type": "execute_result"
    }
   ],
   "source": [
    "list=[1,2,3,4,5]\n",
    "list"
   ]
  },
  {
   "cell_type": "code",
   "execution_count": 3,
   "id": "9d64c2de-afb0-4158-969e-aeeb29ad9f29",
   "metadata": {},
   "outputs": [],
   "source": [
    "arr=np.array(list)"
   ]
  },
  {
   "cell_type": "code",
   "execution_count": 4,
   "id": "5122a197-25b0-43ef-82c1-807c46ebebc7",
   "metadata": {},
   "outputs": [
    {
     "data": {
      "text/plain": [
       "array([1, 2, 3, 4, 5])"
      ]
     },
     "execution_count": 4,
     "metadata": {},
     "output_type": "execute_result"
    }
   ],
   "source": [
    "arr"
   ]
  },
  {
   "cell_type": "code",
   "execution_count": 5,
   "id": "8d9a7f3e-6e32-40f2-b002-d8e1d00a8698",
   "metadata": {
    "scrolled": true
   },
   "outputs": [
    {
     "name": "stdout",
     "output_type": "stream",
     "text": [
      "[1 2 3 4 5]\n"
     ]
    }
   ],
   "source": [
    "print(arr)"
   ]
  },
  {
   "cell_type": "code",
   "execution_count": 6,
   "id": "8eb7b430-8450-4a46-a36b-506567d1c3b0",
   "metadata": {},
   "outputs": [
    {
     "data": {
      "text/plain": [
       "numpy.ndarray"
      ]
     },
     "execution_count": 6,
     "metadata": {},
     "output_type": "execute_result"
    }
   ],
   "source": [
    "type(arr)"
   ]
  },
  {
   "cell_type": "code",
   "execution_count": 7,
   "id": "8251a72e-cce5-4a33-a5a8-fef02aa934f5",
   "metadata": {},
   "outputs": [
    {
     "name": "stdout",
     "output_type": "stream",
     "text": [
      "<class 'numpy.ndarray'>\n"
     ]
    }
   ],
   "source": [
    "print(type(arr))"
   ]
  },
  {
   "cell_type": "code",
   "execution_count": 8,
   "id": "d2676bc0-f9a3-407e-86bc-d852099d8f5c",
   "metadata": {},
   "outputs": [
    {
     "data": {
      "text/plain": [
       "array([1, 2, 3])"
      ]
     },
     "execution_count": 8,
     "metadata": {},
     "output_type": "execute_result"
    }
   ],
   "source": [
    "arr[:3]"
   ]
  },
  {
   "cell_type": "code",
   "execution_count": 9,
   "id": "9198fece-9b2b-46bc-81ab-9cbbec268f01",
   "metadata": {},
   "outputs": [
    {
     "data": {
      "text/plain": [
       "array([2, 3, 4, 5])"
      ]
     },
     "execution_count": 9,
     "metadata": {},
     "output_type": "execute_result"
    }
   ],
   "source": [
    "arr[1:]"
   ]
  },
  {
   "cell_type": "code",
   "execution_count": 11,
   "id": "8f7477f6-5069-4b7a-a046-fc86d3a7c479",
   "metadata": {},
   "outputs": [],
   "source": [
    "arr[:]=1"
   ]
  },
  {
   "cell_type": "code",
   "execution_count": 12,
   "id": "752d7cd0-c613-473c-b2f0-5ecd266449c5",
   "metadata": {},
   "outputs": [
    {
     "data": {
      "text/plain": [
       "array([1, 1, 1, 1, 1])"
      ]
     },
     "execution_count": 12,
     "metadata": {},
     "output_type": "execute_result"
    }
   ],
   "source": [
    "arr"
   ]
  },
  {
   "cell_type": "code",
   "execution_count": 16,
   "id": "b8fce370-5928-4723-ba1a-4af4992a66ec",
   "metadata": {},
   "outputs": [],
   "source": [
    "arr[1]=3"
   ]
  },
  {
   "cell_type": "code",
   "execution_count": 17,
   "id": "fe9630f7-8338-42be-9019-f481965a4937",
   "metadata": {},
   "outputs": [
    {
     "data": {
      "text/plain": [
       "array([1, 3, 1, 1, 1])"
      ]
     },
     "execution_count": 17,
     "metadata": {},
     "output_type": "execute_result"
    }
   ],
   "source": [
    "arr"
   ]
  },
  {
   "cell_type": "code",
   "execution_count": 18,
   "id": "07a2036d-1b34-42d3-9981-39d5aa8ac1d7",
   "metadata": {},
   "outputs": [
    {
     "data": {
      "text/plain": [
       "array([[1., 0., 0., 0., 0.],\n",
       "       [0., 1., 0., 0., 0.],\n",
       "       [0., 0., 1., 0., 0.],\n",
       "       [0., 0., 0., 1., 0.],\n",
       "       [0., 0., 0., 0., 1.]])"
      ]
     },
     "execution_count": 18,
     "metadata": {},
     "output_type": "execute_result"
    }
   ],
   "source": [
    "np.eye(5)"
   ]
  },
  {
   "cell_type": "code",
   "execution_count": 19,
   "id": "fd7953bd-84c7-4856-8f70-b1b2bff73ddf",
   "metadata": {},
   "outputs": [
    {
     "data": {
      "text/plain": [
       "array([[1, 0, 0, 0, 0],\n",
       "       [0, 1, 0, 0, 0],\n",
       "       [0, 0, 1, 0, 0],\n",
       "       [0, 0, 0, 1, 0],\n",
       "       [0, 0, 0, 0, 1]])"
      ]
     },
     "execution_count": 19,
     "metadata": {},
     "output_type": "execute_result"
    }
   ],
   "source": [
    "np.eye(5,dtype=int\n",
    "      )"
   ]
  },
  {
   "cell_type": "code",
   "execution_count": 20,
   "id": "98726daa-5920-4224-a5b0-0067c9bf58e3",
   "metadata": {},
   "outputs": [
    {
     "data": {
      "text/plain": [
       "array([[1, 0, 0],\n",
       "       [0, 1, 0],\n",
       "       [0, 0, 1]])"
      ]
     },
     "execution_count": 20,
     "metadata": {},
     "output_type": "execute_result"
    }
   ],
   "source": [
    "np.eye(3,dtype=int)"
   ]
  },
  {
   "cell_type": "code",
   "execution_count": 22,
   "id": "c0011e0f-e0c1-4290-b955-cb31bfecb31a",
   "metadata": {},
   "outputs": [
    {
     "data": {
      "text/plain": [
       "array([0., 0., 0.])"
      ]
     },
     "execution_count": 22,
     "metadata": {},
     "output_type": "execute_result"
    }
   ],
   "source": [
    "np.zeros(3)"
   ]
  },
  {
   "cell_type": "code",
   "execution_count": 23,
   "id": "7f13525a-677c-443b-bf62-5e4003d693ba",
   "metadata": {},
   "outputs": [
    {
     "data": {
      "text/plain": [
       "array([0, 0, 0])"
      ]
     },
     "execution_count": 23,
     "metadata": {},
     "output_type": "execute_result"
    }
   ],
   "source": [
    "np.zeros(3,dtype=int)"
   ]
  },
  {
   "cell_type": "code",
   "execution_count": 25,
   "id": "f4993f6c-58b7-4cfd-80ee-bfb091451034",
   "metadata": {},
   "outputs": [
    {
     "data": {
      "text/plain": [
       "array([1., 1., 1.])"
      ]
     },
     "execution_count": 25,
     "metadata": {},
     "output_type": "execute_result"
    }
   ],
   "source": [
    "np.ones(3)"
   ]
  },
  {
   "cell_type": "code",
   "execution_count": 26,
   "id": "4eac5c66-429d-48c1-a576-255b11d82bde",
   "metadata": {},
   "outputs": [
    {
     "data": {
      "text/plain": [
       "array([1, 1, 1])"
      ]
     },
     "execution_count": 26,
     "metadata": {},
     "output_type": "execute_result"
    }
   ],
   "source": [
    "np.ones(3,dtype=int)"
   ]
  },
  {
   "cell_type": "code",
   "execution_count": 27,
   "id": "ba8a6d7b-3f3a-4c80-8e6a-dc77d0ce05e3",
   "metadata": {},
   "outputs": [
    {
     "data": {
      "text/plain": [
       "np.int64(1)"
      ]
     },
     "execution_count": 27,
     "metadata": {},
     "output_type": "execute_result"
    }
   ],
   "source": [
    "arr.argmax()"
   ]
  },
  {
   "cell_type": "code",
   "execution_count": 31,
   "id": "fdfbe27b-f0ba-44f9-8135-2357a41fa9ac",
   "metadata": {},
   "outputs": [
    {
     "data": {
      "text/plain": [
       "array([2, 3, 4, 5, 6, 7])"
      ]
     },
     "execution_count": 31,
     "metadata": {},
     "output_type": "execute_result"
    }
   ],
   "source": [
    "arr1=np.array([2,3,4,5,6,7])\n",
    "arr1"
   ]
  },
  {
   "cell_type": "code",
   "execution_count": 33,
   "id": "90766047-fc38-402d-8856-a1c50644f390",
   "metadata": {},
   "outputs": [
    {
     "name": "stdout",
     "output_type": "stream",
     "text": [
      "5\n"
     ]
    }
   ],
   "source": [
    "print(arr1.argmax())"
   ]
  },
  {
   "cell_type": "code",
   "execution_count": 34,
   "id": "bb06e974-bb45-427d-a562-3d8e1f2d4a32",
   "metadata": {},
   "outputs": [
    {
     "data": {
      "text/plain": [
       "np.int64(7)"
      ]
     },
     "execution_count": 34,
     "metadata": {},
     "output_type": "execute_result"
    }
   ],
   "source": [
    "arr1.max()"
   ]
  },
  {
   "cell_type": "code",
   "execution_count": 35,
   "id": "fbc731d9-8e36-41b8-a9f6-d124309fd43b",
   "metadata": {},
   "outputs": [
    {
     "data": {
      "text/plain": [
       "np.int64(2)"
      ]
     },
     "execution_count": 35,
     "metadata": {},
     "output_type": "execute_result"
    }
   ],
   "source": [
    "arr1.min()"
   ]
  },
  {
   "cell_type": "code",
   "execution_count": 36,
   "id": "0f3cc511-5aaa-409f-8b4f-badb200ecf4a",
   "metadata": {},
   "outputs": [
    {
     "data": {
      "text/plain": [
       "np.int64(0)"
      ]
     },
     "execution_count": 36,
     "metadata": {},
     "output_type": "execute_result"
    }
   ],
   "source": [
    "arr1.argmin()"
   ]
  },
  {
   "cell_type": "code",
   "execution_count": 37,
   "id": "34e9dfdb-1997-4386-b767-07dd86e2b415",
   "metadata": {},
   "outputs": [
    {
     "name": "stdout",
     "output_type": "stream",
     "text": [
      "0\n"
     ]
    }
   ],
   "source": [
    "print(arr1.argmin())"
   ]
  },
  {
   "cell_type": "code",
   "execution_count": 44,
   "id": "ba407342-3812-4d3f-8524-7fa3ebc9d613",
   "metadata": {},
   "outputs": [
    {
     "data": {
      "text/plain": [
       "array([2.        , 2.04081633, 2.08163265, 2.12244898, 2.16326531,\n",
       "       2.20408163, 2.24489796, 2.28571429, 2.32653061, 2.36734694,\n",
       "       2.40816327, 2.44897959, 2.48979592, 2.53061224, 2.57142857,\n",
       "       2.6122449 , 2.65306122, 2.69387755, 2.73469388, 2.7755102 ,\n",
       "       2.81632653, 2.85714286, 2.89795918, 2.93877551, 2.97959184,\n",
       "       3.02040816, 3.06122449, 3.10204082, 3.14285714, 3.18367347,\n",
       "       3.2244898 , 3.26530612, 3.30612245, 3.34693878, 3.3877551 ,\n",
       "       3.42857143, 3.46938776, 3.51020408, 3.55102041, 3.59183673,\n",
       "       3.63265306, 3.67346939, 3.71428571, 3.75510204, 3.79591837,\n",
       "       3.83673469, 3.87755102, 3.91836735, 3.95918367, 4.        ])"
      ]
     },
     "execution_count": 44,
     "metadata": {},
     "output_type": "execute_result"
    }
   ],
   "source": [
    "np.linspace(2,4)"
   ]
  },
  {
   "cell_type": "code",
   "execution_count": 45,
   "id": "bdd2a541-ef02-4b09-b1b6-6e34b0959f48",
   "metadata": {},
   "outputs": [
    {
     "data": {
      "text/plain": [
       "array([2. , 2.5, 3. , 3.5, 4. ])"
      ]
     },
     "execution_count": 45,
     "metadata": {},
     "output_type": "execute_result"
    }
   ],
   "source": [
    "np.linspace(2,4,5)"
   ]
  },
  {
   "cell_type": "code",
   "execution_count": 46,
   "id": "d43b9780-7b29-46a2-b4e6-06430c6ab699",
   "metadata": {},
   "outputs": [
    {
     "data": {
      "text/plain": [
       "array([2, 2, 2, 2, 2, 2, 2, 2, 2, 2, 2, 2, 2, 2, 2, 2, 2, 2, 2, 2, 2, 2,\n",
       "       2, 2, 2, 3, 3, 3, 3, 3, 3, 3, 3, 3, 3, 3, 3, 3, 3, 3, 3, 3, 3, 3,\n",
       "       3, 3, 3, 3, 3, 4])"
      ]
     },
     "execution_count": 46,
     "metadata": {},
     "output_type": "execute_result"
    }
   ],
   "source": [
    "np.linspace(2,4,dtype=int)"
   ]
  },
  {
   "cell_type": "code",
   "execution_count": 50,
   "id": "6fa1cb89-0dfd-419e-abd4-ab764e611d79",
   "metadata": {},
   "outputs": [
    {
     "data": {
      "text/plain": [
       "1"
      ]
     },
     "execution_count": 50,
     "metadata": {},
     "output_type": "execute_result"
    }
   ],
   "source": [
    "np.random.randint(1,4)"
   ]
  },
  {
   "cell_type": "code",
   "execution_count": 51,
   "id": "0a02b1ae-c067-4b40-b3ba-c38f0ca4ce8e",
   "metadata": {},
   "outputs": [
    {
     "data": {
      "text/plain": [
       "array([11,  2,  7,  1, 12,  9], dtype=int32)"
      ]
     },
     "execution_count": 51,
     "metadata": {},
     "output_type": "execute_result"
    }
   ],
   "source": [
    "np.random.randint(1,14,6)"
   ]
  },
  {
   "cell_type": "code",
   "execution_count": 58,
   "id": "36271bc1-a210-44a0-8890-86f0b44a5a16",
   "metadata": {},
   "outputs": [
    {
     "data": {
      "text/plain": [
       "np.int64(20)"
      ]
     },
     "execution_count": 58,
     "metadata": {},
     "output_type": "execute_result"
    }
   ],
   "source": [
    "arr1=np.array([1,2,3,4])\n",
    "arr2=np.array([4,3,2,1])\n",
    "arr1.dot(arr2)"
   ]
  },
  {
   "cell_type": "code",
   "execution_count": 59,
   "id": "3d4293f3-8378-489b-9e1d-236c988592bc",
   "metadata": {},
   "outputs": [
    {
     "data": {
      "text/plain": [
       "array([4, 6, 6, 4])"
      ]
     },
     "execution_count": 59,
     "metadata": {},
     "output_type": "execute_result"
    }
   ],
   "source": [
    "arr1*arr2"
   ]
  },
  {
   "cell_type": "markdown",
   "id": "3680b8b8-eac5-42d3-a21c-7eb951d54b29",
   "metadata": {},
   "source": [
    "# 1-D Matrix Multiplication "
   ]
  },
  {
   "cell_type": "code",
   "execution_count": 82,
   "id": "54d5b684-7b5c-4827-943e-72d484522ad8",
   "metadata": {},
   "outputs": [
    {
     "name": "stdin",
     "output_type": "stream",
     "text": [
      "Enter the element of firt matrix: 1,2,3,4\n",
      "Enter the element of second matrix: 4,3,2,1\n"
     ]
    },
    {
     "name": "stdout",
     "output_type": "stream",
     "text": [
      "[1, 2, 3, 4]\n",
      "[4, 3, 2, 1]\n",
      "Product of two matrix is [4 6 6 4].\n"
     ]
    }
   ],
   "source": [
    "matrix1=input(\"Enter the element of firt matrix:\")\n",
    "matrix2=input(\"Enter the element of second matrix:\")\n",
    "mat1=matrix1.split(',') \n",
    "mat2=matrix2.split(',')\n",
    "matr1=[int(i) for i in mat1]\n",
    "matr2=[int(i) for i in mat2]\n",
    "print(matr1)\n",
    "print(matr2)\n",
    "if len(matr1)==len(matr2):\n",
    "    product=np.array(matr1)*np.array(matr2)\n",
    "    print(f\"Product of two matrix is {product}.\")\n",
    "else:\n",
    "    print(\"Please Enter vaild number of Element in matrix list with matrix rule.\")"
   ]
  },
  {
   "cell_type": "code",
   "execution_count": 84,
   "id": "dcd9892f-3c96-4d4f-86b5-50b58eac4d25",
   "metadata": {},
   "outputs": [
    {
     "name": "stdout",
     "output_type": "stream",
     "text": [
      "[1, 2, 3, 4]\n",
      "[4, 3, 2, 1]\n"
     ]
    }
   ],
   "source": [
    "print(matr1)\n",
    "print(matr2)"
   ]
  },
  {
   "cell_type": "markdown",
   "id": "dcaf319d-a32a-49b0-bb18-21f04e0bcd2c",
   "metadata": {},
   "source": [
    "# 2-D Matrix Multiplication"
   ]
  },
  {
   "cell_type": "code",
   "execution_count": 183,
   "id": "c778ff03-4afd-480e-bf1a-17be69161e63",
   "metadata": {},
   "outputs": [
    {
     "name": "stdin",
     "output_type": "stream",
     "text": [
      "Enter the element of first matrix , suprated by commma: 1,2,3,4,5,6\n",
      "Enter the element of second matrix , suprated by commma: 6,5,4,3,2,1\n"
     ]
    },
    {
     "name": "stdout",
     "output_type": "stream",
     "text": [
      "['1', '2', '3', '4', '5', '6']\n",
      "['6', '5', '4', '3', '2', '1']\n",
      "[[1 2 3]\n",
      " [4 5 6]]\n",
      "[[6 5]\n",
      " [4 3]\n",
      " [2 1]]\n",
      "Product of two matrix is [[20 14]\n",
      " [56 41]].\n"
     ]
    }
   ],
   "source": [
    "# list1=[1,2,3,4,5,6,7,8,9]\n",
    "# list2=np.array(list1)\n",
    "# print(list2.reshape(3,3))\n",
    "matrix1=input(\"Enter the element of first matrix , suprated by commma:\")\n",
    "matrix2=input(\"Enter the element of second matrix , suprated by commma:\")\n",
    "mat1=matrix1.split(',')\n",
    "mat2=matrix2.split(',')\n",
    "print(mat1)\n",
    "print(mat2)\n",
    "matr1=[int(i) for i in mat1]\n",
    "matr2=[int(i) for i in mat2]\n",
    "matri1=np.array(matr1)\n",
    "matri2=np.array(matr2)\n",
    "# print(matri1)\n",
    "# print(matri2)\n",
    "matri1=matri1.reshape(2,3)\n",
    "matri2=matri2.reshape(3,2)\n",
    "print(matri1)\n",
    "print(matri2)\n",
    "# print(len(matri1[0,0:]))\n",
    "# print(len(matri2))\n",
    "if len(matri1[0,0:])==len(matri2):\n",
    "    product=matri1.dot(matri2)\n",
    "    print(f\"Product of two matrix is {product}.\")\n",
    "else:\n",
    "    print(\"Please enter the vaild number of element in matrix.\")\n",
    "    "
   ]
  },
  {
   "cell_type": "code",
   "execution_count": 94,
   "id": "a954e23e-f92b-43aa-98bb-b34667c251b9",
   "metadata": {},
   "outputs": [
    {
     "data": {
      "text/plain": [
       "array([1, 2, 3, 4, 5, 6, 7, 8, 9])"
      ]
     },
     "execution_count": 94,
     "metadata": {},
     "output_type": "execute_result"
    }
   ],
   "source": [
    "list2"
   ]
  },
  {
   "cell_type": "code",
   "execution_count": 98,
   "id": "4728c1d4-d61b-41e4-ac14-a2cb1d5d2851",
   "metadata": {},
   "outputs": [],
   "source": [
    "# list2.shape(2,1)"
   ]
  },
  {
   "cell_type": "code",
   "execution_count": 99,
   "id": "dfe5b84b-0c43-44e0-8b66-85f79796706b",
   "metadata": {},
   "outputs": [
    {
     "data": {
      "text/plain": [
       "array(42)"
      ]
     },
     "execution_count": 99,
     "metadata": {},
     "output_type": "execute_result"
    }
   ],
   "source": [
    "import numpy as np\n",
    "arr=np.array(42)\n",
    "arr"
   ]
  },
  {
   "cell_type": "code",
   "execution_count": 100,
   "id": "e3aa768b-754e-4220-8c91-308c0a3331e5",
   "metadata": {},
   "outputs": [
    {
     "data": {
      "text/plain": [
       "numpy.ndarray"
      ]
     },
     "execution_count": 100,
     "metadata": {},
     "output_type": "execute_result"
    }
   ],
   "source": [
    "type(arr)"
   ]
  },
  {
   "cell_type": "code",
   "execution_count": 101,
   "id": "842794dc-1f46-42d4-8fed-10e43b50a13c",
   "metadata": {},
   "outputs": [
    {
     "name": "stdout",
     "output_type": "stream",
     "text": [
      "42\n"
     ]
    }
   ],
   "source": [
    "print(arr)"
   ]
  },
  {
   "cell_type": "code",
   "execution_count": 102,
   "id": "dce86a17-6663-4652-b283-2e07e02b02de",
   "metadata": {},
   "outputs": [
    {
     "name": "stdout",
     "output_type": "stream",
     "text": [
      "[1 2 3 4 5]\n"
     ]
    }
   ],
   "source": [
    "arr=np.array([1,2,3,4,5])\n",
    "print(arr)"
   ]
  },
  {
   "cell_type": "code",
   "execution_count": 112,
   "id": "04b49745-d962-4596-9d8c-b7ada2f17c5a",
   "metadata": {},
   "outputs": [
    {
     "name": "stdout",
     "output_type": "stream",
     "text": [
      "[[1 2 3]\n",
      " [4 5 6]]\n"
     ]
    },
    {
     "data": {
      "text/plain": [
       "2"
      ]
     },
     "execution_count": 112,
     "metadata": {},
     "output_type": "execute_result"
    }
   ],
   "source": [
    "arr=np.array([[1,2,3],[4,5,6]])\n",
    "print(arr)\n",
    "arr.ndim"
   ]
  },
  {
   "cell_type": "code",
   "execution_count": 104,
   "id": "2f7b33c3-8a81-450a-88db-8528fcda08fa",
   "metadata": {},
   "outputs": [
    {
     "data": {
      "text/plain": [
       "array([[[1, 2, 3],\n",
       "        [4, 5, 6]],\n",
       "\n",
       "       [[1, 2, 3],\n",
       "        [7, 8, 9]]])"
      ]
     },
     "execution_count": 104,
     "metadata": {},
     "output_type": "execute_result"
    }
   ],
   "source": [
    "arr=np.array([[[1,2,3],[4,5,6]],[[1,2,3],[7,8,9]]])\n",
    "arr"
   ]
  },
  {
   "cell_type": "code",
   "execution_count": 105,
   "id": "034928f0-5428-424b-ae10-42885ec47367",
   "metadata": {},
   "outputs": [
    {
     "data": {
      "text/plain": [
       "array([4, 5, 6])"
      ]
     },
     "execution_count": 105,
     "metadata": {},
     "output_type": "execute_result"
    }
   ],
   "source": [
    "arr[0][1]"
   ]
  },
  {
   "cell_type": "code",
   "execution_count": 106,
   "id": "21916e60-7aa2-4352-ab47-abc2b9c38b0a",
   "metadata": {},
   "outputs": [
    {
     "data": {
      "text/plain": [
       "array([[1, 2, 3],\n",
       "       [4, 5, 6]])"
      ]
     },
     "execution_count": 106,
     "metadata": {},
     "output_type": "execute_result"
    }
   ],
   "source": [
    "arr[0]"
   ]
  },
  {
   "cell_type": "code",
   "execution_count": 107,
   "id": "929eed9b-1809-4cb8-8665-9922f492a909",
   "metadata": {},
   "outputs": [
    {
     "data": {
      "text/plain": [
       "array([[1, 2, 3],\n",
       "       [7, 8, 9]])"
      ]
     },
     "execution_count": 107,
     "metadata": {},
     "output_type": "execute_result"
    }
   ],
   "source": [
    "arr[1]"
   ]
  },
  {
   "cell_type": "code",
   "execution_count": 108,
   "id": "5b76191b-ff84-45ec-a0cb-df450dfae184",
   "metadata": {},
   "outputs": [
    {
     "data": {
      "text/plain": [
       "array([4, 5, 6])"
      ]
     },
     "execution_count": 108,
     "metadata": {},
     "output_type": "execute_result"
    }
   ],
   "source": [
    "arr[0][1]"
   ]
  },
  {
   "cell_type": "code",
   "execution_count": 109,
   "id": "ed43245e-691f-492b-8aa3-340a86f1c79d",
   "metadata": {},
   "outputs": [
    {
     "data": {
      "text/plain": [
       "array([1, 2, 3])"
      ]
     },
     "execution_count": 109,
     "metadata": {},
     "output_type": "execute_result"
    }
   ],
   "source": [
    "arr[1][0]"
   ]
  },
  {
   "cell_type": "code",
   "execution_count": 110,
   "id": "4ce6cd85-ed3e-4e2b-9c4b-6e534680e5fc",
   "metadata": {},
   "outputs": [
    {
     "data": {
      "text/plain": [
       "array([7, 8, 9])"
      ]
     },
     "execution_count": 110,
     "metadata": {},
     "output_type": "execute_result"
    }
   ],
   "source": [
    "arr[1][1]"
   ]
  },
  {
   "cell_type": "code",
   "execution_count": 111,
   "id": "2e61d6b5-98a2-41a1-b25c-9aff011ed8df",
   "metadata": {},
   "outputs": [
    {
     "data": {
      "text/plain": [
       "3"
      ]
     },
     "execution_count": 111,
     "metadata": {},
     "output_type": "execute_result"
    }
   ],
   "source": [
    "arr.ndim"
   ]
  },
  {
   "cell_type": "code",
   "execution_count": 113,
   "id": "c96ed98b-892f-4d25-80aa-81422207b528",
   "metadata": {},
   "outputs": [
    {
     "data": {
      "text/plain": [
       "np.int64(2)"
      ]
     },
     "execution_count": 113,
     "metadata": {},
     "output_type": "execute_result"
    }
   ],
   "source": [
    "arr=np.array([[1,2,3,4,5],[6,7,8,9,10]])\n",
    "arr[0,1]"
   ]
  },
  {
   "cell_type": "code",
   "execution_count": 114,
   "id": "b06c356c-7fe6-4b67-ab31-b71f06b6e437",
   "metadata": {},
   "outputs": [
    {
     "name": "stdout",
     "output_type": "stream",
     "text": [
      "6\n"
     ]
    }
   ],
   "source": [
    "print(arr[1,0])"
   ]
  },
  {
   "cell_type": "code",
   "execution_count": 115,
   "id": "fe696163-dd79-4dea-820b-69b6b06f32fc",
   "metadata": {},
   "outputs": [
    {
     "name": "stdout",
     "output_type": "stream",
     "text": [
      "[ 5 10]\n"
     ]
    }
   ],
   "source": [
    "print(arr[0:,4])"
   ]
  },
  {
   "cell_type": "code",
   "execution_count": 116,
   "id": "2df415fe-dd50-4719-98ff-7b1299bfb744",
   "metadata": {},
   "outputs": [
    {
     "name": "stdout",
     "output_type": "stream",
     "text": [
      "[[1 2 3]\n",
      " [6 7 8]]\n"
     ]
    }
   ],
   "source": [
    "print(arr[0:,:3])"
   ]
  },
  {
   "cell_type": "code",
   "execution_count": 117,
   "id": "300a5ed3-4c43-4bad-9a18-ddcd0edc80ed",
   "metadata": {},
   "outputs": [
    {
     "data": {
      "text/plain": [
       "np.int64(10)"
      ]
     },
     "execution_count": 117,
     "metadata": {},
     "output_type": "execute_result"
    }
   ],
   "source": [
    "arr[1,4]"
   ]
  },
  {
   "cell_type": "code",
   "execution_count": 118,
   "id": "78a6cc2c-9503-48bf-8c5a-e106fcf441c3",
   "metadata": {},
   "outputs": [
    {
     "data": {
      "text/plain": [
       "np.int64(3)"
      ]
     },
     "execution_count": 118,
     "metadata": {},
     "output_type": "execute_result"
    }
   ],
   "source": [
    "arr=np.array([[[1,2,3],[4,5,6]],[[7,8,9],[10,11,12]]])\n",
    "arr[0,0,2]"
   ]
  },
  {
   "cell_type": "code",
   "execution_count": 119,
   "id": "98ec0aac-8014-48ec-8acd-14f96f6a70b6",
   "metadata": {},
   "outputs": [
    {
     "data": {
      "text/plain": [
       "np.int64(6)"
      ]
     },
     "execution_count": 119,
     "metadata": {},
     "output_type": "execute_result"
    }
   ],
   "source": [
    "arr[0,1,2]"
   ]
  },
  {
   "cell_type": "code",
   "execution_count": 122,
   "id": "6300d98b-6681-4d78-b48f-f7cf0bff57b3",
   "metadata": {},
   "outputs": [
    {
     "name": "stdout",
     "output_type": "stream",
     "text": [
      "[[[ 5  6]]\n",
      "\n",
      " [[11 12]]]\n"
     ]
    }
   ],
   "source": [
    "print(arr[0:,1:,1:])"
   ]
  },
  {
   "cell_type": "code",
   "execution_count": 123,
   "id": "ddd9707e-aa0a-40cd-837b-52588f408958",
   "metadata": {},
   "outputs": [
    {
     "data": {
      "text/plain": [
       "np.int64(10)"
      ]
     },
     "execution_count": 123,
     "metadata": {},
     "output_type": "execute_result"
    }
   ],
   "source": [
    "arr=np.array([[1,2,3,4,5],[6,7,8,9,10]])\n",
    "arr[1,-1]"
   ]
  },
  {
   "cell_type": "code",
   "execution_count": 124,
   "id": "ce1c1f98-9881-45d8-baef-7f99b1612418",
   "metadata": {},
   "outputs": [
    {
     "name": "stdout",
     "output_type": "stream",
     "text": [
      "10\n"
     ]
    }
   ],
   "source": [
    "print(arr[1,-1])"
   ]
  },
  {
   "cell_type": "code",
   "execution_count": 125,
   "id": "372eb130-e183-4a74-8044-657fabbd6958",
   "metadata": {},
   "outputs": [
    {
     "data": {
      "text/plain": [
       "array([[ 6,  7,  8,  9, 10]])"
      ]
     },
     "execution_count": 125,
     "metadata": {},
     "output_type": "execute_result"
    }
   ],
   "source": [
    "arr[1:5]"
   ]
  },
  {
   "cell_type": "code",
   "execution_count": 126,
   "id": "a52e2308-9f9f-48ac-9f9d-3c248c11493e",
   "metadata": {},
   "outputs": [
    {
     "name": "stdout",
     "output_type": "stream",
     "text": [
      "[2 3 4 5]\n"
     ]
    }
   ],
   "source": [
    "arr=np.array([1,2,3,4,5,6,7])\n",
    "print(arr[1:5])"
   ]
  },
  {
   "cell_type": "code",
   "execution_count": 127,
   "id": "c9ce6ebe-4559-47e3-93c3-5d176c04877b",
   "metadata": {},
   "outputs": [
    {
     "data": {
      "text/plain": [
       "array([5, 6, 7])"
      ]
     },
     "execution_count": 127,
     "metadata": {},
     "output_type": "execute_result"
    }
   ],
   "source": [
    "arr[4:]"
   ]
  },
  {
   "cell_type": "code",
   "execution_count": 128,
   "id": "05b1b244-55fe-442e-a481-899b21e5e500",
   "metadata": {},
   "outputs": [
    {
     "data": {
      "text/plain": [
       "array([1, 2, 3, 4])"
      ]
     },
     "execution_count": 128,
     "metadata": {},
     "output_type": "execute_result"
    }
   ],
   "source": [
    "arr[:4]"
   ]
  },
  {
   "cell_type": "code",
   "execution_count": 129,
   "id": "d4c8d885-ffd6-4473-93a0-d33846c76e92",
   "metadata": {},
   "outputs": [
    {
     "data": {
      "text/plain": [
       "array([5, 6])"
      ]
     },
     "execution_count": 129,
     "metadata": {},
     "output_type": "execute_result"
    }
   ],
   "source": [
    "arr[-3:-1]"
   ]
  },
  {
   "cell_type": "code",
   "execution_count": 130,
   "id": "9ef06a1e-4007-4689-8a43-3648d80c8ee6",
   "metadata": {},
   "outputs": [
    {
     "data": {
      "text/plain": [
       "array([1, 2, 3, 4, 5, 6, 7])"
      ]
     },
     "execution_count": 130,
     "metadata": {},
     "output_type": "execute_result"
    }
   ],
   "source": [
    "arr=np.array([1,2,3,4,5,6,7])\n",
    "arr"
   ]
  },
  {
   "cell_type": "code",
   "execution_count": 131,
   "id": "54f01110-f07e-4fa7-ad83-4e4c39ed6655",
   "metadata": {},
   "outputs": [
    {
     "data": {
      "text/plain": [
       "array([2, 4])"
      ]
     },
     "execution_count": 131,
     "metadata": {},
     "output_type": "execute_result"
    }
   ],
   "source": [
    "arr[1:5:2]"
   ]
  },
  {
   "cell_type": "code",
   "execution_count": 133,
   "id": "cc17806a-0ab1-4722-aaf1-7aa521d192db",
   "metadata": {},
   "outputs": [
    {
     "data": {
      "text/plain": [
       "array([7, 8, 9])"
      ]
     },
     "execution_count": 133,
     "metadata": {},
     "output_type": "execute_result"
    }
   ],
   "source": [
    "arr=np.array([[1,2,3,4,5],[6,7,8,9,10]])\n",
    "arr[1,1:4]"
   ]
  },
  {
   "cell_type": "code",
   "execution_count": 134,
   "id": "dda761b9-29da-4c24-9902-c9083a7ed776",
   "metadata": {},
   "outputs": [
    {
     "data": {
      "text/plain": [
       "array([[2, 3, 4],\n",
       "       [7, 8, 9]])"
      ]
     },
     "execution_count": 134,
     "metadata": {},
     "output_type": "execute_result"
    }
   ],
   "source": [
    "arr[0:2,1:4]"
   ]
  },
  {
   "cell_type": "code",
   "execution_count": 136,
   "id": "1f69b6a9-4188-4ca9-b663-08f48adf9f69",
   "metadata": {},
   "outputs": [
    {
     "data": {
      "text/plain": [
       "2"
      ]
     },
     "execution_count": 136,
     "metadata": {},
     "output_type": "execute_result"
    }
   ],
   "source": [
    "arr=np.array([[1,2,3],[4,5,6]])\n",
    "arr.ndim"
   ]
  },
  {
   "cell_type": "code",
   "execution_count": 137,
   "id": "6ec3d4c6-5e04-477b-9eb0-0d7f6711d384",
   "metadata": {},
   "outputs": [
    {
     "data": {
      "text/plain": [
       "array([7, 8, 9])"
      ]
     },
     "execution_count": 137,
     "metadata": {},
     "output_type": "execute_result"
    }
   ],
   "source": [
    "arr=np.array([[1,2,3,4,5],[6,7,8,9,10]])\n",
    "arr[1,1:4]"
   ]
  },
  {
   "cell_type": "code",
   "execution_count": 138,
   "id": "2d2c51d4-2312-49fb-8ccb-76b5648a5868",
   "metadata": {},
   "outputs": [
    {
     "data": {
      "text/plain": [
       "array([3, 8])"
      ]
     },
     "execution_count": 138,
     "metadata": {},
     "output_type": "execute_result"
    }
   ],
   "source": [
    "arr[0:2,2]"
   ]
  },
  {
   "cell_type": "code",
   "execution_count": 139,
   "id": "644456d2-f611-40de-9a61-9b41c93ffef8",
   "metadata": {},
   "outputs": [
    {
     "data": {
      "text/plain": [
       "array([[2, 3, 4],\n",
       "       [7, 8, 9]])"
      ]
     },
     "execution_count": 139,
     "metadata": {},
     "output_type": "execute_result"
    }
   ],
   "source": [
    "arr[0:2,1:4]"
   ]
  },
  {
   "cell_type": "code",
   "execution_count": 141,
   "id": "132970e6-88cb-4e2f-ab0c-8ee5f00b7f4e",
   "metadata": {},
   "outputs": [
    {
     "name": "stdout",
     "output_type": "stream",
     "text": [
      "<class 'numpy.dtypes.Int64DType'>\n"
     ]
    }
   ],
   "source": [
    "arr=np.array([1,2,3,4])\n",
    "print(type(arr.dtype))"
   ]
  },
  {
   "cell_type": "code",
   "execution_count": 142,
   "id": "5743b7e8-d8c1-41e1-8d04-05ae13e52f62",
   "metadata": {},
   "outputs": [
    {
     "name": "stdout",
     "output_type": "stream",
     "text": [
      "[b'1' b'2' b'3' b'4']\n"
     ]
    }
   ],
   "source": [
    "arr=np.array([1,2,3,4],dtype='S')\n",
    "print(arr)"
   ]
  },
  {
   "cell_type": "code",
   "execution_count": 143,
   "id": "d62bf16a-3ec7-41bf-83d5-f1dfa863e727",
   "metadata": {},
   "outputs": [
    {
     "data": {
      "text/plain": [
       "dtype('S1')"
      ]
     },
     "execution_count": 143,
     "metadata": {},
     "output_type": "execute_result"
    }
   ],
   "source": [
    "arr.dtype"
   ]
  },
  {
   "cell_type": "code",
   "execution_count": 145,
   "id": "734ea60e-2b54-48d0-b733-cafe91b5a682",
   "metadata": {},
   "outputs": [
    {
     "name": "stdout",
     "output_type": "stream",
     "text": [
      "[6 2 3]\n"
     ]
    }
   ],
   "source": [
    "arr=np.array(['6','2','3'],dtype='i')\n",
    "print(arr)"
   ]
  },
  {
   "cell_type": "code",
   "execution_count": 146,
   "id": "a637549a-a795-48bb-abf3-6a003490be22",
   "metadata": {},
   "outputs": [
    {
     "name": "stdout",
     "output_type": "stream",
     "text": [
      "[1 2 3]\n"
     ]
    }
   ],
   "source": [
    "arr=np.array([1.1,2.1,3.1])\n",
    "newarr=arr.astype('i')\n",
    "print(newarr)"
   ]
  },
  {
   "cell_type": "code",
   "execution_count": 147,
   "id": "6764c9a6-cf6e-4666-8dd5-70faa69142c4",
   "metadata": {},
   "outputs": [
    {
     "data": {
      "text/plain": [
       "array([1, 2, 3], dtype=int32)"
      ]
     },
     "execution_count": 147,
     "metadata": {},
     "output_type": "execute_result"
    }
   ],
   "source": [
    "newarr"
   ]
  },
  {
   "cell_type": "code",
   "execution_count": 148,
   "id": "e19f84dd-71c3-4447-a9e0-6790bcd805e5",
   "metadata": {},
   "outputs": [],
   "source": [
    "arr=np.array([1,0,3])\n",
    "newarr=arr.astype(bool)"
   ]
  },
  {
   "cell_type": "code",
   "execution_count": 149,
   "id": "6e3c7ed2-63ad-4883-8c64-f56f3dcff396",
   "metadata": {},
   "outputs": [
    {
     "data": {
      "text/plain": [
       "array([ True, False,  True])"
      ]
     },
     "execution_count": 149,
     "metadata": {},
     "output_type": "execute_result"
    }
   ],
   "source": [
    "newarr"
   ]
  },
  {
   "cell_type": "code",
   "execution_count": 150,
   "id": "ab1923ba-63f9-44d4-a464-302551f936e3",
   "metadata": {},
   "outputs": [
    {
     "data": {
      "text/plain": [
       "array([1, 2, 3, 4, 5])"
      ]
     },
     "execution_count": 150,
     "metadata": {},
     "output_type": "execute_result"
    }
   ],
   "source": [
    "arr=np.array([1,2,3,4,5])\n",
    "x=arr.copy()\n",
    "\n",
    "arr[0]=42\n",
    "x"
   ]
  },
  {
   "cell_type": "code",
   "execution_count": 151,
   "id": "8e7a375d-7186-4102-b057-b592932c1812",
   "metadata": {},
   "outputs": [
    {
     "data": {
      "text/plain": [
       "array([42,  2,  3,  4,  5])"
      ]
     },
     "execution_count": 151,
     "metadata": {},
     "output_type": "execute_result"
    }
   ],
   "source": [
    "# arr=np.array([1,2,3,4,5])\n",
    "arr"
   ]
  },
  {
   "cell_type": "code",
   "execution_count": 152,
   "id": "29b33d68-51ae-4cca-8964-0af3789e4530",
   "metadata": {},
   "outputs": [
    {
     "data": {
      "text/plain": [
       "array([1, 2, 3, 4, 5])"
      ]
     },
     "execution_count": 152,
     "metadata": {},
     "output_type": "execute_result"
    }
   ],
   "source": [
    "x"
   ]
  },
  {
   "cell_type": "code",
   "execution_count": 153,
   "id": "ce5fa780-044c-4e17-ae36-95d3ee87b8ce",
   "metadata": {},
   "outputs": [
    {
     "data": {
      "text/plain": [
       "array([1, 2, 3, 4, 5])"
      ]
     },
     "execution_count": 153,
     "metadata": {},
     "output_type": "execute_result"
    }
   ],
   "source": [
    "arr=np.array([1,2,3,4,5])\n",
    "x=arr.view()\n",
    "x"
   ]
  },
  {
   "cell_type": "code",
   "execution_count": 154,
   "id": "5cf297d8-f38e-4fca-b770-59cae44f9498",
   "metadata": {},
   "outputs": [
    {
     "data": {
      "text/plain": [
       "array([1, 2, 3, 4, 5])"
      ]
     },
     "execution_count": 154,
     "metadata": {},
     "output_type": "execute_result"
    }
   ],
   "source": [
    "arr"
   ]
  },
  {
   "cell_type": "code",
   "execution_count": 155,
   "id": "c501b28e-85b9-486d-96c8-0f175fcfe186",
   "metadata": {},
   "outputs": [],
   "source": [
    "arr[0]=12"
   ]
  },
  {
   "cell_type": "code",
   "execution_count": 156,
   "id": "b3df473b-5ccf-4ec4-913a-2c68a4d6d5c3",
   "metadata": {},
   "outputs": [
    {
     "data": {
      "text/plain": [
       "array([12,  2,  3,  4,  5])"
      ]
     },
     "execution_count": 156,
     "metadata": {},
     "output_type": "execute_result"
    }
   ],
   "source": [
    "arr"
   ]
  },
  {
   "cell_type": "code",
   "execution_count": 157,
   "id": "c6d636e6-e18e-4618-816c-f18aefc529c0",
   "metadata": {},
   "outputs": [
    {
     "data": {
      "text/plain": [
       "array([12,  2,  3,  4,  5])"
      ]
     },
     "execution_count": 157,
     "metadata": {},
     "output_type": "execute_result"
    }
   ],
   "source": [
    "x"
   ]
  },
  {
   "cell_type": "code",
   "execution_count": 160,
   "id": "3389c677-5a28-4977-8eaa-7e34f5f0b274",
   "metadata": {},
   "outputs": [
    {
     "name": "stdout",
     "output_type": "stream",
     "text": [
      "None\n",
      "[1 2 3 4 5]\n"
     ]
    }
   ],
   "source": [
    "arr=np.array([1,2,3,4,5])\n",
    "x=arr.copy()\n",
    "y=arr.view()\n",
    "print(x.base)\n",
    "print(y.base)"
   ]
  },
  {
   "cell_type": "code",
   "execution_count": 161,
   "id": "77eacd5c-7fbc-4690-ab2b-3d2ac322ca71",
   "metadata": {},
   "outputs": [
    {
     "name": "stdout",
     "output_type": "stream",
     "text": [
      "(2, 4)\n"
     ]
    }
   ],
   "source": [
    "arr=np.array([[1,2,3,4],[5,6,7,8]])\n",
    "print(arr.shape)"
   ]
  },
  {
   "cell_type": "code",
   "execution_count": 162,
   "id": "caff5cb5-f10d-40a8-8c6d-110b0609a955",
   "metadata": {},
   "outputs": [
    {
     "name": "stdout",
     "output_type": "stream",
     "text": [
      "[[[[[1 2 3 4]]]]]\n"
     ]
    }
   ],
   "source": [
    "arr=np.array([1,2,3,4],ndmin=5)\n",
    "print(arr)"
   ]
  },
  {
   "cell_type": "code",
   "execution_count": 163,
   "id": "0eaf6a47-2753-434c-a973-633555394531",
   "metadata": {},
   "outputs": [
    {
     "name": "stdout",
     "output_type": "stream",
     "text": [
      "shape of array: (1, 1, 1, 1, 4)\n"
     ]
    }
   ],
   "source": [
    "print('shape of array:',arr.shape)"
   ]
  },
  {
   "cell_type": "code",
   "execution_count": 164,
   "id": "cdc96df2-abe3-4ab9-ab2d-809e6908c675",
   "metadata": {},
   "outputs": [
    {
     "data": {
      "text/plain": [
       "array([[1, 2, 3],\n",
       "       [4, 5, 6],\n",
       "       [7, 8, 9]])"
      ]
     },
     "execution_count": 164,
     "metadata": {},
     "output_type": "execute_result"
    }
   ],
   "source": [
    "arr=np.array([1,2,3,4,5,6,7,8,9])\n",
    "arr.reshape(3,3)"
   ]
  },
  {
   "cell_type": "code",
   "execution_count": 184,
   "id": "48db01ba-20b4-4447-8817-96d5332d22ef",
   "metadata": {},
   "outputs": [
    {
     "name": "stdout",
     "output_type": "stream",
     "text": [
      "[[[ 1  2]\n",
      "  [ 3  4]\n",
      "  [ 5  6]]\n",
      "\n",
      " [[ 7  8]\n",
      "  [ 9 10]\n",
      "  [11 12]]]\n"
     ]
    }
   ],
   "source": [
    "arr=np.array([1,2,3,4,5,6,7,8,9,10,11,12])\n",
    "newarr=arr.reshape(2,3,2)\n",
    "print(newarr)"
   ]
  },
  {
   "cell_type": "code",
   "execution_count": 191,
   "id": "35f18e3a-083a-4bbc-98d6-7fc63c90b711",
   "metadata": {},
   "outputs": [],
   "source": [
    "i=arr.reshape(3,3)"
   ]
  },
  {
   "cell_type": "code",
   "execution_count": 192,
   "id": "a0fb74e1-16f8-42a0-b893-3456316a4f12",
   "metadata": {},
   "outputs": [
    {
     "name": "stdout",
     "output_type": "stream",
     "text": [
      "[[1 2 3]\n",
      " [4 5 6]\n",
      " [7 8 9]]\n"
     ]
    }
   ],
   "source": [
    "print(i)"
   ]
  },
  {
   "cell_type": "code",
   "execution_count": 189,
   "id": "fea14d6f-e2ad-44f4-a8ca-e5291d743479",
   "metadata": {},
   "outputs": [
    {
     "name": "stdout",
     "output_type": "stream",
     "text": [
      "[[1 2 3]\n",
      " [4 5 6]\n",
      " [7 8 9]]\n"
     ]
    }
   ],
   "source": [
    "arr=np.array([1,2,3,4,5,6,7,8,9])\n",
    "i=arr.reshape(3,3)\n",
    "print(i)"
   ]
  },
  {
   "cell_type": "code",
   "execution_count": 197,
   "id": "13c579c1-2a66-40f1-994f-f8d755b41a3b",
   "metadata": {},
   "outputs": [
    {
     "name": "stdout",
     "output_type": "stream",
     "text": [
      "[[[1 2]\n",
      "  [3 4]]\n",
      "\n",
      " [[5 6]\n",
      "  [7 8]]]\n"
     ]
    }
   ],
   "source": [
    "import numpy as np\n",
    "arr=np.array([1,2,3,4,5,6,7,8])\n",
    "newarr=arr.reshape(2,2,-1)\n",
    "print(newarr)"
   ]
  },
  {
   "cell_type": "code",
   "execution_count": 199,
   "id": "5f09721f-d1a0-4689-8b88-9959a94c8b6d",
   "metadata": {},
   "outputs": [
    {
     "name": "stdout",
     "output_type": "stream",
     "text": [
      "1\n",
      "2\n",
      "3\n"
     ]
    }
   ],
   "source": [
    "import numpy as np\n",
    "arr=np.array([1,2,3])\n",
    "for x in arr:\n",
    "    print(x)"
   ]
  },
  {
   "cell_type": "code",
   "execution_count": 200,
   "id": "e8d2d66e-791a-4199-a3fb-0fb2cf513fa9",
   "metadata": {},
   "outputs": [
    {
     "name": "stdout",
     "output_type": "stream",
     "text": [
      "[1 2 3]\n",
      "[4 5 6]\n"
     ]
    }
   ],
   "source": [
    "arr=np.array([[1,2,3],[4,5,6]])\n",
    "for x in arr:\n",
    "    print(x)"
   ]
  },
  {
   "cell_type": "code",
   "execution_count": 201,
   "id": "1e4590c2-745d-4133-b617-9e55250e23e8",
   "metadata": {},
   "outputs": [
    {
     "name": "stdout",
     "output_type": "stream",
     "text": [
      "1\n",
      "2\n",
      "3\n",
      "4\n",
      "5\n",
      "6\n"
     ]
    }
   ],
   "source": [
    "arr=np.array([[1,2,3],[4,5,6]])\n",
    "for x in arr:\n",
    "    for y in x:\n",
    "        print(y)"
   ]
  },
  {
   "cell_type": "code",
   "execution_count": 202,
   "id": "94eaad4d-82e9-4bcb-b0f0-ddfcd4fddd2f",
   "metadata": {},
   "outputs": [
    {
     "name": "stdout",
     "output_type": "stream",
     "text": [
      "[[1 2 3]\n",
      " [4 5 6]]\n",
      "[[ 7  8  9]\n",
      " [10 11 12]]\n"
     ]
    }
   ],
   "source": [
    "arr=np.array([[[1,2,3],[4,5,6]],[[7,8,9],[10,11,12]]])\n",
    "for x in arr:\n",
    "    print(x)"
   ]
  },
  {
   "cell_type": "code",
   "execution_count": 203,
   "id": "caf7541c-b046-4312-bef3-04f1b8fa03d6",
   "metadata": {},
   "outputs": [
    {
     "name": "stdout",
     "output_type": "stream",
     "text": [
      "[1 2 3]\n",
      "[4 5 6]\n",
      "[7 8 9]\n",
      "[10 11 12]\n"
     ]
    }
   ],
   "source": [
    "for x in arr:\n",
    "    for j in x:\n",
    "        print(j)"
   ]
  },
  {
   "cell_type": "code",
   "execution_count": 204,
   "id": "9474a8c5-a6ee-4dc1-8bdc-e0a2044228ef",
   "metadata": {},
   "outputs": [
    {
     "name": "stdout",
     "output_type": "stream",
     "text": [
      "1\n",
      "2\n",
      "3\n",
      "4\n",
      "5\n",
      "6\n",
      "7\n",
      "8\n",
      "9\n",
      "10\n",
      "11\n",
      "12\n"
     ]
    }
   ],
   "source": [
    "for x in arr:\n",
    "    for j in x:\n",
    "        for k in j:\n",
    "            print(k)"
   ]
  },
  {
   "cell_type": "code",
   "execution_count": 205,
   "id": "f938af4b-da73-43e4-a92e-e14ec30e321c",
   "metadata": {},
   "outputs": [
    {
     "name": "stdout",
     "output_type": "stream",
     "text": [
      "1\n",
      "2\n",
      "3\n",
      "4\n",
      "5\n",
      "6\n",
      "7\n",
      "8\n"
     ]
    }
   ],
   "source": [
    "arr=np.array([[[1,2],[3,4]],[[5,6],[7,8]]])\n",
    "for x in np.nditer(arr):\n",
    "    print(x)"
   ]
  },
  {
   "cell_type": "code",
   "execution_count": 207,
   "id": "3923d20b-70e5-4dda-a567-5223ab91f3cb",
   "metadata": {},
   "outputs": [
    {
     "name": "stdout",
     "output_type": "stream",
     "text": [
      "np.bytes_(b'1')\n",
      "np.bytes_(b'2')\n",
      "np.bytes_(b'3')\n"
     ]
    }
   ],
   "source": [
    "import numpy as np\n",
    "arr=np.array([1,2,3])\n",
    "for x in np.nditer(arr,flags=['buffered'],op_dtypes=['S']):\n",
    "    print(x)"
   ]
  },
  {
   "cell_type": "code",
   "execution_count": 208,
   "id": "3fbaaf2d-b066-4ff9-8077-396f5472e7b6",
   "metadata": {},
   "outputs": [
    {
     "name": "stdout",
     "output_type": "stream",
     "text": [
      "1\n",
      "3\n",
      "5\n",
      "7\n"
     ]
    }
   ],
   "source": [
    "arr=np.array([[1,2,3,4],[5,6,7,8]])\n",
    "for x in np.nditer(arr[:,::2]):\n",
    "    print(x)"
   ]
  },
  {
   "cell_type": "code",
   "execution_count": 209,
   "id": "21c4dea6-ed42-48c5-8a04-ee5bfee78222",
   "metadata": {},
   "outputs": [
    {
     "name": "stdout",
     "output_type": "stream",
     "text": [
      "1\n",
      "4\n",
      "5\n",
      "8\n"
     ]
    }
   ],
   "source": [
    "for x in np.nditer(arr[:,::3]):\n",
    "    print(x)"
   ]
  },
  {
   "cell_type": "code",
   "execution_count": 210,
   "id": "9135717f-42c7-423e-9b64-971fac94967d",
   "metadata": {},
   "outputs": [
    {
     "name": "stdout",
     "output_type": "stream",
     "text": [
      "1\n",
      "2\n",
      "3\n",
      "4\n",
      "5\n",
      "6\n",
      "7\n",
      "8\n"
     ]
    }
   ],
   "source": [
    "for x in np.nditer(arr[:,::]):\n",
    "    print(x)"
   ]
  },
  {
   "cell_type": "code",
   "execution_count": 211,
   "id": "547cb90c-addd-40fb-af05-af353acce31d",
   "metadata": {},
   "outputs": [
    {
     "name": "stdout",
     "output_type": "stream",
     "text": [
      "1\n",
      "2\n",
      "3\n",
      "4\n",
      "5\n",
      "6\n",
      "7\n",
      "8\n"
     ]
    }
   ],
   "source": [
    "for x in np.nditer(arr):\n",
    "    print(x)"
   ]
  },
  {
   "cell_type": "code",
   "execution_count": 212,
   "id": "2e8c58e8-a4ee-4672-aad0-fc59fb6f1c42",
   "metadata": {},
   "outputs": [
    {
     "name": "stdout",
     "output_type": "stream",
     "text": [
      "(0,) 1\n",
      "(1,) 2\n",
      "(2,) 3\n"
     ]
    }
   ],
   "source": [
    "import numpy as np\n",
    "arr=np.array([1,2,3])\n",
    "for idx,x  in np.ndenumerate(arr):\n",
    "    print(idx,x)"
   ]
  },
  {
   "cell_type": "code",
   "execution_count": 213,
   "id": "0e35cc79-ad02-44bd-b0b8-43596744f1b7",
   "metadata": {},
   "outputs": [
    {
     "name": "stdout",
     "output_type": "stream",
     "text": [
      "(0, 0) 1\n",
      "(0, 1) 2\n",
      "(0, 2) 3\n",
      "(0, 3) 4\n",
      "(1, 0) 5\n",
      "(1, 1) 6\n",
      "(1, 2) 7\n",
      "(1, 3) 8\n"
     ]
    }
   ],
   "source": [
    "import numpy as np\n",
    "arr=np.array([[1,2,3,4],[5,6,7,8]])\n",
    "for idx,x in np.ndenumerate(arr):\n",
    "    print(idx,x)"
   ]
  },
  {
   "cell_type": "code",
   "execution_count": 222,
   "id": "1833edaf-16b5-400c-9154-4e8baf586292",
   "metadata": {},
   "outputs": [
    {
     "name": "stdout",
     "output_type": "stream",
     "text": [
      "[[ 7  6]\n",
      " [ 5 44]\n",
      " [ 3  1]]\n",
      "7\n",
      "6\n",
      "5\n",
      "44\n",
      "3\n",
      "1\n"
     ]
    }
   ],
   "source": [
    "arr=np.array([[7,6],[5,44],[3,1]])\n",
    "print(arr)\n",
    "for i in np.nditer(arr):\n",
    "    print(i\n",
    "         )"
   ]
  },
  {
   "cell_type": "code",
   "execution_count": 223,
   "id": "e0ff176d-7ac2-416c-a274-2a3276cf3b19",
   "metadata": {},
   "outputs": [
    {
     "name": "stdout",
     "output_type": "stream",
     "text": [
      "[1 2 3 4 5 6]\n"
     ]
    }
   ],
   "source": [
    "arr1=np.array([1,2,3])\n",
    "arr2=np.array([4,5,6])\n",
    "arr=np.concatenate((arr1,arr2))\n",
    "print(arr)"
   ]
  },
  {
   "cell_type": "code",
   "execution_count": 224,
   "id": "0c128eca-ce74-45e3-bb92-e659dd4b0fb6",
   "metadata": {},
   "outputs": [
    {
     "name": "stdout",
     "output_type": "stream",
     "text": [
      "[1 2 3 4 5 6 8 9 0 7]\n"
     ]
    }
   ],
   "source": [
    "arr1=np.array([1,2,3,4,5,6])\n",
    "arr2=np.array([8,9,0,7])\n",
    "arr=np.concatenate((arr1,arr2))\n",
    "print(arr)"
   ]
  },
  {
   "cell_type": "code",
   "execution_count": 225,
   "id": "39bef2d1-263e-41b7-be6a-41d5276a8280",
   "metadata": {},
   "outputs": [
    {
     "name": "stdout",
     "output_type": "stream",
     "text": [
      "[[1 4]\n",
      " [2 5]\n",
      " [3 6]]\n"
     ]
    }
   ],
   "source": [
    "arr1=np.array([1,2,3])\n",
    "arr2=np.array([4,5,6])\n",
    "arr=np.stack((arr1,arr2),axis=1) #stack concatenate along the column.\n",
    "print(arr)"
   ]
  },
  {
   "cell_type": "code",
   "execution_count": 226,
   "id": "27df22a7-76e0-4953-8bcc-71676d4f7733",
   "metadata": {},
   "outputs": [
    {
     "name": "stdout",
     "output_type": "stream",
     "text": [
      "[1 2 3 4 5 6]\n"
     ]
    }
   ],
   "source": [
    "arr1=np.array([1,2,3])\n",
    "arr2=np.array([4,5,6])\n",
    "arr=np.hstack((arr1,arr2))\n",
    "print(arr)"
   ]
  },
  {
   "cell_type": "code",
   "execution_count": 227,
   "id": "b44c739b-918c-41f4-8f93-15a62e62ea93",
   "metadata": {},
   "outputs": [
    {
     "name": "stdout",
     "output_type": "stream",
     "text": [
      "[[1 2 3]\n",
      " [4 5 6]]\n"
     ]
    }
   ],
   "source": [
    "arr1=np.array([1,2,3])\n",
    "arr2=np.array([4,5,6])\n",
    "arr=np.vstack((arr1,arr2))\n",
    "print(arr)"
   ]
  },
  {
   "cell_type": "code",
   "execution_count": 228,
   "id": "9dc5db73-920e-425f-afaa-7d3cde0d928d",
   "metadata": {},
   "outputs": [
    {
     "name": "stdout",
     "output_type": "stream",
     "text": [
      "[[[1 4]\n",
      "  [2 5]\n",
      "  [3 6]]]\n"
     ]
    }
   ],
   "source": [
    "arr1=np.array([1,2,3])\n",
    "arr2=np.array([4,5,6])\n",
    "arr=np.dstack((arr1,arr2))\n",
    "print(arr)"
   ]
  },
  {
   "cell_type": "code",
   "execution_count": 229,
   "id": "80701a97-2dcd-41a8-aee6-5ad41da21449",
   "metadata": {},
   "outputs": [
    {
     "name": "stdout",
     "output_type": "stream",
     "text": [
      "[array([1, 2, 3]), array([4, 5, 6])]\n"
     ]
    }
   ],
   "source": [
    "import numpy as np\n",
    "arr=np.array([1,2,3,4,5,6])\n",
    "newarr=np.array_split(arr,2)\n",
    "print(newarr)"
   ]
  },
  {
   "cell_type": "code",
   "execution_count": 230,
   "id": "c24307de-6708-4904-b2a5-c9a3d70b7c28",
   "metadata": {},
   "outputs": [
    {
     "name": "stdout",
     "output_type": "stream",
     "text": [
      "[array([1, 2]), array([3, 4]), array([5, 6])]\n"
     ]
    }
   ],
   "source": [
    "arr=np.array([1,2,3,4,5,6])\n",
    "newarr=np.array_split(arr,3)\n",
    "print(newarr)"
   ]
  },
  {
   "cell_type": "code",
   "execution_count": 231,
   "id": "c1d97eea-9ce8-4169-a4f6-7747024268cd",
   "metadata": {},
   "outputs": [
    {
     "name": "stdout",
     "output_type": "stream",
     "text": [
      "[array([1, 2]), array([3, 4]), array([5, 6])]\n"
     ]
    }
   ],
   "source": [
    "arr=np.array([1,2,3,4,5,6])\n",
    "newarr=np.array_split(arr,3)\n",
    "print(newarr)"
   ]
  },
  {
   "cell_type": "code",
   "execution_count": 232,
   "id": "c568330d-f47f-4ed2-9fbb-26d4e105a1fd",
   "metadata": {},
   "outputs": [
    {
     "name": "stdout",
     "output_type": "stream",
     "text": [
      "[[1, 2], array([3, 4]), array([5, 6])]\n"
     ]
    }
   ],
   "source": [
    "newarr[0]=[1,2]\n",
    "print(newarr)"
   ]
  },
  {
   "cell_type": "code",
   "execution_count": 233,
   "id": "32e91a03-d5f7-4824-8c34-76b2498587d1",
   "metadata": {},
   "outputs": [
    {
     "data": {
      "text/plain": [
       "[[1, 2], array([3, 4]), array([5, 6])]"
      ]
     },
     "execution_count": 233,
     "metadata": {},
     "output_type": "execute_result"
    }
   ],
   "source": [
    "newarr"
   ]
  },
  {
   "cell_type": "code",
   "execution_count": 235,
   "id": "bf836858-e134-4de9-9819-0794ad3525f8",
   "metadata": {},
   "outputs": [],
   "source": [
    "newarr[1]=[3,4]"
   ]
  },
  {
   "cell_type": "code",
   "execution_count": 236,
   "id": "ca5d46eb-0fac-42ae-8ba1-0922232d30b7",
   "metadata": {},
   "outputs": [
    {
     "name": "stdout",
     "output_type": "stream",
     "text": [
      "[[1, 2], [3, 4], array([5, 6])]\n"
     ]
    }
   ],
   "source": [
    "print(newarr)"
   ]
  },
  {
   "cell_type": "code",
   "execution_count": 237,
   "id": "c821c3d2-392d-416a-8474-fae6a455b9ae",
   "metadata": {},
   "outputs": [
    {
     "name": "stdout",
     "output_type": "stream",
     "text": [
      "[array([[1, 2],\n",
      "       [3, 4]]), array([[5, 6],\n",
      "       [7, 8]]), array([[ 9, 10],\n",
      "       [11, 12]])]\n"
     ]
    }
   ],
   "source": [
    "import numpy as np\n",
    "arr=np.array([[1,2],[3,4],[5,6],[7,8],[9,10],[11,12]])\n",
    "newarr=np.array_split(arr,3)\n",
    "print(newarr)"
   ]
  },
  {
   "cell_type": "code",
   "execution_count": 238,
   "id": "aefcd64f-6286-4488-94cf-6f3e595de0a7",
   "metadata": {},
   "outputs": [
    {
     "name": "stdout",
     "output_type": "stream",
     "text": [
      "[array([[1, 2, 3],\n",
      "       [4, 5, 6]]), array([[ 7,  8,  9],\n",
      "       [10, 11, 12]]), array([[13, 14, 15],\n",
      "       [16, 17, 18]])]\n"
     ]
    }
   ],
   "source": [
    "arr=np.array([[1,2,3],[4,5,6],[7,8,9],[10,11,12],[13,14,15],[16,17,18]])\n",
    "newarr=np.array_split(arr,3)\n",
    "print(newarr)"
   ]
  },
  {
   "cell_type": "code",
   "execution_count": 239,
   "id": "433850eb-dcb9-4163-b4fb-a75b3f44a5dc",
   "metadata": {},
   "outputs": [
    {
     "name": "stdout",
     "output_type": "stream",
     "text": [
      "[array([[ 1],\n",
      "       [ 4],\n",
      "       [ 7],\n",
      "       [10],\n",
      "       [13],\n",
      "       [16]]), array([[ 2],\n",
      "       [ 5],\n",
      "       [ 8],\n",
      "       [11],\n",
      "       [14],\n",
      "       [17]]), array([[ 3],\n",
      "       [ 6],\n",
      "       [ 9],\n",
      "       [12],\n",
      "       [15],\n",
      "       [18]])]\n"
     ]
    }
   ],
   "source": [
    "arr=np.array([[1,2,3],[4,5,6],[7,8,9],[10,11,12],[13,14,15],[16,17,18]])\n",
    "newarr=np.array_split(arr,3,axis=1)\n",
    "print(newarr)"
   ]
  },
  {
   "cell_type": "code",
   "execution_count": 240,
   "id": "c4d021f0-6333-41d6-8943-57ede981f84b",
   "metadata": {},
   "outputs": [
    {
     "name": "stdout",
     "output_type": "stream",
     "text": [
      "[array([[ 1],\n",
      "       [ 4],\n",
      "       [ 7],\n",
      "       [10],\n",
      "       [13],\n",
      "       [16]]), array([[ 2],\n",
      "       [ 5],\n",
      "       [ 8],\n",
      "       [11],\n",
      "       [14],\n",
      "       [17]]), array([[ 3],\n",
      "       [ 6],\n",
      "       [ 9],\n",
      "       [12],\n",
      "       [15],\n",
      "       [18]])]\n"
     ]
    }
   ],
   "source": [
    "newarr=np.hsplit(arr,3)\n",
    "print(newarr)"
   ]
  },
  {
   "cell_type": "code",
   "execution_count": 241,
   "id": "f1be4b29-423f-4051-8de4-ec5b5c41ea3d",
   "metadata": {},
   "outputs": [
    {
     "name": "stdout",
     "output_type": "stream",
     "text": [
      "(array([], dtype=int64),)\n"
     ]
    }
   ],
   "source": [
    "arr=np.array([1,2,3,4,5,4,4])\n",
    "x=np.where(arr==0)\n",
    "print(x)"
   ]
  },
  {
   "cell_type": "code",
   "execution_count": 242,
   "id": "0b71816b-6461-4e2d-ac5c-9c698cdd68b2",
   "metadata": {},
   "outputs": [
    {
     "name": "stdout",
     "output_type": "stream",
     "text": [
      "(array([0]),)\n"
     ]
    }
   ],
   "source": [
    "x=np.where(arr==1)\n",
    "print(x)"
   ]
  },
  {
   "cell_type": "code",
   "execution_count": 244,
   "id": "52362264-7ec7-40cc-926b-33db1c8e0497",
   "metadata": {},
   "outputs": [
    {
     "name": "stdout",
     "output_type": "stream",
     "text": [
      "(array([1, 3, 5, 6]),)\n"
     ]
    }
   ],
   "source": [
    "x=np.where(arr%2==0)\n",
    "print(x)"
   ]
  },
  {
   "cell_type": "code",
   "execution_count": 245,
   "id": "8b122d03-d76f-4a3c-9705-439119c95102",
   "metadata": {},
   "outputs": [
    {
     "name": "stdout",
     "output_type": "stream",
     "text": [
      "1\n"
     ]
    }
   ],
   "source": [
    "arr=np.array([6,7,8,9])\n",
    "x=np.searchsorted(arr,7)\n",
    "print(x)"
   ]
  },
  {
   "cell_type": "code",
   "execution_count": 246,
   "id": "b5259813-c187-45cf-a1f5-4f3d49e6418e",
   "metadata": {},
   "outputs": [
    {
     "name": "stdout",
     "output_type": "stream",
     "text": [
      "2\n"
     ]
    }
   ],
   "source": [
    "x=np.searchsorted(arr,7,side='right')\n",
    "print(x)"
   ]
  },
  {
   "cell_type": "code",
   "execution_count": 249,
   "id": "dabf4406-3958-4c70-b7dd-c9c5f5109ebe",
   "metadata": {},
   "outputs": [
    {
     "name": "stdout",
     "output_type": "stream",
     "text": [
      "[1 2 3]\n"
     ]
    }
   ],
   "source": [
    "arr1=np.array([1,3,5,7])\n",
    "x=np.searchsorted(arr1,[2,4,6])\n",
    "print(x)"
   ]
  },
  {
   "cell_type": "code",
   "execution_count": 250,
   "id": "4472d871-5b97-4b43-9d74-7649834c6e96",
   "metadata": {},
   "outputs": [
    {
     "name": "stdout",
     "output_type": "stream",
     "text": [
      "[1 2 3]\n"
     ]
    }
   ],
   "source": [
    "arr=np.array([1,3,5,7])\n",
    "x=np.searchsorted(arr,[2,4,6])\n",
    "print(x)"
   ]
  },
  {
   "cell_type": "code",
   "execution_count": 253,
   "id": "a60e6395-eba9-4db2-af46-c17613edada8",
   "metadata": {},
   "outputs": [
    {
     "name": "stdout",
     "output_type": "stream",
     "text": [
      "[0 1 2 3]\n"
     ]
    }
   ],
   "source": [
    "arr=np.array([3,2,0,1])\n",
    "print(np.sort(arr))"
   ]
  },
  {
   "cell_type": "code",
   "execution_count": 254,
   "id": "dc2b5f17-5e80-46b9-b9fe-130f6856fd12",
   "metadata": {},
   "outputs": [
    {
     "name": "stdout",
     "output_type": "stream",
     "text": [
      "['apple' 'banana' 'cherry']\n"
     ]
    }
   ],
   "source": [
    "arr=np.array(['banana','cherry','apple'])\n",
    "print(np.sort(arr))"
   ]
  },
  {
   "cell_type": "code",
   "execution_count": 256,
   "id": "488d5c43-9ec1-4aeb-aa14-342576341b60",
   "metadata": {},
   "outputs": [
    {
     "name": "stdout",
     "output_type": "stream",
     "text": [
      "[False  True  True]\n"
     ]
    }
   ],
   "source": [
    "arr=np.array([True,False,True])\n",
    "print(np.sort(arr))"
   ]
  },
  {
   "cell_type": "code",
   "execution_count": 257,
   "id": "ea9d0729-cd1f-490b-9438-8fa0f6d60b36",
   "metadata": {},
   "outputs": [
    {
     "name": "stdout",
     "output_type": "stream",
     "text": [
      "[[2 3 4]\n",
      " [0 1 5]]\n"
     ]
    }
   ],
   "source": [
    "arr=np.array([[3,2,4],[5,0,1]])\n",
    "print(np.sort(arr))"
   ]
  },
  {
   "cell_type": "code",
   "execution_count": 258,
   "id": "f2c8c574-1531-4147-82f9-b45549c69f26",
   "metadata": {},
   "outputs": [
    {
     "name": "stdout",
     "output_type": "stream",
     "text": [
      "[41 43]\n"
     ]
    }
   ],
   "source": [
    "arr=np.array([41,42,43,44])\n",
    "x=[True,False,True,False]\n",
    "newarr=arr[x]\n",
    "print(newarr)"
   ]
  },
  {
   "cell_type": "code",
   "execution_count": 259,
   "id": "be4c9245-5f2b-402f-bd7c-3b1164ae0cce",
   "metadata": {},
   "outputs": [
    {
     "name": "stdout",
     "output_type": "stream",
     "text": [
      "[False, False, True, True]\n"
     ]
    }
   ],
   "source": [
    "arr=np.array([41,42,43,44])\n",
    "filter_arr=[]\n",
    "for element in arr:\n",
    "    if element>42:\n",
    "        filter_arr.append(True)\n",
    "    else:\n",
    "        filter_arr.append(False)\n",
    "newarr=arr[filter_arr]\n",
    "print(filter_arr)"
   ]
  },
  {
   "cell_type": "code",
   "execution_count": 260,
   "id": "24c849b5-1a13-468f-98df-60bfe42e8ab9",
   "metadata": {},
   "outputs": [
    {
     "name": "stdout",
     "output_type": "stream",
     "text": [
      "[43 44]\n"
     ]
    }
   ],
   "source": [
    "print(newarr)"
   ]
  },
  {
   "cell_type": "code",
   "execution_count": 261,
   "id": "2b436055-81a4-4f56-a794-6f8603b3c3c5",
   "metadata": {},
   "outputs": [
    {
     "name": "stdout",
     "output_type": "stream",
     "text": [
      "[False, True, False, True, False, True, False]\n"
     ]
    }
   ],
   "source": [
    "arr=np.array([1,2,3,4,5,6,7])\n",
    "filter_arr=[]\n",
    "for element in arr:\n",
    "    if element %2==0:\n",
    "        filter_arr.append(True)\n",
    "    else:\n",
    "        filter_arr.append(False)\n",
    "newarr=arr[filter_arr]\n",
    "print(filter_arr)"
   ]
  },
  {
   "cell_type": "code",
   "execution_count": 262,
   "id": "ea1fdbe4-bdac-4031-90ea-cc33d9992788",
   "metadata": {},
   "outputs": [
    {
     "name": "stdout",
     "output_type": "stream",
     "text": [
      "[2 4 6]\n"
     ]
    }
   ],
   "source": [
    "print(newarr)"
   ]
  },
  {
   "cell_type": "code",
   "execution_count": 263,
   "id": "190bcc32-9d1f-49fe-8f3a-0dfa1d4cd3a6",
   "metadata": {},
   "outputs": [
    {
     "name": "stdout",
     "output_type": "stream",
     "text": [
      "[False False  True  True]\n"
     ]
    }
   ],
   "source": [
    "import numpy as np\n",
    "arr=np.array([41,42,43,44])\n",
    "filter_arr=arr>42\n",
    "newarr=arr[filter_arr]\n",
    "print(filter_arr)\n"
   ]
  },
  {
   "cell_type": "code",
   "execution_count": 264,
   "id": "85c8e0a5-695c-4604-8b98-8c67190b581f",
   "metadata": {},
   "outputs": [
    {
     "name": "stdout",
     "output_type": "stream",
     "text": [
      "[43 44]\n"
     ]
    }
   ],
   "source": [
    "print(newarr)"
   ]
  },
  {
   "cell_type": "code",
   "execution_count": 265,
   "id": "de121706-5b17-4ae1-ab8a-3e381011efa2",
   "metadata": {},
   "outputs": [
    {
     "name": "stdout",
     "output_type": "stream",
     "text": [
      "[False  True False  True False  True False]\n"
     ]
    }
   ],
   "source": [
    "arr=np.array([1,2,3,4,5,6,7])\n",
    "filter_arr=arr%2==0\n",
    "newarr=arr[filter_arr]\n",
    "print(filter_arr)"
   ]
  },
  {
   "cell_type": "code",
   "execution_count": 266,
   "id": "f05e321a-4fd5-4798-9b71-749bd5138c35",
   "metadata": {},
   "outputs": [
    {
     "name": "stdout",
     "output_type": "stream",
     "text": [
      "[2 4 6]\n"
     ]
    }
   ],
   "source": [
    "print(newarr)"
   ]
  },
  {
   "cell_type": "code",
   "execution_count": 267,
   "id": "1e7f1b9b-2aa1-4ef8-9964-6060190b2fc9",
   "metadata": {},
   "outputs": [
    {
     "name": "stdout",
     "output_type": "stream",
     "text": [
      "[15 25]\n"
     ]
    }
   ],
   "source": [
    "arr = np.array([10, 15, 20, 25, 30, 35, 40])\n",
    "\n",
    "print(arr\n",
    "[1:4:2]\n",
    ")"
   ]
  },
  {
   "cell_type": "code",
   "execution_count": null,
   "id": "248d2b47-e53b-4e56-9c8a-fb27add474d3",
   "metadata": {},
   "outputs": [],
   "source": []
  }
 ],
 "metadata": {
  "kernelspec": {
   "display_name": "Python 3 (ipykernel)",
   "language": "python",
   "name": "python3"
  },
  "language_info": {
   "codemirror_mode": {
    "name": "ipython",
    "version": 3
   },
   "file_extension": ".py",
   "mimetype": "text/x-python",
   "name": "python",
   "nbconvert_exporter": "python",
   "pygments_lexer": "ipython3",
   "version": "3.12.9"
  }
 },
 "nbformat": 4,
 "nbformat_minor": 5
}
